{
 "cells": [
  {
   "cell_type": "code",
   "execution_count": null,
   "id": "8497a4b2-a020-4fba-8539-bc1361a34023",
   "metadata": {
    "editable": true,
    "init_cell": true,
    "jupyter": {
     "source_hidden": true
    },
    "scene__Default Scene": true,
    "slideshow": {
     "slide_type": "skip"
    },
    "tags": [
     "remove-cell",
     "ActiveScene"
    ]
   },
   "outputs": [],
   "source": [
    "%%capture\n",
    "%load_ext autoreload\n",
    "%autoreload 2\n",
    "%matplotlib inline\n",
    "%load_ext training_ml_control\n",
    "%set_random_seed 12"
   ]
  },
  {
   "cell_type": "code",
   "execution_count": null,
   "id": "f7339d3d-eae4-4e05-a7fb-050df96782e7",
   "metadata": {
    "init_cell": true,
    "jupyter": {
     "source_hidden": true
    },
    "scene__Default Scene": true,
    "slideshow": {
     "slide_type": "skip"
    },
    "tags": [
     "remove-cell",
     "ActiveScene"
    ]
   },
   "outputs": [],
   "source": [
    "%presentation_style"
   ]
  },
  {
   "cell_type": "code",
   "execution_count": null,
   "id": "6e892149-098a-42c7-b554-bbb83918888d",
   "metadata": {
    "editable": true,
    "init_cell": true,
    "jupyter": {
     "source_hidden": true
    },
    "scene__Default Scene": true,
    "slideshow": {
     "slide_type": ""
    },
    "tags": [
     "ActiveScene"
    ]
   },
   "outputs": [],
   "source": [
    "import warnings\n",
    "\n",
    "warnings.simplefilter(\"ignore\", UserWarning)\n",
    "warnings.simplefilter(\"ignore\", FutureWarning)"
   ]
  },
  {
   "cell_type": "code",
   "execution_count": null,
   "id": "cd78d373-34af-4b57-8d16-dbf6f662331d",
   "metadata": {
    "editable": true,
    "init_cell": true,
    "jupyter": {
     "source_hidden": true
    },
    "scene__Default Scene": true,
    "slideshow": {
     "slide_type": "skip"
    },
    "tags": [
     "remove-cell",
     "ActiveScene"
    ]
   },
   "outputs": [],
   "source": [
    "%autoreload\n",
    "\n",
    "import casadi\n",
    "import matplotlib.pyplot as plt\n",
    "import numpy as np\n",
    "import seaborn as sns\n",
    "import pykoopman as pk\n",
    "import pysindy as ps\n",
    "from do_mpc.simulator import Simulator\n",
    "from sklearn.metrics import mean_squared_error\n",
    "from scipy.signal import periodogram\n",
    "from scipy.fft import rfft, rfftfreq\n",
    "\n",
    "from training_ml_control.control import (\n",
    "    ConstantController,\n",
    "    SineController,\n",
    "    SumOfSineController,\n",
    "    PRBSController,\n",
    "    SchroederSweepController,\n",
    "    RandomController,\n",
    ")\n",
    "from training_ml_control.control import (\n",
    "    build_mpc_controller,\n",
    ")\n",
    "from training_ml_control.environments import (\n",
    "    create_pendulum_environment,\n",
    "    simulate_environment,\n",
    ")\n",
    "from training_ml_control.nb_utils import show_video, display_array\n",
    "from training_ml_control.plots import animate_pendulum_simulation\n",
    "from training_ml_control.models import build_sindy_model\n",
    "\n",
    "sns.set_theme()\n",
    "plt.rcParams[\"figure.figsize\"] = [12, 8]\n",
    "warnings.simplefilter(\"ignore\", ExperimentalWarning)"
   ]
  },
  {
   "cell_type": "markdown",
   "id": "67ad3b3e-67cf-4b3d-875d-96496d23d193",
   "metadata": {
    "editable": true,
    "slideshow": {
     "slide_type": "slide"
    },
    "tags": [
     "remove-cell"
    ]
   },
   "source": [
    "```{figure} ./_static/images/aai-institute-cover.png\n",
    ":width: 90%\n",
    ":align: center\n",
    ":name: aai-institute\n",
    "```"
   ]
  },
  {
   "cell_type": "markdown",
   "id": "77372629-782f-44b6-ad24-baedbca2fbc2",
   "metadata": {
    "editable": true,
    "slideshow": {
     "slide_type": ""
    }
   },
   "source": [
    "# Practice\n",
    "\n",
    "In this section, you will be tasked with solving a control problem from start to finish.\n",
    "\n",
    "Feel free to proceed as you wish. You could use a mathematical model or learn a model from data and then attempt to control it."
   ]
  },
  {
   "cell_type": "markdown",
   "id": "c63180f2-e769-4c43-999e-5e46924c1fbb",
   "metadata": {},
   "source": [
    "We will be using the [Pendulum](https://gymnasium.farama.org/environments/classic_control/pendulum/) environment from [gymnasium](https://gymnasium.farama.org/).\n",
    "\n",
    "The system consists of a pendulum attached at one end to a fixed point, and the other end being free. The pendulum starts in a random position and we can apply torque to rotate the free end.\n",
    "\n",
    "As seen below, the pendulum is represented in red and the joint is represented in black."
   ]
  },
  {
   "cell_type": "code",
   "execution_count": null,
   "id": "6fd6d0c6-1fd0-4b74-8205-330cfebb5609",
   "metadata": {},
   "outputs": [],
   "source": [
    "env = create_pendulum_environment()\n",
    "result = simulate_environment(env)\n",
    "show_video(result.frames, fps=env.metadata[\"render_fps\"])"
   ]
  },
  {
   "cell_type": "markdown",
   "id": "f8c9343e-b3fa-43d1-8551-3aa73abe2e08",
   "metadata": {},
   "source": [
    "The environments allows the use of the following control (action):\n",
    "\n",
    "| Index | Action                              | Unit      | Min | Max |\n",
    "|-----|---------------------------------------|-----------|-----|-----|\n",
    "| 0   | apply torque to the actuated joint | torque (N m) |-2   | 2   |\n",
    "\n",
    "and the following measurements (observation):\n",
    "\t\n",
    "\n",
    "| Index | Observation                  | Min               | Max               |\n",
    "|-----|--------------------------------|---------------------|-------------------|\n",
    "| 0   | $\\cos(\\theta)$                   | $-1$           | $1$          |\n",
    "| 1   | $\\sin(\\theta)$                   | $-1$           | $1$          |\n",
    "| 2   | $\\dot{\\theta}$             | $-8$ | $8$ |\n"
   ]
  },
  {
   "cell_type": "markdown",
   "id": "a2d7249e-fc1e-42e6-81eb-4a77775c9ac4",
   "metadata": {},
   "source": [
    "## First Goal\n",
    "\n",
    "The first goal is to apply torques on the actuated joint to swing the pendulum into an upright position and keep it there.\n",
    "\n",
    "## Second Goal\n",
    "\n",
    "The second goal is to apply torques on the actuated joint to swing the pendulum as fast as possible."
   ]
  },
  {
   "cell_type": "markdown",
   "id": "4f0a9489-11e2-4642-a291-393d9eb00245",
   "metadata": {},
   "source": [
    "# Exercise 1"
   ]
  },
  {
   "cell_type": "markdown",
   "id": "1141f1a7-64d9-436b-bd08-45bc823232a6",
   "metadata": {
    "editable": true,
    "slideshow": {
     "slide_type": ""
    }
   },
   "source": [
    "::::{exercise} Pendulum Model\n",
    ":label: pendulum-model-exercise\n",
    "\n",
    "Use one of the previously seen methods to learn a model of the system from data.\n",
    "\n",
    ":::{hint}\n",
    "If you would like to use a mathematical model of the system either for the control or just as help when learning a model, then please refer to [the following page](https://en.wikipedia.org/wiki/Pendulum_(mechanics)) for the equations.\n",
    ":::\n",
    "::::"
   ]
  },
  {
   "cell_type": "markdown",
   "id": "febdaf0c-b8dc-412c-af17-0f685cd2d81e",
   "metadata": {},
   "source": [
    ":::{solution} pendulum-model-exercise\n",
    ":::"
   ]
  },
  {
   "cell_type": "code",
   "execution_count": null,
   "id": "c72b43f0-abea-4a7e-ace1-b09c9a848278",
   "metadata": {},
   "outputs": [],
   "source": [
    "# Your solution here"
   ]
  },
  {
   "cell_type": "markdown",
   "id": "4be8b371-b823-4f74-ba3c-2b415632dfe4",
   "metadata": {
    "editable": true,
    "jp-MarkdownHeadingCollapsed": true,
    "slideshow": {
     "slide_type": ""
    },
    "tags": [
     "remove-cell"
    ]
   },
   "source": [
    "## Solution"
   ]
  },
  {
   "cell_type": "markdown",
   "id": "d503889d-7d14-4d7b-9f55-78099eb5e442",
   "metadata": {},
   "source": [
    ":::{solution-start} pendulum-model-exercise\n",
    ":class: dropdown\n",
    "\n",
    "**Work in Progress**\n",
    ":::"
   ]
  },
  {
   "cell_type": "markdown",
   "id": "ec1d822b-743b-4f2a-823d-0f4b6c59b3b5",
   "metadata": {},
   "source": [
    "**Data**"
   ]
  },
  {
   "cell_type": "code",
   "execution_count": null,
   "id": "31a17c08-d300-4fe0-81df-d732c2a6ee44",
   "metadata": {
    "editable": true,
    "jupyter": {
     "source_hidden": true
    },
    "slideshow": {
     "slide_type": ""
    }
   },
   "outputs": [],
   "source": [
    "env = create_pendulum_environment(max_steps=1000)\n",
    "\n",
    "observations = dict()\n",
    "actions = dict()\n",
    "frames = dict()\n",
    "\n",
    "controllers = {\n",
    "    \"Sinusoid\": SineController(env, np.asarray([0.5 * env.max_torque]), frequency=1),\n",
    "    \"Schroeder Sweep\": SchroederSweepController(\n",
    "        env,\n",
    "        n_time_steps=1000,\n",
    "        n_harmonics=10,\n",
    "        frequency=10,\n",
    "    ),\n",
    "    \"PRBS\": PRBSController(np.asarray([env.max_torque])),\n",
    "}\n",
    "\n",
    "for controller_name, controller in controllers.items():\n",
    "    result = simulate_environment(env, controller=controller)\n",
    "    observations[controller_name] = result.observations\n",
    "    actions[controller_name] = result.actions\n",
    "    frames[controller_name] = result.frames"
   ]
  },
  {
   "cell_type": "code",
   "execution_count": null,
   "id": "f110a03b-c0a1-46bc-a34f-288d07e91dc3",
   "metadata": {
    "jupyter": {
     "source_hidden": true
    }
   },
   "outputs": [],
   "source": [
    "fig, axes = plt.subplots(2, 2, sharex=True)\n",
    "axes = axes.ravel()\n",
    "for i, label in enumerate([r\"$\\cos(\\theta)$\", r\"$\\sin(\\theta)$\", r\"$\\dot{\\theta}$\"]):\n",
    "    for j, (controller_name, obs) in enumerate(observations.items()):\n",
    "        t = np.arange(len(obs[:])) * env.dt\n",
    "        axes[i].plot(t, obs[:, i], label=controller_name)\n",
    "        axes[i].set_xlabel(\"Time\")\n",
    "        axes[i].set_title(label)\n",
    "        axes[i].legend()\n",
    "fig.tight_layout()\n",
    "fig.show();"
   ]
  },
  {
   "cell_type": "code",
   "execution_count": null,
   "id": "d1b7513e-5fca-4ff6-8415-717eca4ee8d6",
   "metadata": {
    "jupyter": {
     "source_hidden": true
    }
   },
   "outputs": [],
   "source": [
    "fig, axes = plt.subplots(2, 2, sharex=True)\n",
    "axes = axes.ravel()\n",
    "for i, label in enumerate([r\"$\\cos(\\theta)$\", r\"$\\sin(\\theta)$\", r\"$\\dot{\\theta}$\"]):\n",
    "    for j, (controller_name, obs) in enumerate(observations.items()):\n",
    "        f, Pxx_den = periodogram(obs[:, i], 1 / env.dt)\n",
    "        axes[i].semilogy(f, Pxx_den, label=controller_name)\n",
    "        axes[i].set_xlabel(\"frequency [Hz]\")\n",
    "        axes[i].set_ylabel(\"Power Spectral Density [V**2/Hz]\")\n",
    "        axes[i].set_title(label)\n",
    "        axes[i].legend()\n",
    "fig.tight_layout()\n",
    "plt.show();"
   ]
  },
  {
   "cell_type": "code",
   "execution_count": null,
   "id": "1449f263-edaf-4ad2-bc56-0e09af7e50ba",
   "metadata": {
    "jupyter": {
     "source_hidden": true
    }
   },
   "outputs": [],
   "source": [
    "training_controller_name = \"PRBS\"\n",
    "testing_controller_name = \"Sinusoid\"\n",
    "\n",
    "X_train = observations[training_controller_name][:-1].copy()\n",
    "U_train = actions[training_controller_name].copy()\n",
    "t_train = np.arange(0, len(X_train)) * env.dt\n",
    "\n",
    "X_test = observations[testing_controller_name][:-1].copy()\n",
    "U_test = actions[testing_controller_name].copy()\n",
    "t_test = np.arange(0, len(X_test)) * env.dt"
   ]
  },
  {
   "cell_type": "markdown",
   "id": "9aa6b096-eb99-4393-9494-8856129795a0",
   "metadata": {},
   "source": [
    "**SINDYc**"
   ]
  },
  {
   "cell_type": "code",
   "execution_count": null,
   "id": "6241990a-4daf-40c5-a7ca-00e7e6ec5dbc",
   "metadata": {
    "jupyter": {
     "source_hidden": true
    }
   },
   "outputs": [],
   "source": [
    "optimizer = ps.STLSQ(threshold=0.9)\n",
    "feature_library = ps.PolynomialLibrary(degree=2)\n",
    "sindy_model = ps.SINDy(optimizer=optimizer, feature_library=feature_library)\n",
    "sindy_model.fit(X_train, u=U_train, t=t_train)"
   ]
  },
  {
   "cell_type": "code",
   "execution_count": null,
   "id": "9abd56c2-8d09-4477-8675-0830aa570553",
   "metadata": {
    "jupyter": {
     "source_hidden": true
    }
   },
   "outputs": [],
   "source": [
    "sindy_model.print()"
   ]
  },
  {
   "cell_type": "code",
   "execution_count": null,
   "id": "0e2f9af6-7e66-43b2-b37a-22652772110f",
   "metadata": {
    "editable": true,
    "jupyter": {
     "source_hidden": true
    },
    "slideshow": {
     "slide_type": ""
    }
   },
   "outputs": [],
   "source": [
    "print(\n",
    "    \"Model score: %f\"\n",
    "    % sindy_model.score(X_test, u=U_test, t=env.dt, metric=mean_squared_error)\n",
    ")"
   ]
  },
  {
   "cell_type": "code",
   "execution_count": null,
   "id": "4272a27f-d077-49f6-89bd-d01315a18a3e",
   "metadata": {
    "editable": true,
    "jupyter": {
     "source_hidden": true
    },
    "scrolled": true,
    "slideshow": {
     "slide_type": ""
    }
   },
   "outputs": [],
   "source": [
    "X_sindy = sindy_model.simulate(X_test[0], t_test, u=U_test)\n",
    "X_sindy = np.vstack([X_test[0][np.newaxis, :], X_sindy])"
   ]
  },
  {
   "cell_type": "code",
   "execution_count": null,
   "id": "55a5a11d-7737-4084-af3a-c44c912133af",
   "metadata": {
    "jupyter": {
     "source_hidden": true
    }
   },
   "outputs": [],
   "source": [
    "fig, axes = plt.subplots(2, X_test.shape[1] // 2 + X_test.shape[1] % 2, sharex=True)\n",
    "axes = axes.ravel()\n",
    "for i in range(X_test.shape[1]):\n",
    "    axes[i].plot(t_test, X_test[:, i], \"k\", label=\"Measured\")\n",
    "    axes[i].plot(t_test, X_sindy[:, i], \"r--\", label=\"Model\")\n",
    "    axes[i].legend()\n",
    "    axes[i].set(xlabel=\"t\", ylabel=\"$x_{}$\".format(i + 1))\n",
    "\n",
    "fig.tight_layout()\n",
    "fig.show();"
   ]
  },
  {
   "cell_type": "markdown",
   "id": "764fc80f-2d09-461e-b657-04601435e81b",
   "metadata": {},
   "source": [
    "The results seem to be good, at least for up to a certain number of steps which should be good enough for our purpose. We could also use hyper-parameter optimization to find the best model. However, we have to be careful with overfitting."
   ]
  },
  {
   "cell_type": "markdown",
   "id": "640b876f-18ad-4552-80c3-9d5165687308",
   "metadata": {},
   "source": [
    "**EDMDc**\n",
    "\n",
    "Let's also use DMD to fit a model in order to select the best model of the two methods."
   ]
  },
  {
   "cell_type": "code",
   "execution_count": null,
   "id": "6f7bb112-b7ed-459c-ad70-21007e1380f7",
   "metadata": {
    "editable": true,
    "jupyter": {
     "source_hidden": true
    },
    "slideshow": {
     "slide_type": ""
    }
   },
   "outputs": [],
   "source": [
    "regressor = pk.regression.EDMDc()\n",
    "observables = pk.observables.Polynomial(degree=2)\n",
    "dmd_model = pk.Koopman(observables=observables, regressor=regressor)\n",
    "dmd_model.fit(X_train, u=U_train, dt=env.dt)"
   ]
  },
  {
   "cell_type": "code",
   "execution_count": null,
   "id": "6d8438ce-2e41-40ee-830e-f55bbd2b3a58",
   "metadata": {
    "jupyter": {
     "source_hidden": true
    }
   },
   "outputs": [],
   "source": [
    "X_dmd = dmd_model.simulate(X_test[0], U_test, n_steps=X_test.shape[0] - 1)\n",
    "X_dmd = np.vstack([X_test[0][np.newaxis, :], X_dmd])"
   ]
  },
  {
   "cell_type": "code",
   "execution_count": null,
   "id": "f0f9f8b5-e79d-4537-9667-297f3ab7e3a9",
   "metadata": {
    "jupyter": {
     "source_hidden": true
    }
   },
   "outputs": [],
   "source": [
    "print(\"Model score: %f\" % mean_squared_error(X_test, X_dmd))"
   ]
  },
  {
   "cell_type": "code",
   "execution_count": null,
   "id": "4f2c9d85-a27e-4a28-a7f4-684f467676e3",
   "metadata": {
    "editable": true,
    "jupyter": {
     "source_hidden": true
    },
    "slideshow": {
     "slide_type": ""
    }
   },
   "outputs": [],
   "source": [
    "fig, axes = plt.subplots(2, X_test.shape[1] // 2 + X_test.shape[1] % 2, sharex=True)\n",
    "axes = axes.ravel()\n",
    "for i in range(X_test.shape[1]):\n",
    "    axes[i].plot(t_test, X_test[:, i], \"k\", label=\"Measured\")\n",
    "    axes[i].plot(t_test, X_dmd[:, i], \"r--\", label=\"Model\")\n",
    "    axes[i].legend()\n",
    "    axes[i].set(xlabel=\"t\", ylabel=\"$x_{}$\".format(i + 1))\n",
    "\n",
    "fig.tight_layout()\n",
    "fig.show();"
   ]
  },
  {
   "cell_type": "markdown",
   "id": "249e7fb9-7d2e-4dee-bbf9-3fd329ec9a9f",
   "metadata": {},
   "source": [
    "The results don't seem good enough. We could also use hyper-parameter optimization to find the best model. However, we have to be careful with overfitting."
   ]
  },
  {
   "cell_type": "markdown",
   "id": "c9a96be2-c516-48cb-8fb4-6cc09990d9ee",
   "metadata": {},
   "source": [
    "We will use the sindy model for the second exercise."
   ]
  },
  {
   "cell_type": "markdown",
   "id": "988f7987-cb08-4067-a28f-9c263b4cc345",
   "metadata": {},
   "source": [
    ":::{solution-end}\n",
    ":::"
   ]
  },
  {
   "cell_type": "markdown",
   "id": "03590496-8456-4bee-a749-89ecef1fa891",
   "metadata": {},
   "source": [
    "# Exercise 2"
   ]
  },
  {
   "cell_type": "markdown",
   "id": "6ff68598-62c6-4bfb-a1d7-eb45263b0b59",
   "metadata": {},
   "source": [
    "::::{exercise} Pendulum Control\n",
    ":label: pendulum-control-exercise\n",
    "\n",
    "Use the learned model and synthesize a controller to achieve the goals described above.\n",
    "\n",
    "::::"
   ]
  },
  {
   "cell_type": "markdown",
   "id": "b819b2c4-0633-4a85-88dc-31336ac876f1",
   "metadata": {},
   "source": [
    ":::{solution} pendulum-control-exercise\n",
    ":::"
   ]
  },
  {
   "cell_type": "code",
   "execution_count": null,
   "id": "94bc22d1-5018-4dff-b1b1-935d546f23d5",
   "metadata": {},
   "outputs": [],
   "source": [
    "# Your solution here"
   ]
  },
  {
   "cell_type": "markdown",
   "id": "fe7b29e0-64c7-4383-b16f-c28dc32c76d8",
   "metadata": {
    "editable": true,
    "jp-MarkdownHeadingCollapsed": true,
    "slideshow": {
     "slide_type": ""
    },
    "tags": [
     "remove-cell"
    ]
   },
   "source": [
    "## Solution"
   ]
  },
  {
   "cell_type": "markdown",
   "id": "056c24b8-1a73-4555-a1bd-f5deeae860e6",
   "metadata": {},
   "source": [
    ":::{solution-start} pendulum-control-exercise\n",
    ":class: dropdown\n",
    ":::"
   ]
  },
  {
   "cell_type": "markdown",
   "id": "64ee8611-1732-40de-ac31-25c5167acae5",
   "metadata": {},
   "source": [
    "For this exercise, we will use the SINDYc model with along with an MPC controller to achieve our control objectives.\n",
    "\n",
    "For that we have to first convert the SINDYc model to a CasADi model in order to use it with do-mpc."
   ]
  },
  {
   "cell_type": "markdown",
   "id": "07c8e2d4-f0d6-46d1-9a60-93bf3d8efc8f",
   "metadata": {},
   "source": [
    "**Model**"
   ]
  },
  {
   "cell_type": "code",
   "execution_count": null,
   "id": "6b2243a9-1391-48e3-ba9d-855a1997795c",
   "metadata": {
    "jupyter": {
     "source_hidden": true
    }
   },
   "outputs": [],
   "source": [
    "mpc_model = build_sindy_model(sindy_model)"
   ]
  },
  {
   "cell_type": "markdown",
   "id": "4f8b95d2-b704-4816-8dcb-06445d8fd299",
   "metadata": {},
   "source": [
    "To make sure that our model is correct, we simulate the system using it"
   ]
  },
  {
   "cell_type": "code",
   "execution_count": null,
   "id": "b7f3ddc3-0735-4aab-b0bb-ebea13bb9ca4",
   "metadata": {
    "jupyter": {
     "source_hidden": true
    }
   },
   "outputs": [],
   "source": [
    "simulator = Simulator(mpc_model)\n",
    "params_simulator = {\n",
    "    \"integration_tool\": \"idas\",\n",
    "    \"abstol\": 1e-8,\n",
    "    \"reltol\": 1e-8,\n",
    "    \"t_step\": env.dt,\n",
    "}\n",
    "simulator.set_param(**params_simulator)\n",
    "simulator.setup()"
   ]
  },
  {
   "cell_type": "code",
   "execution_count": null,
   "id": "6fbc369c-4d04-4a99-ab52-f48b840d30c4",
   "metadata": {
    "jupyter": {
     "source_hidden": true
    }
   },
   "outputs": [],
   "source": [
    "%%capture\n",
    "x0 = X_test[0]\n",
    "\n",
    "simulator.reset_history()\n",
    "simulator.x0 = x0\n",
    "\n",
    "for u in U_test:\n",
    "    simulator.make_step(u.reshape((-1, 1)))"
   ]
  },
  {
   "cell_type": "code",
   "execution_count": null,
   "id": "dba337e7-fe82-4d66-9c5a-58274073e956",
   "metadata": {
    "jupyter": {
     "source_hidden": true
    }
   },
   "outputs": [],
   "source": [
    "animate_pendulum_simulation(simulator.data)"
   ]
  },
  {
   "cell_type": "markdown",
   "id": "be622c5f-b67a-4289-811b-43127b042fe2",
   "metadata": {},
   "source": [
    "**Controller**"
   ]
  },
  {
   "cell_type": "code",
   "execution_count": null,
   "id": "b256a42a-cbfc-4a91-93f3-323caaf992c1",
   "metadata": {
    "jupyter": {
     "source_hidden": true
    }
   },
   "outputs": [],
   "source": [
    "setpoint = np.array([1.0, 0.0, 0.0])\n",
    "cost = casadi.norm_2(mpc_model.x.cat - setpoint) - 100 * mpc_model.x[\"x0\"]\n",
    "\n",
    "terminal_cost = cost\n",
    "stage_cost = cost\n",
    "print(f\"Stage Cost = {stage_cost}\")\n",
    "print(f\"Terminal Cost = {terminal_cost}\")"
   ]
  },
  {
   "cell_type": "code",
   "execution_count": null,
   "id": "f3d05114-2831-4fcb-acaa-2ba3f2be3d59",
   "metadata": {
    "jupyter": {
     "source_hidden": true
    }
   },
   "outputs": [],
   "source": [
    "u_limits = {\"u0\": np.array([-2, 2])}\n",
    "u_penalty = {\"u0\": 0.00}\n",
    "x_limits = {\"x0\": np.array([-1, 1]), \"x1\": np.array([-1, 1]), \"x2\": np.array([-8, 8])}"
   ]
  },
  {
   "cell_type": "code",
   "execution_count": null,
   "id": "a881458d-1bc9-4cf8-9143-ee37a4f13fee",
   "metadata": {
    "jupyter": {
     "source_hidden": true
    }
   },
   "outputs": [],
   "source": [
    "mpc_controller = build_mpc_controller(\n",
    "    model=mpc_model,\n",
    "    t_step=env.dt,\n",
    "    n_horizon=50,\n",
    "    stage_cost=stage_cost,\n",
    "    terminal_cost=terminal_cost,\n",
    "    x_limits=x_limits,\n",
    "    u_penalty=u_penalty,\n",
    "    u_limits=u_limits,\n",
    ")"
   ]
  },
  {
   "cell_type": "markdown",
   "id": "e0f2fb24-ec1b-4f87-aa37-908d220ff4e0",
   "metadata": {},
   "source": [
    "**Simulation**"
   ]
  },
  {
   "cell_type": "code",
   "execution_count": null,
   "id": "6c4d867c-1eb0-4859-9694-314103585c0d",
   "metadata": {
    "jupyter": {
     "source_hidden": true
    }
   },
   "outputs": [],
   "source": [
    "%%capture\n",
    "\n",
    "mpc_controller.reset_history()\n",
    "simulator.reset_history()\n",
    "\n",
    "x = np.zeros((3, 1))\n",
    "# random angle\n",
    "theta0 = np.random.uniform(low=-np.pi, high=np.pi)\n",
    "# cosine and sine\n",
    "x[0] = np.cos(theta0)\n",
    "x[1] = np.sin(theta0)\n",
    "# angular velocity\n",
    "x[2] = np.random.uniform(low=-8, high=8)\n",
    "\n",
    "simulator.x0 = x\n",
    "mpc_controller.x0 = x\n",
    "mpc_controller.set_initial_guess()\n",
    "\n",
    "for k in range(100):\n",
    "    u = mpc_controller.make_step(x)\n",
    "    x = simulator.make_step(u)"
   ]
  },
  {
   "cell_type": "code",
   "execution_count": null,
   "id": "e46bd3ed-8a22-48f2-beab-b63e8c69b3fe",
   "metadata": {
    "jupyter": {
     "source_hidden": true
    }
   },
   "outputs": [],
   "source": [
    "animate_pendulum_simulation(mpc_controller.data)"
   ]
  },
  {
   "cell_type": "markdown",
   "id": "4936afad-5781-49eb-b755-4ff106e5c428",
   "metadata": {},
   "source": [
    "**Environment**"
   ]
  },
  {
   "cell_type": "code",
   "execution_count": null,
   "id": "a3d8f3d4-0a0d-425e-9d08-326e15de4c69",
   "metadata": {
    "jupyter": {
     "source_hidden": true
    }
   },
   "outputs": [],
   "source": [
    "class MPCController:\n",
    "    def __init__(self, mpc: MPC) -> None:\n",
    "        self.mpc = mpc\n",
    "        self.mpc.reset_history()\n",
    "        x0 = np.zeros((3, 1))\n",
    "        # random angle\n",
    "        theta0 = np.random.uniform(low=-np.pi, high=np.pi)\n",
    "        # cosine and sine\n",
    "        x0[0] = np.cos(theta0)\n",
    "        x0[1] = np.sin(theta0)\n",
    "        # angular velocity\n",
    "        x0[2] = np.random.uniform(low=-8, high=8)\n",
    "        self.mpc.x0 = x0\n",
    "        self.mpc.set_initial_guess()\n",
    "\n",
    "    def act(self, observation: NDArray) -> NDArray:\n",
    "        return self.mpc.make_step(observation.reshape(-1, 1)).ravel()"
   ]
  },
  {
   "cell_type": "code",
   "execution_count": null,
   "id": "adaab80b-75dd-48b4-8c02-e24316b9e1c4",
   "metadata": {
    "jupyter": {
     "source_hidden": true
    }
   },
   "outputs": [],
   "source": [
    "%%capture\n",
    "controller = MPCController(mpc_controller)\n",
    "results = simulate_environment(env, max_steps=100, controller=controller)"
   ]
  },
  {
   "cell_type": "code",
   "execution_count": null,
   "id": "fc0a22f0-c146-4b85-bfe4-665c3147ea9c",
   "metadata": {
    "jupyter": {
     "source_hidden": true
    }
   },
   "outputs": [],
   "source": [
    "show_video(results.frames, fps=env.metadata[\"render_fps\"])"
   ]
  },
  {
   "cell_type": "code",
   "execution_count": null,
   "id": "391ff9a2-6b31-4597-b81a-26202ed62cde",
   "metadata": {
    "jupyter": {
     "source_hidden": true
    }
   },
   "outputs": [],
   "source": [
    "animate_pendulum_simulation(mpc_controller.data)"
   ]
  },
  {
   "cell_type": "markdown",
   "id": "9edc9cb5-4011-4faa-817c-8446b89b0010",
   "metadata": {},
   "source": [
    ":::{solution-end}\n",
    ":::"
   ]
  }
 ],
 "metadata": {
  "kernelspec": {
   "display_name": "Python 3 (ipykernel)",
   "language": "python",
   "name": "python3"
  },
  "language_info": {
   "codemirror_mode": {
    "name": "ipython",
    "version": 3
   },
   "file_extension": ".py",
   "mimetype": "text/x-python",
   "name": "python",
   "nbconvert_exporter": "python",
   "pygments_lexer": "ipython3",
   "version": "3.10.12"
  },
  "scenes_data": {
   "active_scene": "Default Scene",
   "init_scene": "Default Scene",
   "scenes": [
    "Default Scene"
   ]
  }
 },
 "nbformat": 4,
 "nbformat_minor": 5
}
