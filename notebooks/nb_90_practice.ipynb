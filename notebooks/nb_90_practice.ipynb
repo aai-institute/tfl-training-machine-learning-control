{
 "cells": [
  {
   "cell_type": "code",
   "execution_count": null,
   "id": "8497a4b2-a020-4fba-8539-bc1361a34023",
   "metadata": {
    "editable": true,
    "init_cell": true,
    "scene__Default Scene": true,
    "slideshow": {
     "slide_type": "skip"
    },
    "tags": [
     "remove-cell",
     "ActiveScene"
    ]
   },
   "outputs": [],
   "source": [
    "%%capture\n",
    "%load_ext autoreload\n",
    "%autoreload 2\n",
    "%matplotlib inline\n",
    "%load_ext training_ml_control\n",
    "%set_random_seed 12"
   ]
  },
  {
   "cell_type": "code",
   "execution_count": null,
   "id": "f7339d3d-eae4-4e05-a7fb-050df96782e7",
   "metadata": {
    "init_cell": true,
    "scene__Default Scene": true,
    "slideshow": {
     "slide_type": "skip"
    },
    "tags": [
     "remove-cell",
     "ActiveScene"
    ]
   },
   "outputs": [],
   "source": [
    "%presentation_style"
   ]
  },
  {
   "cell_type": "code",
   "execution_count": null,
   "id": "6e892149-098a-42c7-b554-bbb83918888d",
   "metadata": {
    "init_cell": true,
    "scene__Default Scene": true,
    "tags": [
     "ActiveScene"
    ]
   },
   "outputs": [],
   "source": [
    "import warnings\n",
    "\n",
    "warnings.simplefilter(\"ignore\", UserWarning)"
   ]
  },
  {
   "cell_type": "code",
   "execution_count": null,
   "id": "cd78d373-34af-4b57-8d16-dbf6f662331d",
   "metadata": {
    "init_cell": true,
    "scene__Default Scene": true,
    "slideshow": {
     "slide_type": "skip"
    },
    "tags": [
     "remove-cell",
     "ActiveScene"
    ]
   },
   "outputs": [],
   "source": [
    "%autoreload\n",
    "\n",
    "import matplotlib.pyplot as plt\n",
    "import numpy as np\n",
    "import seaborn as sns\n",
    "import pykoopman as pk\n",
    "import pysindy as ps\n",
    "\n",
    "from training_ml_control.control import (\n",
    "    ConstantController,\n",
    "    SineController,\n",
    "    SumOfSineController,\n",
    "    RandomController,\n",
    ")\n",
    "from training_ml_control.environments import (\n",
    "    create_acrobot_environment,\n",
    "    simulate_environment,\n",
    ")\n",
    "from training_ml_control.nb_utils import show_video, display_array\n",
    "\n",
    "sns.set_theme()\n",
    "plt.rcParams[\"figure.figsize\"] = [12, 8]"
   ]
  },
  {
   "cell_type": "markdown",
   "id": "67ad3b3e-67cf-4b3d-875d-96496d23d193",
   "metadata": {
    "editable": true,
    "slideshow": {
     "slide_type": "slide"
    },
    "tags": [
     "remove-cell"
    ]
   },
   "source": [
    ":::{figure} ./_static/images/aai-institute-cover.png\n",
    ":width: 90%\n",
    ":align: center\n",
    "---\n",
    "name: aai-institute\n",
    "---\n",
    ":::"
   ]
  },
  {
   "cell_type": "markdown",
   "id": "77372629-782f-44b6-ad24-baedbca2fbc2",
   "metadata": {},
   "source": [
    "# Practice\n",
    "\n",
    "In this section, you will be tasked with solving a control problem from start to finish.\n",
    "\n",
    "Feel free to proceed as you wish. You could use a mathematical model or learn a model from data and then attempt to control it."
   ]
  },
  {
   "cell_type": "markdown",
   "id": "c63180f2-e769-4c43-999e-5e46924c1fbb",
   "metadata": {},
   "source": [
    ":::{exercise-start} Acrobot\n",
    ":label: acrobot-exercise\n",
    "\n",
    "We will be using a modified version of the [Acrobot](https://gymnasium.farama.org/environments/classic_control/acrobot/) environment from [gymnasium](https://gymnasium.farama.org/).\n",
    "\n",
    "The system consists of two links connected linearly to form a chain, with one end of the chain fixed. The joint between the two links is actuated. \n",
    "\n",
    "As seen below, the links are represented in blue and are connected by two joints represented in green (or yellow?).\n",
    "\n",
    "If you would like to use a mathematical model of the system, then please refer to [the following page](http://incompleteideas.net/book/11/node4.html) for the equations.\n",
    "\n",
    "**First Goal**\n",
    "\n",
    "The first goal is to apply torques on the actuated joint to swing the free end of the linear chain above a (configurable) target height (black horizontal line above system) while starting from the initial state of hanging downwards.\n",
    "\n",
    "**Second Goal**\n",
    "\n",
    "The second goal is to apply torques on the actuated joint to swing the free end of the linear chain as fast as possible while remaining below the target height.\n",
    ":::"
   ]
  },
  {
   "cell_type": "code",
   "execution_count": null,
   "id": "20556f5c-61e5-46b4-9cf1-9b8097ec430e",
   "metadata": {},
   "outputs": [],
   "source": [
    "env = create_acrobot_environment()\n",
    "result = simulate_environment(env)\n",
    "show_video(result.frames, fps=env.metadata[\"render_fps\"])"
   ]
  },
  {
   "cell_type": "markdown",
   "id": "1141f1a7-64d9-436b-bd08-45bc823232a6",
   "metadata": {},
   "source": [
    ":::{exercise-end}\n",
    ":::"
   ]
  },
  {
   "cell_type": "code",
   "execution_count": null,
   "id": "c72b43f0-abea-4a7e-ace1-b09c9a848278",
   "metadata": {},
   "outputs": [],
   "source": [
    "# Your solution here"
   ]
  },
  {
   "cell_type": "markdown",
   "id": "d503889d-7d14-4d7b-9f55-78099eb5e442",
   "metadata": {},
   "source": [
    ":::{solution} acrobot-exercise\n",
    ":class: dropdown\n",
    "\n",
    "**Work in Progress**\n",
    ":::"
   ]
  }
 ],
 "metadata": {
  "kernelspec": {
   "display_name": "Python 3 (ipykernel)",
   "language": "python",
   "name": "python3"
  },
  "language_info": {
   "codemirror_mode": {
    "name": "ipython",
    "version": 3
   },
   "file_extension": ".py",
   "mimetype": "text/x-python",
   "name": "python",
   "nbconvert_exporter": "python",
   "pygments_lexer": "ipython3",
   "version": "3.10.12"
  },
  "scenes_data": {
   "active_scene": "Default Scene",
   "init_scene": "Default Scene",
   "scenes": [
    "Default Scene"
   ]
  }
 },
 "nbformat": 4,
 "nbformat_minor": 5
}
