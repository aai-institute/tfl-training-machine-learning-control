{
 "cells": [
  {
   "cell_type": "code",
   "execution_count": null,
   "metadata": {
    "editable": true,
    "hide_input": false,
    "init_cell": true,
    "scene__Initialization": true,
    "slideshow": {
     "slide_type": "skip"
    },
    "tags": [
     "remove-input",
     "remove-output",
     "remove-input-nbconv",
     "remove-output-nbconv",
     "ActiveScene"
    ]
   },
   "outputs": [],
   "source": [
    "%%capture\n",
    "%load_ext autoreload\n",
    "%autoreload 2\n",
    "%matplotlib inline\n",
    "%load_ext training_ml_control\n",
    "%set_random_seed 12"
   ]
  },
  {
   "cell_type": "code",
   "execution_count": null,
   "metadata": {
    "editable": true,
    "init_cell": true,
    "scene__Initialization": true,
    "slideshow": {
     "slide_type": "skip"
    },
    "tags": [
     "ActiveScene"
    ]
   },
   "outputs": [],
   "source": [
    "%presentation_style"
   ]
  },
  {
   "cell_type": "code",
   "execution_count": null,
   "metadata": {
    "scene__Initialization": true,
    "tags": [
     "ActiveScene"
    ]
   },
   "outputs": [],
   "source": [
    "import warnings\n",
    "\n",
    "warnings.simplefilter(\"ignore\", UserWarning)"
   ]
  },
  {
   "cell_type": "code",
   "execution_count": null,
   "metadata": {
    "editable": true,
    "init_cell": true,
    "scene__Initialization": true,
    "slideshow": {
     "slide_type": "skip"
    },
    "tags": [
     "ActiveScene"
    ]
   },
   "outputs": [],
   "source": [
    "%autoreload\n",
    "import numpy as np\n",
    "from training_ml_control.shortest_path_problem import (\n",
    "    create_shortest_path_graph,\n",
    "    plot_shortest_path_graph,\n",
    "    plot_all_paths_graph,\n",
    ")\n",
    "from training_ml_control.environments import (\n",
    "    create_grid_world_environment,\n",
    "    plot_grid_graph,\n",
    "    plot_grid_all_paths_graph,\n",
    "    simulate_environment,\n",
    ")\n",
    "from training_ml_control.nb_utils import (\n",
    "    show_video,\n",
    ")"
   ]
  },
  {
   "cell_type": "markdown",
   "metadata": {
    "editable": true,
    "slideshow": {
     "slide_type": "slide"
    },
    "tags": [
     "remove-cell"
    ]
   },
   "source": [
    ":::{figure} ./_static/images/aai-institute-cover.png\n",
    ":width: 90%\n",
    ":align: center\n",
    "---\n",
    "name: aai-institute\n",
    "---\n",
    ":::"
   ]
  },
  {
   "cell_type": "markdown",
   "metadata": {
    "slideshow": {
     "slide_type": "subslide"
    }
   },
   "source": [
    "## Dynamic Programming\n",
    "\n",
    "Dynamic programming (DP) is a method that in general solves optimization problems that involve making a sequence of decisions by determining, for each decision, subproblems that can be solved similarily, such that an optimal solution of the original problem can be found from optimal solutions of subproblems. This method is based on Bellman’s Principle of Optimality:\n",
    "\n",
    "> An optimal policy has the property that whatever the initial state and initial decision are, the remaining decisions must constitute an optimal policy with regard to the state resulting from the first decision."
   ]
  },
  {
   "cell_type": "markdown",
   "metadata": {
    "slideshow": {
     "slide_type": "subslide"
    }
   },
   "source": [
    ":::{figure} _static/images/20_optimality_principle.png\n",
    ":width: 50%\n",
    ":align: center\n",
    "Schematic illustration of the principle of optimality. The tail $\\{u_k^∗, \\dots, u_{N-1}^*\\}$ of an optimal sequence $\\{u_0^∗, \\dots, u_{N-1}^*\\}$ is optimal for the tail subproblem that starts at the state $x_k^*$ of the optimal state trajectory.\n",
    ":::"
   ]
  },
  {
   "cell_type": "markdown",
   "metadata": {
    "slideshow": {
     "slide_type": "subslide"
    }
   },
   "source": [
    "Dynamic Programming is a very general solution method for problems which have these properties:\n",
    "\n",
    "- Optimal substructure (Principle of optimality applies)\n",
    "  - The optimal solution can be decomposed into subproblems, e.g., shortest path.\n",
    "- Overlapping subproblems\n",
    "  - The subproblems recur many times.\n",
    "  - The solutions can be cached and reused.\n",
    "- Additive cost function\n",
    "  - The cost function along a given path can be decomposed as the sum of cost functions for each step."
   ]
  },
  {
   "cell_type": "markdown",
   "metadata": {
    "slideshow": {
     "slide_type": "subslide"
    }
   },
   "source": [
    "Dynamic programming is used across a wide variety of domains, e.g.\n",
    "\n",
    "- Scheduling algorithms\n",
    "- Graph algorithms (e.g., shortest path algorithms)\n",
    "- Graphical models in ML (e.g., Viterbi algorithm)\n",
    "- Bioinformatics (e.g., Sequence alignment, Protein folding) "
   ]
  },
  {
   "cell_type": "markdown",
   "metadata": {},
   "source": [
    "## Bellman Equation\n",
    "\n",
    "We define the **cost-to-go function** (also known as **optimal value function**) for any feasible $x_0 \\in \\mathbf{X}$ as[^*]:\n",
    "\n",
    "$$\n",
    "V(x_0) := \\min_{u \\in \\mathbf{U}} J(x_0, u)\n",
    "$$\n",
    "\n",
    "[^*]: for the sake of simplicity we will focus on the discrete-time case\n",
    "\n",
    "An admissible control sequence $u^*$ is called optimal, if\n",
    "\n",
    "$$\n",
    "V(x_0) = J(x_0, u^*)\n",
    "$$\n",
    "\n",
    "Given an infinite-horizon decision problem:\n",
    "\n",
    "$$\n",
    "V(x_0) = \\min_{u \\in \\mathbf{U}} J(x_0, u) = \\min_{u \\in \\mathbf{U}} \\left[ \\sum \\limits_{k = 0}^{\\infty} \\gamma^k c_k(x_k, u_k) \\right]\n",
    "$$\n",
    "\n",
    "We can unroll the expression by one-step to obtain:\n",
    "\n",
    "$$\n",
    "V(x_0) = \\min_{u \\in \\mathbf{U}} \\left[ c_0(x_0, u_0) + \\min_{u \\in \\mathbf{U}} \\sum \\limits_{k = 1}^{\\infty} \\gamma^k c_k(x_k, u_k) \\right]\n",
    "$$\n",
    "\n",
    "Which is equivalent to:\n",
    "\n",
    "$$\n",
    "V(x_0) = \\min_{u \\in \\mathbf{U}} \\left[ c_0(x_0, u_0) + V(x_1) \\right]\n",
    "$$\n",
    "\n",
    "We obtain what we call the Bellman equation."
   ]
  },
  {
   "cell_type": "markdown",
   "metadata": {},
   "source": []
  },
  {
   "cell_type": "markdown",
   "metadata": {
    "slideshow": {
     "slide_type": "subslide"
    }
   },
   "source": [
    "We define the **cost-to-go function** (also known as **optimal value function**) as[^*]:\n",
    "\n",
    "$$\n",
    "V_0(x_0) := \\min_{u \\in \\mathbf{U}} J_0(x_0, u)\n",
    "$$\n",
    "\n",
    "[^*]: for the sake of simplicity we will focus on the discrete-time case\n",
    "\n",
    "An admissible control sequence $u^*$ is called optimal, if\n",
    "\n",
    "$$\n",
    "V_0(x_0) = J_0(x_0, u^*)\n",
    "$$"
   ]
  },
  {
   "cell_type": "markdown",
   "metadata": {
    "slideshow": {
     "slide_type": "subslide"
    }
   },
   "source": [
    "For any feasible $x_0 \\in \\mathbf{X}$ the optimal value function satisfies\n",
    "\n",
    "$$\n",
    "V_k(x_0) = \\displaystyle \\min_{u \\in \\mathbf{U}} \\left[ c_{k}(x_0, u) + V_{k+1}(f(x_0, u)) \\right]\n",
    "$$\n",
    "\n",
    "Moreover, if $u^*$ is an optimal control, then\n",
    "\n",
    "$$\n",
    "V_0(x_0) = c_{k}(x_0, u) + V_{k+1}(f(x_0, u))\n",
    "$$\n",
    "\n",
    "and\n",
    "\n",
    "$$\n",
    "V_0(x_0) = J_0(x_0, u^*)\n",
    "$$"
   ]
  },
  {
   "cell_type": "markdown",
   "metadata": {
    "slideshow": {
     "slide_type": "subslide"
    }
   },
   "source": [
    "###  DP Algorithm\n",
    "\n",
    "For every initial state $x_0$, the optimal cost is equal to $V_N(x_0)$, given by the last step of the following algorithm, which proceeds backward in time from stage $N-1$ to stage $0$:\n",
    "\n",
    "- Start with $V_N(x_N) = g_N(x_N)$\n",
    "- then for $k = \\{0, \\dots , N - 1\\}$, let:\n",
    " \n",
    "  $$\n",
    "  V_{k}(x_{k}) = \\displaystyle \\min_{u \\in \\mathbf{U}} \\left\\{ c_{k}(x_{k}, u_{k}) + V_{k+1}(f(x_{k}, u_{k})) \\right\\}\n",
    "  $$\n",
    "  \n",
    "Once the functions $V_0, \\dots , V_N$ have been obtained, we can use a forward algorithm to construct an optimal control sequence $\\{u_0^*, \\dots, u_{N-1}^*\\}$ and corresponding state trajectory $\\{x_1^∗, \\dots, x_{N}^*\\}$ for the given initial state $x_0$.\n",
    "\n",
    "$$\n",
    "\\begin{equation}\n",
    "u^*(s_i) = \\displaystyle  \\argmin_{u \\in \\mathbf{U}}\n",
    "\\left[ c_{k}(x_{k}, u_{k}) + V\\left( f(s_i,a) \\right) \\right].\n",
    "\\end{equation}\n",
    "$$"
   ]
  },
  {
   "cell_type": "markdown",
   "metadata": {
    "slideshow": {
     "slide_type": "subslide"
    }
   },
   "source": [
    ":::{figure} _static/images/20_dynamic_programming.png\n",
    ":width: 60%\n",
    "Illustration of the DP algorithm. The tail subproblem that starts at $x_k$ at time $k$ minimizes over\n",
    "$\\{u_k , \\dots , u_{N-1}\\}$ the \"cost-to-go\" from $k$ to $N$.\n",
    ":::"
   ]
  },
  {
   "cell_type": "markdown",
   "metadata": {
    "slideshow": {
     "slide_type": "subslide"
    }
   },
   "source": [
    "## Graph Search"
   ]
  },
  {
   "cell_type": "code",
   "execution_count": null,
   "metadata": {
    "editable": true,
    "slideshow": {
     "slide_type": ""
    },
    "tags": [
     "hide-input"
    ]
   },
   "outputs": [],
   "source": [
    "G = create_shortest_path_graph()\n",
    "plot_shortest_path_graph(G)"
   ]
  },
  {
   "cell_type": "markdown",
   "metadata": {},
   "source": [
    "We wish to travel from node A to node G at minimum cost. If the cost represents time then we want to find the shortest path from A to G.\n",
    "\n",
    "- Arrows (edges) indicate the possible movements.\n",
    "- Numbers on edges indicate the cost of moving along an edge.\n",
    "\n",
    "We can use Dynamic Programming to solve this problem."
   ]
  },
  {
   "cell_type": "markdown",
   "metadata": {},
   "source": [
    "We start by determining all possible paths first ."
   ]
  },
  {
   "cell_type": "code",
   "execution_count": null,
   "metadata": {},
   "outputs": [],
   "source": [
    "plot_all_paths_graph(G)"
   ]
  },
  {
   "cell_type": "markdown",
   "metadata": {
    "editable": true,
    "slideshow": {
     "slide_type": ""
    },
    "tags": [
     "remove-cell"
    ]
   },
   "source": [
    "We then compute the cost-to-go at each node to determine the shortest path.\n",
    "\n",
    "Each node in this new graph represents a state. We will start from the tail (the last states) and compute recursively the cost for each state transition.\n",
    "\n",
    "Let $l(n_1, n_2)$ the cost of going from node $n_1$ to $n_2$ and $V(n)$ be the cost-to-go from node $n$.\n",
    "\n",
    "$$\n",
    "\\begin{array}{lll}\n",
    "V(\\text{ABDF}) &= g(\\text{ABDF}, \\text{ABDFG}) &= 1\\\\\n",
    "V(\\text{ABE}) &= g(\\text{ABE}, \\text{ABEG}) &= 4\\\\\n",
    "V(\\text{ACF}) &= g(\\text{ACF}, \\text{ACFG}) &= 1\\\\\n",
    "V(\\text{ADF}) &= g(\\text{ADF}, \\text{ADFG}) &= 1\\\\\n",
    "\\end{array}\n",
    "$$\n",
    "\n",
    "$$\n",
    "\\begin{array}{lll}\n",
    "V(\\text{ABD}) &= \\min \\left[ g(\\text{ABD}, \\text{ABDG}), g(\\text{ABD}, \\text{ABDF}) + V(\\text{ABDF}) \\right]\n",
    "&= \\min \\left[ 8, 5 + 1 \\right] &= 6\n",
    "\\\\\n",
    "V(\\text{AB}) &= \\min \\left[ g(\\text{AB}, \\text{ABD}) + V(\\text{ABD}), g(\\text{AB}, \\text{ABE}) + V(\\text{ABE}) \\right]\n",
    "&= \\min \\left[ 9 + 6, 1 + 4 \\right] &= 5\n",
    "\\\\\n",
    "V(\\text{AC}) &= g(\\text{AC}, \\text{ACF}) + V(\\text{ACF}) &= 2 + 1 &= 3\n",
    "\\\\\n",
    "V(\\text{AD}) &= \\min \\left[ g(\\text{AD}, \\text{ADF}) + V(\\text{ADF}), g(\\text{AD}, \\text{ADG})) \\right]\n",
    "&= \\min \\left[ 5 + 1, 8 \\right] &= 6\n",
    "\\\\\n",
    "\\end{array}\n",
    "$$\n",
    "\n",
    "$$\n",
    "\\begin{array}{lll}\n",
    "V(\\text{A}) &= \\min \\left[\n",
    "g(\\text{A}, \\text{AB}) + V(\\text{AB}), g(\\text{A}, \\text{AC}) + V(\\text{AC}), g(\\text{A}, \\text{AD}) + V(\\text{AD})\n",
    "\\right]\n",
    "&= \\min \\left[ 1 + 5, 5 + 3, 3 + 6 \\right] &= 6\n",
    "\\\\\n",
    "\\end{array}\n",
    "$$\n",
    "\n",
    "The shortest-path is ABEG."
   ]
  },
  {
   "cell_type": "code",
   "execution_count": null,
   "metadata": {},
   "outputs": [],
   "source": [
    "plot_all_paths_graph(G, show_solution=True)"
   ]
  },
  {
   "cell_type": "markdown",
   "metadata": {},
   "source": [
    "### Value Iteration\n",
    "\n",
    "Another way to compute the optimal cost-to-go for all states that is also applicable in stochastic problems\n",
    "is the **Value Iteration** algorithm:\n",
    "\n",
    "$$\n",
    "\\begin{array}{l}\n",
    "  \\textbf{Input}:\\ \\text{MDP}\\ M = \\langle S, s_0, A, P_a(s' \\mid s), r(s,a,s')\\rangle\\\\\n",
    "  \\textbf{Output}:\\ \\text{Value function}\\ V\\\\[2mm]\n",
    "  \\text{Set}\\ V\\ \\text{to arbitrary value function; e.g., }\\ V(s) = 0\\ \\text{for all}\\ s\\\\[2mm]\n",
    "  \\text{repeat}\\ \\\\\n",
    "  \\quad\\quad \\Delta \\leftarrow 0 \\\\\n",
    "  \\quad\\quad \\text{foreach}\\ s \\in S \\\\\n",
    "  \\quad\\quad\\quad\\quad \\underbrace{V'(s) \\leftarrow \\max_{a \\in A(s)} \\sum_{s' \\in S}  P_a(s' \\mid s)\\ [r(s,a,s') + \n",
    " \\gamma\\ V(s') ]}_{\\text{Bellman equation}} \\\\\n",
    "  \\quad\\quad\\quad\\quad \\Delta \\leftarrow \\max(\\Delta, |V'(s) - V(s)|) \\\\\n",
    "  \\quad\\quad V \\leftarrow V' \\\\\n",
    "  \\text{until}\\ \\Delta \\leq \\theta \n",
    "\\end{array}\n",
    "$$"
   ]
  },
  {
   "cell_type": "markdown",
   "metadata": {},
   "source": [
    "## Optimal Control as Graph Search\n",
    "\n",
    "We can formulate optimal control as a graph search by either considering a system with discrete states and actions or by discretizing a system with continuous states and actions."
   ]
  },
  {
   "cell_type": "markdown",
   "metadata": {},
   "source": [
    "````{exercise-start} Grid World\n",
    ":label: grid-world\n",
    "````"
   ]
  },
  {
   "cell_type": "markdown",
   "metadata": {},
   "source": [
    ":::{figure} _static/images/20_constrained_motion.png\n",
    ":width: 60%\n",
    ":::"
   ]
  },
  {
   "cell_type": "code",
   "execution_count": null,
   "metadata": {},
   "outputs": [],
   "source": [
    "%%html\n",
    "<iframe width=\"800\" height=\"600\" src=\"https://www.youtube-nocookie.com/embed/p178eQpDI_E?si=7wzD4d1TIVj29WG0&amp;start=4\" title=\"YouTube video player\" frameborder=\"0\" allow=\"accelerometer; autoplay; clipboard-write; encrypted-media; gyroscope; picture-in-picture; web-share\" referrerpolicy=\"strict-origin-when-cross-origin\" allowfullscreen></iframe>"
   ]
  },
  {
   "cell_type": "code",
   "execution_count": null,
   "metadata": {},
   "outputs": [],
   "source": [
    "env = create_grid_world_environment(render_mode=\"rgb_array\", max_steps=50)\n",
    "result = simulate_environment(env)\n",
    "show_video(result.frames, fps=3)"
   ]
  },
  {
   "cell_type": "markdown",
   "metadata": {},
   "source": [
    "The task can be represented as the following undirected graph:"
   ]
  },
  {
   "cell_type": "code",
   "execution_count": null,
   "metadata": {},
   "outputs": [],
   "source": [
    "env.reset()\n",
    "G = env.unwrapped.get_graph()\n",
    "plot_grid_graph(G, show_start_to_target_paths=False)"
   ]
  },
  {
   "cell_type": "markdown",
   "metadata": {},
   "source": [
    ":::{exercise}\n",
    "How many possible paths from start position to target position are there?\n",
    ":::"
   ]
  },
  {
   "cell_type": "code",
   "execution_count": null,
   "metadata": {},
   "outputs": [],
   "source": [
    "plot_grid_graph(G, show_start_to_target_paths=True)"
   ]
  },
  {
   "cell_type": "markdown",
   "metadata": {},
   "source": [
    "We wish to travel to the goal cell in green. If the cost represents time then we want to find the shortest path to the goal.\n",
    "\n",
    "- Arrows (edges) indicate the possible movements.\n",
    "- Numbers on edges indicate the cost of moving along an edge.\n",
    "\n",
    "Use Dynamic Programming to solve this problem:\n",
    "\n",
    "- Compute the optimal cost-to-go for each state.\n",
    "- Determine the optimal plan using the computed optimal cost-to-go.\n",
    "- Implement the plan in the environment.\n",
    "\n",
    ":::{tip} Hint 1\n",
    ":class: dropdown\n",
    "Determine all possible paths first.\n",
    "\n",
    "You can use `plot_grid_all_paths_graph(G)`.\n",
    ":::\n",
    "\n",
    ":::{tip} Hint 2\n",
    ":class: dropdown\n",
    "Compute the optimal cost-to-go at each node.\n",
    "\n",
    "You can use `dict(G.nodes(data=True))` to get a dictionary that maps the nodes to their attributes\n",
    "and you can use `G.start_node` and `G.end_node` to access the start and end (i.e. goal) nodes, respectively.\n",
    ":::"
   ]
  },
  {
   "cell_type": "markdown",
   "metadata": {},
   "source": [
    "````{exercise-end}\n",
    "````"
   ]
  },
  {
   "cell_type": "markdown",
   "metadata": {},
   "source": [
    "````{solution-start} grid-world\n",
    "````"
   ]
  },
  {
   "cell_type": "code",
   "execution_count": null,
   "metadata": {},
   "outputs": [],
   "source": [
    "# Your Solution Here"
   ]
  },
  {
   "cell_type": "markdown",
   "metadata": {},
   "source": [
    ":::{solution} grid-world\n",
    ":class: dropdown\n",
    "\n",
    "For this solution we first need to import some functions:\n",
    "\n",
    "```{code-cell}\n",
    "from training_ml_control.environments import (\n",
    "    value_iteration,\n",
    "    compute_best_path_and_actions_from_values,\n",
    ")\n",
    "```\n",
    "\n",
    "After that, to plot all paths from start to end we use:\n",
    "\n",
    "```{code-cell} python3\n",
    "plot_grid_all_paths_graph(G)\n",
    "```\n",
    "\n",
    "To compute the optimal cost-to-go we use:\n",
    "\n",
    "```{code-cell}\n",
    "values = value_iteration(G)\n",
    "```\n",
    "\n",
    "Once that's computed, we can determine the best path and correponding actions:\n",
    "\n",
    "```{code-cell}\n",
    "best_path, actions = compute_best_path_and_actions_from_values(G, start_node=G.start_node, target_node=G.target_node, values=values)\n",
    "print(best_path)\n",
    "```\n",
    "\n",
    "To plot the shortest path on the graph of all paths we use:\n",
    "\n",
    "```{code-cell} python3\n",
    "plot_grid_all_paths_graph(G, show_solution=True)\n",
    "```\n",
    "\n",
    ":::"
   ]
  },
  {
   "cell_type": "markdown",
   "metadata": {},
   "source": [
    "## Continous Optimal Control"
   ]
  },
  {
   "cell_type": "markdown",
   "metadata": {},
   "source": [
    "### Hamilton-Jacobi-Bellman Equation\n",
    "\n",
    "Let's consider the continous optimal control problem with finite horizon over the time period $[t_0 ,t_f]$.\n",
    "\n",
    "The system's dynamics is given by:\n",
    "\n",
    "$$\n",
    "\\dot{\\mathbf{x}}(t) = f(\\mathbf{x}(t), \\mathbf{u}(t))\n",
    "$$\n",
    "\n",
    "The cost function is given by:\n",
    "\n",
    "$$\n",
    "J(\\mathbf{x}(t), \\mathbf{u}(t), t_0, t_f) = c(\\mathbf{x}(t_f), t_f) + \\int\\limits_{t_0}^{t_f} c(\\mathbf{x}(t), \\mathbf{u}(t)) d\\tau\n",
    "$$\n",
    "\n",
    "The optimal cost-to-go function is given by:\n",
    "\n",
    "$$\n",
    "\\displaystyle V(x(t), t_0, t_f) = \\underset{\\mathbf{u(t)}}{min} \\left[ J(\\mathbf{x}(t), \\mathbf{u}(t), t_0, t_f) \\right]\n",
    "$$\n",
    "\n",
    "It can be shown that the optimal condition is also satisfied in this case:\n",
    "\n",
    "$$\n",
    "V(x(t_0), t_0, t_f) = \\underset{\\mathbf{u(t)}}{min} \\left[ c(t + \\right]\n",
    "$$\n",
    "\n",
    "$$\n",
    "V(x(t_0), t_0, t_f) = V(x(t_0), t_0, t) + V(x(t), t, t_f)\n",
    "$$\n",
    "\n",
    "$$\n",
    "\\frac{d}{dt}(V(\\mathbf{x}(t), t, t_f) = \\frac{\\partial V}{\\partial t} + \\left( \\frac{\\partial V}{\\partial \\mathbf{x}} \\right)^T \\underbrace{\\frac{d\\mathbf{x}}{dt}}_{= f(\\mathbf{x}(t), \\mathbf{u}(t))}\n",
    "$$\n",
    "\n",
    "The term on the left can be simplified to:\n",
    "\n",
    "$$\n",
    "\\frac{d}{dt}(V(\\mathbf{x}(t), t, t_f) &= \\underset{\\mathbf{u(t)}}{min} \\frac{d}{dt} \\left[ c(\\mathbf{x}(t_f), t_f) + \\int\\limits_{t_0}^{t_f} c(\\mathbf{x}(t), \\mathbf{u}(t)) d\\tau  \\right] \\\\\n",
    "&= \\underset{\\mathbf{u(t)}}{min} \\left[ \\frac{d}{dt} \\int\\limits_{t_0}^{t_f} c(\\mathbf{x}(t), \\mathbf{u}(t)) d\\tau \\right] \\\\\n",
    "&= \\underset{\\mathbf{u(t)}}{min} \\left[ -c(\\mathbf{x}(t), \\mathbf{u}(t)) \\right]\n",
    "$$\n",
    "\n",
    "Replacing this new expression into the original one and moving some terms aronud we get:\n",
    "\n",
    "$$\n",
    "- \\frac{\\partial V}{\\partial t} = \\underset{\\mathbf{u(t)}}{min} \\left[ \\left( \\frac{\\partial V}{\\partial \\mathbf{x}} \\right)^T f(\\mathbf{x}(t), \\mathbf{u}(t)) + c(\\mathbf{x}(t), \\mathbf{u}(t)) \\right]\n",
    "$$\n",
    "\n",
    "This is called the Hamilton-Jacobi-Bellman (HJB) equation."
   ]
  },
  {
   "cell_type": "markdown",
   "metadata": {},
   "source": [
    "### Direct Single Shooting"
   ]
  },
  {
   "cell_type": "markdown",
   "metadata": {},
   "source": [
    "### Direct Multiple Shooting"
   ]
  },
  {
   "cell_type": "markdown",
   "metadata": {},
   "source": [
    "### Collocation"
   ]
  }
 ],
 "metadata": {
  "celltoolbar": "Slideshow",
  "kernelspec": {
   "display_name": "Python 3 (ipykernel)",
   "language": "python",
   "name": "python3"
  },
  "language_info": {
   "codemirror_mode": {
    "name": "ipython",
    "version": 3
   },
   "file_extension": ".py",
   "mimetype": "text/x-python",
   "name": "python",
   "nbconvert_exporter": "python",
   "pygments_lexer": "ipython3",
   "version": "3.10.12"
  },
  "rise": {
   "footer": "<img src='_static/images/aai-logo.png' alt='logo' height='50em'>",
   "header": "<img src='_static/images/transferlab-logo.svg' alt='logo' height='20em' />",
   "theme": "white"
  },
  "scenes_data": {
   "active_scene": "Initialization",
   "init_scene": "Initialization",
   "scenes": [
    "Initialization"
   ]
  },
  "toc": {
   "base_numbering": 1,
   "nav_menu": {
    "height": "148px",
    "width": "256px"
   },
   "number_sections": false,
   "sideBar": true,
   "skip_h1_title": false,
   "title_cell": "Table of Contents",
   "title_sidebar": "Contents",
   "toc_cell": false,
   "toc_position": {
    "height": "563.2px",
    "left": "125px",
    "top": "116.469px",
    "width": "315.6px"
   },
   "toc_section_display": true,
   "toc_window_display": false
  },
  "varInspector": {
   "cols": {
    "lenName": 16,
    "lenType": 16,
    "lenVar": 40
   },
   "kernels_config": {
    "python": {
     "delete_cmd_postfix": "",
     "delete_cmd_prefix": "del ",
     "library": "var_list.py",
     "varRefreshCmd": "print(var_dic_list())"
    },
    "r": {
     "delete_cmd_postfix": ") ",
     "delete_cmd_prefix": "rm(",
     "library": "var_list.r",
     "varRefreshCmd": "cat(var_dic_list()) "
    }
   },
   "types_to_exclude": [
    "module",
    "function",
    "builtin_function_or_method",
    "instance",
    "_Feature"
   ],
   "window_display": false
  }
 },
 "nbformat": 4,
 "nbformat_minor": 4
}
