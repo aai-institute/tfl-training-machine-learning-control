{
 "cells": [
  {
   "cell_type": "code",
   "execution_count": null,
   "metadata": {
    "editable": true,
    "init_cell": true,
    "scene__Default Scene": true,
    "slideshow": {
     "slide_type": "skip"
    },
    "tags": [
     "remove-cell",
     "ActiveScene"
    ]
   },
   "outputs": [],
   "source": [
    "%%capture\n",
    "%load_ext training_ml_control"
   ]
  },
  {
   "cell_type": "code",
   "execution_count": null,
   "metadata": {
    "init_cell": true,
    "scene__Default Scene": true,
    "slideshow": {
     "slide_type": "skip"
    },
    "tags": [
     "remove-cell",
     "ActiveScene"
    ]
   },
   "outputs": [],
   "source": [
    "%presentation_style"
   ]
  },
  {
   "cell_type": "markdown",
   "metadata": {
    "editable": true,
    "slideshow": {
     "slide_type": "slide"
    },
    "tags": [
     "remove-cell"
    ]
   },
   "source": [
    ":::{figure} ./_static/images/aai-institute-cover.png\n",
    ":width: 90%\n",
    ":align: center\n",
    "---\n",
    "name: aai-institute\n",
    "---\n",
    ":::"
   ]
  },
  {
   "cell_type": "markdown",
   "metadata": {
    "editable": true,
    "slideshow": {
     "slide_type": "slide"
    }
   },
   "source": [
    "# Introduction"
   ]
  },
  {
   "cell_type": "markdown",
   "metadata": {
    "editable": true,
    "slideshow": {
     "slide_type": "fragment"
    }
   },
   "source": [
    "Control theory is a field of control engineering and applied mathematics that deals with influencing the behavior of dynamical systems. The objective is to drive a system towards a desired state by calculating and applying system inputs, while minimizing errors and taking into considerations any additional constraints (e.g. overshoot), and ensuring stability. The aim is often to achieve a degree of optimal and robust control performance in the presence of uncertainty. "
   ]
  },
  {
   "cell_type": "markdown",
   "metadata": {
    "editable": true,
    "slideshow": {
     "slide_type": "fragment"
    }
   },
   "source": [
    "The fundamental challenge in control theory is to determine a technically feasible way to act on a system so its behavior closely matches some desired behavior, despite uncertainties in the system's model and external disturbances. The key elements of this control problem are:\n",
    "\n",
    "- **Desired behavior** The target behavior must be clearly defined as part of the control design problem. Common examples include tracking a reference trajectory, regulating around a setpoint, or optimizing some performance index.\n",
    "- **Feasibility** The control solution must satisfy constraints on the available inputs, actuator capabilities, safety limits, etc. The controller must be realizable with available technology.\n",
    "- **Uncertainty** Precise knowledge of the system is rarely possible. There will always be some uncertainty in the model parameters, unmodeled dynamics, disturbances, and measurements.\n",
    "- **Action** Control action is applied through manipulated inputs that command the system actuators. The choice of manipulated inputs and pairing with actuators is a key design decision.\n",
    "- **Disturbances** Real systems experience unknown external disturbances that affect the system behavior and must be accounted for. Rejecting disturbances is often a key control objective.\n",
    "- **Approximate behavior** Due to uncertainty, no controller can achieve perfect setpoint tracking or disturbance rejection. There will always be some approximation error. Controllers must be designed to achieve some acceptable level of performance in spite of these challenges.\n",
    "- **Measurements** Measuring the system outputs is essential for closing the feedback loop and allowing the controller to determine the effect of its inputs on the system behavior. Noise on measurements must also be accounted for."
   ]
  },
  {
   "cell_type": "markdown",
   "metadata": {
    "editable": true,
    "slideshow": {
     "slide_type": "subslide"
    }
   },
   "source": [
    "In this training, we will focus on optimal control methods applied to linear and non-linear systems. Through the use of practical examples with a cart (double-integrator) system and an inverted pendulum system, you'll learn how to design controllers that achieve optimal performance.\n",
    "\n",
    "This training is structured as follows:\n",
    "\n",
    "- Introduction to Control Theory, planning and optimal control.\n",
    "- Dynamic Programming.\n",
    "- Linear Quadratic Regulator (LQR).\n",
    "- Model Predictive Control (MPC).\n",
    "- Monte-Carlo Tree Search (MCTS).\n",
    "- Machine Learning in Control.\n",
    "- Safe Learning Control."
   ]
  },
  {
   "cell_type": "markdown",
   "metadata": {
    "editable": true,
    "jp-MarkdownHeadingCollapsed": true,
    "slideshow": {
     "slide_type": "slide"
    }
   },
   "source": [
    "## Branches of Control Theory"
   ]
  },
  {
   "cell_type": "markdown",
   "metadata": {
    "editable": true,
    "slideshow": {
     "slide_type": "subslide"
    }
   },
   "source": [
    ":::{figure} _static/images/10_control_theory_map.png\n",
    "---\n",
    "name: map-control-theory\n",
    "---\n",
    "[The Map of Control Theory](https://engineeringmedia.com/map-of-control)\n",
    ":::"
   ]
  },
  {
   "cell_type": "markdown",
   "metadata": {
    "editable": true,
    "slideshow": {
     "slide_type": "subslide"
    }
   },
   "source": [
    "There are different branches of Control Theory:\n",
    "\n",
    "- **Classical Control**\n",
    "\n",
    "  deals with the behavior of linear dynamical systems with inputs, and how their behavior is modified by feedback, using the Laplace transform as a basic tool to model such systems. It is limited to single-input and single-output (**SISO**) system design.\n",
    "  \n",
    "  The most common controllers designed using classical control theory are PID controllers.\n",
    " \n",
    "- **Modern Control**\n",
    "\n",
    "  deals with the behavior of linear or non-linear dynamical systems with inputs, and how their behavior is modified by feedback, using the state-space representation as a basic tool to model such systems. It can deal with multiple-input and multiple-output (**MIMO**) systems."
   ]
  },
  {
   "cell_type": "markdown",
   "metadata": {
    "editable": true,
    "slideshow": {
     "slide_type": "subslide"
    }
   },
   "source": [
    "- **Optimal Control**\n",
    "\n",
    "  deals with finding a control for a dynamical system over a period of time such that an objective function is optimized.\n",
    "  \n",
    "- **Adaptive Control**\n",
    "\n",
    "  adapt to a controlled system with parameters which vary, or are initially uncertain.\n",
    " \n",
    "- **Robust Control**\n",
    "  \n",
    "  an approach to controller design that explicitly deals with uncertainty."
   ]
  },
  {
   "cell_type": "markdown",
   "metadata": {
    "slideshow": {
     "slide_type": "slide"
    }
   },
   "source": [
    "# Control Systems Classification\n",
    "\n",
    "There are two types of control loops:\n",
    "\n",
    "- **Open-loop control (feedforward)**\n",
    "\n",
    "  An open-loop control system operates without feedback, which means that the output is not measured or compared to the desired input. They are simple and inexpensive to implement. They are often used in systems where the output does not need to be precisely controlled. For example, a washing machine may use an open-loop control system to regulate the water level.\n",
    "\n",
    "- **Closed-loop control (feedback)**\n",
    "\n",
    "  A closed-loop control system, on the other hand, operates with feedback, meaning that the output is measured, and corrective action is taken to ensure it always matches the desired input. They are more complex and expensive to implement. However, they offer greater precision and accuracy in controlling the system's output. Closed-loop control systems are often used in critical applications, such as aerospace engineering or medical devices"
   ]
  },
  {
   "cell_type": "markdown",
   "metadata": {
    "slideshow": {
     "slide_type": "subslide"
    }
   },
   "source": [
    "## Types of Systems\n",
    "\n",
    "- Time-Invariant (TI) or Time-Variant (TV).\n",
    "- Linear or Non-Linear.\n",
    "- Continuous-time or Discrete-time.\n",
    "- Deterministic or Stochastic."
   ]
  },
  {
   "cell_type": "markdown",
   "metadata": {
    "slideshow": {
     "slide_type": "slide"
    }
   },
   "source": [
    "# Controller Design\n",
    "\n",
    "1. Problem Formulation\n",
    "2. Modeling\n",
    "   1. Define a mathematical model that represents the system.\n",
    "   2. Determine properties of this system: Identifiability, Stability, Observability and Controllability.\n",
    "\n",
    "   3. Determine model's parameters, if they're not known already.\n",
    "   4. (Optional) Linearize model around operating point.\n",
    "   5. (Optional) If it's a continuous-time system and we're using a digital controller,\n",
    "     discretize it to obtain a discrete-time system."
   ]
  },
  {
   "cell_type": "markdown",
   "metadata": {
    "slideshow": {
     "slide_type": "subslide"
    }
   },
   "source": [
    "3. Control Design\n",
    "\n",
    "   - Design a controller to stabilize the system.\n",
    "4. Evaluation\n",
    "   1. Simulate the closed-loop system in order to validate the controller design.\n",
    "   2. Use controller with actual system."
   ]
  },
  {
   "cell_type": "markdown",
   "metadata": {
    "slideshow": {
     "slide_type": "slide"
    }
   },
   "source": [
    "# Control Theory and Machine Learning\n",
    "\n",
    "Modern machine learning and control theory share deep theoretical connections. Framing machine learning problems as dynamical systems, which we refer to as **control theory for machine learning**, opens up new ways to analyze neural network training and design adaptive controllers.\n",
    "\n",
    "Conversely, we can use machine learning to help solve large and complex control problems, which we refer to as **machine learning for control theory**."
   ]
  },
  {
   "cell_type": "markdown",
   "metadata": {
    "slideshow": {
     "slide_type": "subslide"
    }
   },
   "source": [
    "## Control Theory for Machine Learning\n",
    "\n",
    "Control theory provides key concepts to guide the development of machine learning algorithms.\n",
    "\n",
    "- Viewing neural networks like deep residual networks (ResNet) as dynamical systems allows control stability and optimality principles to ensure robust training.\n",
    "- Using state-space models (SSMs) in neural networks for long-range sequence modelling. Structure state-space sequence (S4) model or the more recent Mamba are examples of this.\n",
    "\n",
    ":::{figure} _static/images/10_state_space_model_sequence.png\n",
    ":width: 60%\n",
    "Sequence modeling using state-space models (SSMs) {cite}`gu_efficiently_2022`.\n",
    ":::\n",
    "\n",
    "- Framing learning as an optimization problem enables control techniques like differential dynamic programming to improve convergence of algorithms like stochastic gradient descent.\n",
    "- The need to balance exploration and exploitation in reinforcement learning is addressed by stochastic optimal control theory.\n",
    "\n",
    "Overall, control theory provides a rigorous mathematical framework to guarantee crucial learning properties. The system dynamics perspective further allows the training process itself to be controlled for faster convergence. Bridging machine learning with concepts from control is leading to new theories and training methods with stability and optimality guarantees."
   ]
  },
  {
   "cell_type": "markdown",
   "metadata": {
    "slideshow": {
     "slide_type": "subslide"
    }
   },
   "source": [
    "## Machine Learning for Control Theory\n",
    "\n",
    "Modern machine learning provides useful tools and perspectives for control theory. Framing control problems as data modeling tasks enables powerful function approximation, estimation, and optimization techniques from machine learning to be applied. For example:\n",
    "\n",
    "- Gaussian process based model learning can be used to improve the predictions of a system's nominal model with data.\n",
    "\n",
    ":::{figure} _static/images/70_learning_based_mpc_gp.png\n",
    ":width: 70%\n",
    "Gaussian process–based MPC for autonomous racing. (b,c) The resulting trajectories of a similar approach applied to miniature radio-controlled cars, with the initial nominal controller shown in panel b and the improved trajectories after learning shown in panel c {cite}`hewing_learningbased_2020`.\n",
    ":::\n",
    "\n",
    "- Neural networks can learn to approximate complex dynamics for model-predictive control (MPC).\n",
    "- Reinforcement learning explores optimal policies like dynamic programming to control complex robots.\n",
    "- Kernel methods enable non-parametric system identification without relying on predefined model structures.\n",
    "- The Koopman operator is a data-driven tool to infer properties and facilitate control of unknown nonlinear systems."
   ]
  },
  {
   "cell_type": "code",
   "execution_count": null,
   "metadata": {},
   "outputs": [],
   "source": [
    "%%html\n",
    "<iframe width=\"800\" height=\"480\" src=\"https://www.youtube.com/embed/-cdXw1MyTUA?si=S3DXY90f8QEPFddI\" title=\"YouTube video player\" frameborder=\"0\" allow=\"accelerometer; autoplay; clipboard-write; encrypted-media; gyroscope; picture-in-picture; web-share\" allowfullscreen></iframe>"
   ]
  },
  {
   "cell_type": "markdown",
   "metadata": {
    "slideshow": {
     "slide_type": "subslide"
    }
   },
   "source": [
    "Beyond specific techniques, a machine learning viewpoint focuses on what can be learned from data about a control system's unknown dynamics. This data-driven approach is key for adaptive and nonlinear control of complex systems."
   ]
  },
  {
   "cell_type": "markdown",
   "metadata": {
    "slideshow": {
     "slide_type": "subslide"
    }
   },
   "source": [
    "## Control Theory and Reinforcement Learning\n",
    "\n",
    "The predominant sub-field of machine learning is supervised learning. Its goal is make the output of the model mimic the labels $y$ given in the training set. In that setting, the labels give an unambiguous **right answer** for each of the inputs.\n",
    "\n",
    "In reinforcement learning (RL), we do not have labels for the inputs and instead have to rely on a **reward function**, which indicates to the learning agent (i.e. model) when it is doing well, and when it is doing poorly.\n",
    "\n",
    "RL studies how to use past data (experience) to enhance (learning) the future manipulation of a system, which is precisely the scope of Control Theory. Despite that, the two communities have remained disjointed and that has led to the co-development of vastly different approaches to the same problems."
   ]
  },
  {
   "cell_type": "markdown",
   "metadata": {
    "slideshow": {
     "slide_type": "subslide"
    }
   },
   "source": [
    "The main differences between the two lie in how the system is modeled and the approaches taken to design controllers/agents:\n",
    "\n",
    "- In **control theory**:\n",
    "\n",
    "  - we explicitly model the system using knowledge about the equations governing its behaviour, by estimating the parameters of such equations or by fitting a model on measurements from the system.\n",
    "  - we synthesize a controller by **minimizing** a cost function, in the case of optimal control.  \n",
    "  \n",
    "- Whereas in **reinforcement learning**:\n",
    "\n",
    "  - we do have to model the system and instead can directly learn the agent that maximizes the expected reward while interacting with the environment.\n",
    "  - we train an agent by **maximing** a reward function."
   ]
  },
  {
   "cell_type": "markdown",
   "metadata": {},
   "source": [
    ":::{figure} _static/images/10_feedback_block_diagram.svg\n",
    "---\n",
    "name: feedback-control-block\n",
    "---\n",
    "Feedback Control in Control Engineering\n",
    ":::\n",
    "\n",
    ":::{figure} _static/images/10_reinforcement_learning_block_diagram.svg\n",
    "---\n",
    "name: rl-block\n",
    "---\n",
    "Feedback Control in Reinforcement Learning\n",
    ":::"
   ]
  },
  {
   "cell_type": "markdown",
   "metadata": {},
   "source": [
    "The two are not mutually exclusive. For example, enforcing safety constraints when using reinforcement learning can be achieved by combining it with model-predictive control (MPC).\n",
    "\n",
    ":::{figure} _static/images/70_safety_filter.svg\n",
    ":width: 50%\n",
    "Based on the current state $x$, a learning-based controller provides an input\n",
    "$u_L = \\pi_L(x) \\in \\mathbb{R}^m$, which is processed by the safety filter $u = \\pi_S(x, u_S)$ and applied to the real system {cite}`hewing_learningbased_2020`.\n",
    ":::"
   ]
  },
  {
   "cell_type": "markdown",
   "metadata": {
    "slideshow": {
     "slide_type": "fragment"
    }
   },
   "source": [
    "### Terminology\n",
    "\n",
    "Here are a list of terms commonly used in Reinforcement Learning, and their control counterparts:\n",
    "\n",
    "1. **Environment** = System.\n",
    "1. **Agent (Policy)** = Controller or Regulator.\n",
    "1. **Action $a$** = Decision or Control $u$.\n",
    "1. **Observation** = Measurement.\n",
    "1. **Reward $r$** = (Opposite of) Cost $c$."
   ]
  },
  {
   "cell_type": "markdown",
   "metadata": {
    "slideshow": {
     "slide_type": "subslide"
    }
   },
   "source": [
    "If you want to learn about reinforcement learning, consider attending our [Safe and efficient deep reinforcement learning](https://transferlab.ai/trainings/intro-rl/) training."
   ]
  },
  {
   "cell_type": "markdown",
   "metadata": {
    "slideshow": {
     "slide_type": "subslide"
    }
   },
   "source": [
    "# Planning"
   ]
  },
  {
   "cell_type": "markdown",
   "metadata": {
    "slideshow": {
     "slide_type": "subslide"
    }
   },
   "source": [
    "Planning refers to the explicit deliberation process that chooses and organizes actions by anticipating their\n",
    "outcomes with the goal to achieve some pre-stated objectives.\n",
    "\n",
    "Automated planning and scheduling, sometimes denoted as simply AI planning, is a branch of artificial intelligence that concerns the realization of strategies or action sequences, typically for execution by intelligent agents, autonomous robots and unmanned vehicles. Unlike classical control problems, the solutions are complex and must be discovered and optimized in multidimensional space.\n",
    "\n",
    "In planning we use a model of the environment/system to predict the effect of taking a certain action in a certain state. Thus it is a **model-based** approach."
   ]
  },
  {
   "cell_type": "markdown",
   "metadata": {
    "slideshow": {
     "slide_type": "subslide"
    }
   },
   "source": [
    "### State-Transition Systems\n",
    "\n",
    "A state-transition system is a 3-tuple $\\Sigma = (S, U,\\gamma)$, where:\n",
    "\n",
    "- $S = \\{s_1,s_2,\\dots\\}$ is a finite or recursively enumerable set of states.\n",
    "- $U = \\{u_1,u_2,\\dots\\}$ is a finite or recursively enumerable set of actions.\n",
    "- $\\gamma: S\\times U \\rightarrow 2^S$ is a state transition function.\n",
    "\n",
    "- if $u \\in U$ and $\\gamma(s,u) \\neq \\emptyset$ then $a$ is applicable in $s$.\n",
    "\n",
    "- applying $u$ in $s$ will take the system to $s^{\\prime} \\in \\gamma(s,u).$"
   ]
  },
  {
   "cell_type": "markdown",
   "metadata": {
    "slideshow": {
     "slide_type": "subslide"
    }
   },
   "source": [
    "A state-transition system can be represented by a directed labelled graph $G = (N_G,E_G)$ where:\n",
    "\n",
    "- the nodes correspond to the states in $S$, i.e. $N_G = S.$\n",
    "- there is an arc from $s \\in N_G$ to $s^\\prime \\in N_G$, i.e.$s \\rightarrow s^\\prime \\in E_G$, with label $u \\in U$ if and only if $s^\\prime \\in \\gamma(s,u).$"
   ]
  },
  {
   "cell_type": "markdown",
   "metadata": {
    "slideshow": {
     "slide_type": "subslide"
    }
   },
   "source": [
    "### Plans\n",
    "\n",
    "- a plan $\\pi$ is a finite sequence of actions, $\\pi = \\{u_1, \\dots, u_n\\}$\n",
    "- a planning problem is a triple $P = (\\Sigma, s_0, S_g)$, where $\\Sigma$ is a\n",
    "  state-transition system, $s_0 \\in S$ is an initial state, and $S_g \\subset S$ is a set of goal states.\n",
    "- each node is written as a pair $v = (\\pi, s)$ where $\\pi$ is a plan and $s = \\gamma(s_0, \\pi)$"
   ]
  },
  {
   "cell_type": "markdown",
   "metadata": {
    "editable": true,
    "raw_mimetype": "",
    "slideshow": {
     "slide_type": "subslide"
    }
   },
   "source": [
    "```{figure} _static/images/10_planning_and_plan_execution.png\n",
    ":width: 30%\n",
    ":align: center\n",
    "```\n",
    "\n",
    "- Planner:\n",
    "  - given: description of an environment/system $\\Sigma$, initial state, and objective.\n",
    "  - generate: plan that achieves objective.\n",
    "- Controller:\n",
    "  - given: plan, current state (observation function: $\\eta:S \\rightarrow O$)\n",
    "  - generate: action.\n",
    "- Environment/System:\n",
    "  - evolves as actions are executed and events occur"
   ]
  },
  {
   "cell_type": "markdown",
   "metadata": {
    "editable": true,
    "slideshow": {
     "slide_type": "slide"
    }
   },
   "source": [
    "# Optimal Control\n",
    "\n",
    "Optimal control theory is a branch of control theory that deals with finding a control for a dynamical system over a period of time such that an objective function is optimized. The fundamental idea in optimal control is to formulate the goal of control as the long-term optimization of a scalar cost function as opposed to formulating the objective as direct constraints on the system's behaviour (e.g. overshoot) as done in classical control.\n",
    "\n",
    "The optimal control problem is to find a control $u^* \\in \\mathbf{U}$ which causes the system $\\dot{x}(t) = f(x(t), u(t))$ to follow a trajectory $x^* \\in \\mathbf{X}$ that minimizes the cost (performance measure)."
   ]
  },
  {
   "cell_type": "markdown",
   "metadata": {
    "editable": true,
    "slideshow": {
     "slide_type": "subslide"
    }
   },
   "source": [
    "### Continuous-time\n",
    "\n",
    "$$\n",
    "\\begin{array}{lll}\n",
    "\\displaystyle  \\min_{u} & J(x_0, u) & \\text{(cost)}\\\\\n",
    "\\text{subject to} & \\dot{x}(t) = f(x(t), u(t)) & \\text{(dynamical feasibility)}\\\\\n",
    "& x(T) \\in \\mathbf{X_T} & \\text{(boundary conditions)}\\\\\n",
    "& x(t) \\in \\mathbf{X} , \\forall t \\in [0, T] & \\text{(state constraints)}\\\\\n",
    "& u(t) \\in \\mathbf{U}, \\forall t \\in [0, T] & \\text{(input constraints)}\\\\\n",
    "\\end{array}\n",
    "$$\n",
    "\n",
    "### Discrete-time\n",
    "\n",
    "$$\n",
    "\\begin{array}{lll}\n",
    "\\displaystyle  \\min_{u} & J(x_0, u) & \\text{(cost)}\\\\\n",
    "\\text{subject to} & x_{t+1} = f(x_t, u_t) & \\text{(dynamical feasibility)}\\\\\n",
    "& x_N \\in \\mathbf{X_N} & \\text{(boundary conditions)}\\\\\n",
    "& x_t \\in \\mathbf{X} , \\forall t \\in \\{0, 1, \\dots , N - 1\\} & \\text{(state constraints)}\\\\\n",
    "& u_t \\in \\mathbf{U}, \\forall t \\in \\{0, 1, \\dots , N - 1\\} & \\text{(input constraints)}\\\\\n",
    "\\end{array}\n",
    "$$"
   ]
  },
  {
   "cell_type": "markdown",
   "metadata": {},
   "source": [
    "### Variants\n",
    "\n",
    "There are many variants of the optimal control problem:\n",
    "\n",
    "-  Finite Horizon:\n",
    "\n",
    "$$\n",
    "J_0(x_0, u) = c_N(x_N) + \\sum \\limits_{k = 0}^{N-1} c_k(x_k, u_k)\n",
    "$$\n",
    "\n",
    "- Infinite Horizon:\n",
    "\n",
    "$$\n",
    "J(x_0, u) = \\sum \\limits_{k = 0}^{\\infty} c_k(x_k, u_k)\n",
    "$$\n",
    "\n",
    "- Stochastic finite horizon:\n",
    "\n",
    "$$\n",
    "J(x_0, u) = E\\left[\\sum \\limits_{k=0}^{T} c_k(x_k, u_k)\\right]\n",
    "$$"
   ]
  },
  {
   "cell_type": "markdown",
   "metadata": {
    "editable": true,
    "slideshow": {
     "slide_type": "subslide"
    }
   },
   "source": [
    "This approach is powerful for a number of reasons. First and foremost, it is very general - allowing us to specify the goal of control equally well for fully- or under-actuated, linear or nonlinear, deterministic or stochastic, and continuous or discrete systems. Second, it permits concise descriptions of potentially very complex desired behaviours, specifying the goal of control as a scalar objective (plus a list of constraints)."
   ]
  },
  {
   "cell_type": "markdown",
   "metadata": {
    "editable": true,
    "slideshow": {
     "slide_type": "subslide"
    }
   },
   "source": [
    "Optimal control problems solving methods can be classified in three main families:\n",
    "Dynamic Programming (DP), Indirect Methods based on calculus of variation and Direct Methods.\n",
    "\n",
    "- DP is helpful where the number of states is limited and the dynamics are known. It divides an optimal control issue into smaller subproblems and recursively solves each.\n",
    "\n",
    "- Indirect methods rely on Pontryagin’s Minimum Principle (PMP) to derive the necessary conditions\n",
    "  for optimality. This method uses the Hamiltonian of the system to reduce the global optimal control problem\n",
    "  to the solution of a system of $2N$ equations given in the form of a two-point boundary value problem (BVP).  \n",
    "  Problems involving continuous states and control inputs benefit most from it. "
   ]
  },
  {
   "cell_type": "markdown",
   "metadata": {
    "slideshow": {
     "slide_type": "subslide"
    }
   },
   "source": [
    "- Direct methods rely on the discretization in time of the original optimal control problem which is then transcribed to\n",
    "  a nonlinear programming problem (NLP) solved numerically using a well-established optimisation method.\n",
    "  \n",
    "  There are many direct methods. They differ on how the variables (i.e. control and states) are discretised \n",
    "  and on how the continuous time dynamics is approximated.\n",
    "  \n",
    "  In the case of shooting and multiple shooting the control are parameterised\n",
    "  with piecewise linear functions and the differential equations\n",
    "  are solved via numerical integration. These approaches make use of robust\n",
    "  and available ordinary differential equations solvers\n",
    "  but need sensitivity analysis to compute the jacobians\n",
    "  of the continuity and boundary conditions with respect to the initial and intermediate conditions.\n",
    "\n",
    "  In the case of state and control parameterisation (direct collocation),\n",
    "  both states and controls are approximated with polynomial functions,\n",
    "  therefore the continuous time differential equations are converted into algebraic constraints."
   ]
  },
  {
   "cell_type": "markdown",
   "metadata": {
    "editable": true,
    "slideshow": {
     "slide_type": "subslide"
    }
   },
   "source": [
    "```{figure} _static/images/10_optimal_control_methods.svg\n",
    ":width: 80%\n",
    ":align: center\n",
    "Classification of different methods to solve optimal control problems and related formulations and\n",
    "solution algorithms {cite}`biral_notes_2016`\n",
    "```"
   ]
  },
  {
   "cell_type": "markdown",
   "metadata": {
    "slideshow": {
     "slide_type": "subslide"
    }
   },
   "source": [
    "## Choosing the cost function\n",
    "\n",
    "Choosing a cost function means translating the system's desired physical state into a mathematical formulation.\n",
    "\n",
    "Examples:\n",
    "\n",
    "- Minimum-time problems: $J = t_f - t_0$\n",
    "- Terminal control problems: $J = || x(t_f) - r(t_f) ||^2$\n",
    "- Minimum control-effort problems: $J = \\sum \\limits_{k = t_0}^{t_f} |u(t_k)|$"
   ]
  },
  {
   "cell_type": "markdown",
   "metadata": {},
   "source": [
    "```{exercise} RC-Circuit Exercise\n",
    ":label: rc-circuit-exercise\n",
    ":width: 80%\n",
    "\n",
    "Given the following RC circuit with an external voltage source:\n",
    "\n",
    ":::{figure} _static/images/10_rc_circuit.svg\n",
    "---\n",
    "name: rc-circuit\n",
    "---\n",
    "Schematic created using [CircuitLab](https://www.circuitlab.com)\n",
    ":::\n",
    "\n",
    "The differential equation governing the charge of capacitor is given by:\n",
    "\n",
    "$$\\frac{d y(t)}{dt} + y(t) = u(t)$$\n",
    "\n",
    "\n",
    "with $y(0) = 0$ i.e. the capacitor is uncharged at $t=0$\n",
    "\n",
    "### Questions:\n",
    "\n",
    "- Suppose our only goal is to charge the capacitor as quickly as possible without worrying about anything else. What would be your choice for a cost function?\n",
    "- Suppose that we additionally want to limit the current running throught the circuit. What would then be your choice for a cost function?\n",
    "```"
   ]
  }
 ],
 "metadata": {
  "celltoolbar": "Tags",
  "kernelspec": {
   "display_name": "Python 3 (ipykernel)",
   "language": "python",
   "name": "python3"
  },
  "language_info": {
   "codemirror_mode": {
    "name": "ipython",
    "version": 3
   },
   "file_extension": ".py",
   "mimetype": "text/x-python",
   "name": "python",
   "nbconvert_exporter": "python",
   "pygments_lexer": "ipython3",
   "version": "3.10.12"
  },
  "rise": {
   "footer": "<img src='_static/images/aai-logo.png' alt='logo' height='50em'>",
   "header": "<img src='_static/images/transferlab-logo.svg' alt='logo' height='20em' />",
   "theme": "white"
  },
  "scenes_data": {
   "active_scene": "Default Scene",
   "init_scene": "Default Scene",
   "scenes": [
    "Default Scene"
   ]
  },
  "toc": {
   "base_numbering": 1,
   "nav_menu": {
    "height": "148px",
    "width": "256px"
   },
   "number_sections": false,
   "sideBar": true,
   "skip_h1_title": false,
   "title_cell": "Table of Contents",
   "title_sidebar": "Contents",
   "toc_cell": false,
   "toc_position": {
    "height": "563.2px",
    "left": "125px",
    "top": "116.469px",
    "width": "315.6px"
   },
   "toc_section_display": true,
   "toc_window_display": true
  },
  "varInspector": {
   "cols": {
    "lenName": 16,
    "lenType": 16,
    "lenVar": 40
   },
   "kernels_config": {
    "python": {
     "delete_cmd_postfix": "",
     "delete_cmd_prefix": "del ",
     "library": "var_list.py",
     "varRefreshCmd": "print(var_dic_list())"
    },
    "r": {
     "delete_cmd_postfix": ") ",
     "delete_cmd_prefix": "rm(",
     "library": "var_list.r",
     "varRefreshCmd": "cat(var_dic_list()) "
    }
   },
   "types_to_exclude": [
    "module",
    "function",
    "builtin_function_or_method",
    "instance",
    "_Feature"
   ],
   "window_display": false
  }
 },
 "nbformat": 4,
 "nbformat_minor": 4
}
