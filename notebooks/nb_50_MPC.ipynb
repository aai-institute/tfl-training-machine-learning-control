{
 "cells": [
  {
   "cell_type": "code",
   "execution_count": null,
   "metadata": {
    "editable": true,
    "hide_input": false,
    "init_cell": true,
    "scene__Initialization": true,
    "slideshow": {
     "slide_type": "skip"
    },
    "tags": [
     "remove-input",
     "remove-output",
     "remove-input-nbconv",
     "remove-output-nbconv",
     "ActiveScene"
    ]
   },
   "outputs": [],
   "source": [
    "%%capture\n",
    "%load_ext autoreload\n",
    "%autoreload 2\n",
    "%matplotlib inline\n",
    "%load_ext training_ml_control\n",
    "%set_random_seed 12"
   ]
  },
  {
   "cell_type": "code",
   "execution_count": null,
   "metadata": {
    "editable": true,
    "init_cell": true,
    "scene__Initialization": true,
    "slideshow": {
     "slide_type": "skip"
    },
    "tags": [
     "ActiveScene"
    ]
   },
   "outputs": [],
   "source": [
    "%presentation_style"
   ]
  },
  {
   "cell_type": "code",
   "execution_count": null,
   "metadata": {
    "init_cell": true,
    "scene__Initialization": true,
    "tags": [
     "ActiveScene"
    ]
   },
   "outputs": [],
   "source": [
    "import warnings\n",
    "\n",
    "warnings.simplefilter(\"ignore\", UserWarning)"
   ]
  },
  {
   "cell_type": "code",
   "execution_count": null,
   "metadata": {
    "editable": true,
    "init_cell": true,
    "scene__Initialization": true,
    "slideshow": {
     "slide_type": "skip"
    },
    "tags": [
     "ActiveScene"
    ]
   },
   "outputs": [],
   "source": [
    "%autoreload\n",
    "\n",
    "import casadi\n",
    "import do_mpc\n",
    "import matplotlib.pyplot as plt\n",
    "import numpy as np\n",
    "import seaborn as sns\n",
    "from do_mpc.controller import MPC\n",
    "from do_mpc.model import Model\n",
    "from numpy.typing import NDArray\n",
    "\n",
    "from training_ml_control.control import (\n",
    "    build_mpc_controller,\n",
    ")\n",
    "\n",
    "from training_ml_control.environments import (\n",
    "    create_cart_environment,\n",
    "    create_inverted_pendulum_environment,\n",
    "    simulate_environment,\n",
    ")\n",
    "from training_ml_control.plots import (\n",
    "    animate_cart_simulation,\n",
    "    animate_inverted_pendulum_simulation,\n",
    "    animate_full_inverted_pendulum_simulation,\n",
    ")\n",
    "from training_ml_control.control import (\n",
    "    build_lqr_controller,\n",
    ")\n",
    "from training_ml_control.model import (\n",
    "    build_cart_model,\n",
    "    build_inverted_pendulum_linear_model,\n",
    ")\n",
    "\n",
    "from training_ml_control.nb_utils import (\n",
    "    display_array,\n",
    "    show_video,\n",
    ")\n",
    "\n",
    "sns.set_theme()\n",
    "plt.rcParams[\"figure.figsize\"] = [9, 5]"
   ]
  },
  {
   "cell_type": "markdown",
   "metadata": {
    "editable": true,
    "slideshow": {
     "slide_type": "slide"
    },
    "tags": [
     "remove-cell"
    ]
   },
   "source": [
    ":::{figure} ./_static/images/aai-institute-cover.png\n",
    ":width: 90%\n",
    ":align: center\n",
    "---\n",
    "name: aai-institute\n",
    "---\n",
    ":::"
   ]
  },
  {
   "cell_type": "markdown",
   "metadata": {
    "slideshow": {
     "slide_type": "slide"
    }
   },
   "source": [
    "# Model Predictive Control"
   ]
  },
  {
   "cell_type": "markdown",
   "metadata": {
    "slideshow": {
     "slide_type": "subslide"
    }
   },
   "source": [
    "Unfortunately, the analytically convenient linear quadratic problem formulations are often not satisfactory. There are two main reasons for this:\n",
    "\n",
    "- The system may be nonlinear, and it may be inappropriate to use for\n",
    "  control purposes. Moreover, some of the control variables may be naturally\n",
    "  discrete, and this is incompatible with the linear system viewpoint.\n",
    "  \n",
    "- There may be control and/or state constraints, which are not handled\n",
    "  adequately through quadratic penalty terms in the cost function. For\n",
    "  example, the motion of a car may be constrained by the presence of\n",
    "  obstacles and hardware limitations.\n",
    "  The solution obtained from a linear quadratic model may not be suitable for such\n",
    "  a problem, because quadratic penalties treat constraints \"softly\"\n",
    "  and may produce trajectories that violate the constraints."
   ]
  },
  {
   "cell_type": "markdown",
   "metadata": {
    "slideshow": {
     "slide_type": "subslide"
    }
   },
   "source": [
    "Model Predictive Control (MPC) is a control algorithm based on solving an **on-line** optimal control problem. A receding horizon approach is used which can be summarized in the following steps:\n",
    "\n",
    "1. At time $t$ and for the current state $x_t$, solve, on-line, an open-loop optimal control problem over some future interval taking account the current and future constraints.\n",
    "2. Apply the first step in the optimal control sequence.\n",
    "3. Repeat the procedure at time $t + 1$ using the current state $x_{t + 1}$."
   ]
  },
  {
   "cell_type": "markdown",
   "metadata": {
    "slideshow": {
     "slide_type": "subslide"
    }
   },
   "source": [
    ":::{figure} _static/images/40_model_predictive_control_horizon.svg\n",
    "Illustration of the problem solved by MPC at state $x_k$.\n",
    "We minimize the cost function over the next $l$ stages.\n",
    "We then apply the control of the optimizing sequence up to the control horizon.\n",
    "In most cases, the control horizon is set to 1.\n",
    ":::"
   ]
  },
  {
   "cell_type": "markdown",
   "metadata": {
    "slideshow": {
     "slide_type": "subslide"
    }
   },
   "source": [
    ":::{figure} _static/images/40_mpc_block_diagram.svg\n",
    "MPC Block Diagram.\n",
    ":::"
   ]
  },
  {
   "cell_type": "markdown",
   "metadata": {
    "slideshow": {
     "slide_type": "subslide"
    }
   },
   "source": [
    "A major difference between MPC and finite-state stochastic control problems\n",
    "that are popular in the RL/artificial intelligence literature is that in MPC\n",
    "the state and control spaces are continuous/infinite, such as for example\n",
    "in self-driving cars, the control of aircraft and drones, or the operation of\n",
    "chemical processes"
   ]
  },
  {
   "cell_type": "markdown",
   "metadata": {
    "slideshow": {
     "slide_type": "subslide"
    }
   },
   "source": [
    "## Iterative Linear Quadratic Regulator\n",
    "\n",
    "Iterative Linear Quadratic Regulator (iLQR) is an extension of LQR control to non-linear system with non-linear quadratic costs.\n",
    "\n",
    "The idea is to approximate the cost and dynamics as quadratic and affine, respectively, then exactly solve the resulting LQR problem."
   ]
  },
  {
   "cell_type": "markdown",
   "metadata": {
    "slideshow": {
     "slide_type": "subslide"
    }
   },
   "source": [
    "The basic flow of the algorithm is:\n",
    "\n",
    "1. Initialize with initial state $\\mathbf{x}_0$ and initial control sequence $\\mathbf{U} = \\{\\mathbf{u}_{0}, \\mathbf{u}_{1}, \\dots, \\mathbf{u}_{N-1}\\}$.\n",
    "2. Do a forward pass using the non-linear dynamics, i.e. simulate the system using $(\\mathbf{x}_0, \\mathbf{U})$ to get the trajectory through state space, $\\mathbf{X}$, that results from applying the control sequence $\\mathbf{X}$ starting in $\\mathbf{x}_0$.\n",
    "3. Do a backward pass, estimate the value function and dynamics for each $(\\mathbf{x}, \\mathbf{u})$ in the state-space and control signal trajectories.\n",
    "4. Calculate an updated control signal $\\hat{\\mathbf{U}}$ and evaluate cost of trajectory resulting from $(\\mathbf{x}_0, \\hat{\\mathbf{U}})$.\n",
    "   \n",
    "   1. If $|(\\textrm{cost}(x_0, \\hat{\\textbf{U}}) - \\textrm{cost}(x_0, \\textbf{U})| < \\textrm{threshold},$ then we've converged and exit.\n",
    "   2. If $\\textrm{cost}(x_0, \\hat{\\textbf{U}}) < \\textrm{cost}(x_0, \\textbf{U}),$ then set $\\textbf{U} = \\hat{\\textbf{U}},$ and change the update size to be more aggressive. Go back to step 2.\n",
    "   3. If $\\textrm{cost}(x_0, \\hat{\\textbf{U}}) \\geq \\textrm{cost}(x_0, \\textbf{U}),$ change the update size to be more modest. Go back to step 3."
   ]
  },
  {
   "cell_type": "markdown",
   "metadata": {
    "slideshow": {
     "slide_type": "subslide"
    }
   },
   "source": [
    ":::{note} Mathematical Derivation\n",
    ":class: dropdown\n",
    "\n",
    "Given a discrete-time non-linear system with state-space representation: \n",
    "\n",
    "$$\n",
    "\\mathbf{x}_{t+1} = f(\\mathbf{x}_t, \\mathbf{u}_t)\n",
    "$$\n",
    "\n",
    "we approximate it with a first-order Taylor-series expansion about nominal trajectories\n",
    "$\\mathbf{X} = \\{\\mathbf{x}_0, \\dots, \\mathbf{x}_N\\}, \\mathbf{U} = \\{ \\mathbf{u}_0, \\dots, \\mathbf{u}_N \\}$:\n",
    "\n",
    "$$\n",
    "\\begin{array}{lll}\n",
    "\\mathbf{x}_{t+1} + \\delta\\mathbf{x}_{t+1} &= f(\\mathbf{x}_t + \\delta \\mathbf{x}_t, \\mathbf{u}_t + \\delta \\mathbf{u}_t) \\\\ \n",
    "& \\approx f(\\mathbf{x}_t, \\mathbf{u}_t)\n",
    "+ \\frac{\\partial f}{\\partial \\mathbf{x}}|_{\\mathbf{x}_t, \\mathbf{u}_t}\\delta\\mathbf{x}_t\n",
    "+ \\frac{\\partial f}{\\partial \\mathbf{u}}|_{\\mathbf{x}_t, \\mathbf{u}_t}\\delta\\mathbf{u}_t\\\\\n",
    "\\delta\\mathbf{x}_{t+1} &= A_t\\delta\\mathbf{x}_t + B_t\\delta\\mathbf{u}_t\n",
    "\\end{array}\n",
    "$$\n",
    "\n",
    "with\n",
    "$A_t = A(\\mathbf{x}_t, \\mathbf{u}_t) = \\frac{\\partial f}{\\partial \\mathbf{x}}|_{\\mathbf{x}_t, \\mathbf{u}_t}$ and\n",
    "$B_t = B(\\mathbf{x}_t, \\mathbf{u}_t) = \\frac{\\partial f}{\\partial \\mathbf{u}}|_{\\mathbf{x}_t, \\mathbf{u}_t}$\n",
    "\n",
    "Given a general cost function that is not linear-quadratic, we use a second-order Taylor Series Expansion to linearize the dynamics into a form common for optimal control problems:\n",
    "\n",
    "$$\n",
    "\\begin{array}{lll}\n",
    "J_N(\\mathbf{x}_0, \\mathbf{U}) &=\n",
    "l_f(\\mathbf{x}_N) + \\sum \\limits_{t=1}^{N-1} l(\\mathbf{x}_t, \\mathbf{u}_t)\\\\\n",
    "&\\approx \\frac{1}{2} \\mathbf{x}^T_N Q \\mathbf{x}_N + q_N^T \\mathbf{x}_N\n",
    "+ \\sum \\limits_{t=1}^{N-1}\n",
    "\\frac{1}{2} \\mathbf{x}^T_t Q_t \\mathbf{x}_t\n",
    "+ \\frac{1}{2} \\mathbf{u}^T_t R_t \\mathbf{u}_t\n",
    "+ \\frac{1}{2} \\mathbf{x}^T_t H_t \\mathbf{u}_t\n",
    "+ \\frac{1}{2} \\mathbf{u}^T_t H_t^T \\mathbf{x}_t\n",
    "+ q_t^T \\mathbf{x}_t +  + r_t^T \\mathbf{u}_t\n",
    "\\end{array}\n",
    "$$\n",
    "\n",
    "We define the following variables for convenience:\n",
    "\n",
    "$$\n",
    "\\begin{array}{lll}\n",
    "l_x &:= \\frac{\\partial l}{\\partial \\mathbf{x}}|_{\\mathbf{x}_t, \\mathbf{u}_t} = Q_t \\mathbf{x}_t + q_t\n",
    "\\\\\n",
    "l_u &:= \\frac{\\partial l}{\\partial \\mathbf{u}}|_{\\mathbf{x}_t, \\mathbf{u}_t} = R_t \\mathbf{u}_t + r_t\n",
    "\\\\\n",
    "l_{xx} &:= \\frac{\\partial^2 l}{\\partial \\mathbf{x}^2}|_{\\mathbf{x}_t, \\mathbf{u}_t} = Q_t\n",
    "\\\\\n",
    "l_{uu} &:= \\frac{\\partial^2 l}{\\partial \\mathbf{u}^2}|_{\\mathbf{x}_t, \\mathbf{u}_t} = R_t\n",
    "\\\\\n",
    "l_{xu} &:= \\frac{\\partial^2 l}{\\partial \\mathbf{x}\\mathbf{u}}|_{\\mathbf{x}_t, \\mathbf{u}_t} = H_t\n",
    "\\\\\n",
    "l_{ux} &:= \\frac{\\partial^2 l}{\\partial \\mathbf{u}\\mathbf{x}}|_{\\mathbf{x}_t, \\mathbf{u}_t} = H_t^T\n",
    "\\end{array}\n",
    "$$\n",
    "\n",
    "We can apply Bellman's Principle of Optimality to define the optimal cost-to-go:\n",
    "\n",
    "$$\n",
    "\\begin{array}{lll}\n",
    "V_N(\\mathbf{x}_N) &= g_f(\\mathbf{x}_N)\\\\\n",
    "V_{t}(\\mathbf{x}_t) &= \\displaystyle \\min_u {g(\\mathbf{x}_{t}, \\mathbf{u}_{t}) + V_{t+1}(f(\\mathbf{x}_{t}, \\mathbf{u}_{N-t}))}\\\\\n",
    "V_{t}(\\mathbf{x}_t) &= \\displaystyle \\min_u Q_{t}(\\mathbf{x}_{t}, \\mathbf{u}_{t})\n",
    "\\end{array}\\\\\n",
    "$$\n",
    "\n",
    "The $Q$-function is the discrete-time analogue of the Hamiltonian, sometimes known as the pseudo-Hamiltonian.\n",
    "\n",
    "We approximate the cost-to-go function as locally quadratic near the nominal trajectory gives us (we drop the time index in some of the equations for the sake of readability):\n",
    "\n",
    "$$\n",
    "\\delta V(\\mathbf{x}) = s^T \\delta\\mathbf{x} + \\frac{1}{2} \\delta\\mathbf{x}^T S \\delta\\mathbf{x}\n",
    "$$\n",
    "\n",
    "with \n",
    "$s = \\frac{\\partial V}{\\partial \\mathbf{x}}|_{\\mathbf{x}},\n",
    "S = \\frac{\\partial^2 V}{\\partial \\mathbf{x}^2}|_{\\mathbf{x}}$\n",
    "\n",
    "Similarily:\n",
    "\n",
    "$$\n",
    "\\delta Q(\\mathbf{x}, \\mathbf{u}) = \n",
    "\\frac{1}{2}\n",
    "\\begin{bmatrix} \\delta\\mathbf{x} \\\\ \\delta\\mathbf{u} \\end{bmatrix}^T\n",
    "\\begin{bmatrix} Q_{xx} & Q_{xu} \\\\ Q_{ux} & Q_{uu} \\end{bmatrix}\n",
    "\\begin{bmatrix} \\delta\\mathbf{x} \\\\ \\delta\\mathbf{u} \\end{bmatrix}\n",
    "+\n",
    "\\begin{bmatrix} Q_{x} \\\\ Q_{u} \\end{bmatrix}^T\n",
    "\\begin{bmatrix} \\delta\\mathbf{x} \\\\ \\delta\\mathbf{u} \\end{bmatrix}\n",
    "$$\n",
    "\n",
    "with:\n",
    "\n",
    "$$\n",
    "\\begin{array}{lll}\n",
    "Q_x &= l_x + s_{t+1} A_t \\\\\n",
    "Q_u &= l_u + s_{t+1} B_t \\\\\n",
    "Q_{xx} &= l_{xx} + A_t^T S_{t+1} A_t \\\\\n",
    "Q_{uu} &= l_{uu} + B_t^T S_{t+1} B_t \\\\\n",
    "Q_{ux} &= l_{ux} + B_t^T S_{t+1} A_t\n",
    "\\end{array}\n",
    "$$\n",
    "\n",
    "The optimal control modification $\\delta\\mathbf{u}^∗$ for some state perturbation $\\delta\\mathbf{x}$, is obtained by minimizing the quadratic model:\n",
    "\n",
    "$$\n",
    "\\delta\\mathbf{u}^∗(\\delta\\mathbf{x}) = \\displaystyle\\arg\\min_{\\delta\\mathbf{u}} Q(\\delta\\mathbf{x}, \\delta\\mathbf{u}) = k + K\\delta\\mathbf{x}\n",
    "$$\n",
    "\n",
    "This is a locally-linear feedback policy with:\n",
    "\n",
    "$$\n",
    "k := -Q_{uu}^{-1}Q_u\\\\\n",
    "K := -Q_{uu}^{-1}Q_{ux}\n",
    "$$\n",
    "\n",
    "Plugging this back into the expansion of $Q$, a quadratic model of $V$ is obtained. After simplification it is:\n",
    "\n",
    "$$\n",
    "\\begin{array}{lll}\n",
    "\\Delta V &= \\frac{1}{2} k^T Q_{uu} k + k^T Q_u\\\\\n",
    "s &= Q_x + K^T Q_{uu} k + K^T Q_u + Q_{ux}^T k\\\\\n",
    "S &= Q_{xx} + K^T Q_{uu} K + K^T Q_{ux} + Q_{ux}^T K\n",
    "\\end{array}\n",
    "$$\n",
    "\n",
    "Once these terms are computed, a forward pass computes a new trajectory:\n",
    "\n",
    "$$\n",
    "\\begin{array}{lll}\n",
    "\\hat{x}_0 &= x_0\\\\\n",
    "\\hat{u}_t &= u_t + k_t + K_t(\\hat{x}_t - x_t)\\\\\n",
    "\\hat{x}_{t+1} &= f(\\hat{x}_t, \\hat{u}_t)\n",
    "\\end{array}\n",
    "$$\n",
    "\n",
    ":::"
   ]
  },
  {
   "cell_type": "markdown",
   "metadata": {
    "slideshow": {
     "slide_type": "subslide"
    }
   },
   "source": [
    "[do-mpc](https://www.do-mpc.com/en/latest/) uses [CasADi](https://web.casadi.org/python-api/) (an open-source tool for nonlinear optimization and algorithmic differentiation) for the modeling part and for the different cost functions. Here's a table of useful operators:\n",
    "\n",
    "| Operator | Description |Equation |\n",
    "| --- | --- | --- |\n",
    "| [casadi.sumsqr(x)](https://web.casadi.org/python-api/#casadi.casadi.sumsqr) | Squared-sum | $\\sum x_i^2$ |\n",
    "| [casadi.norm_2(x)](https://web.casadi.org/python-api/#casadi.casadi.norm_2) | $L_2$-norm | $\\sqrt{\\sum x_i^2}$ |\n",
    "| [casadi.norm_1(x)](https://web.casadi.org/python-api/#casadi.casadi.norm_1) | $L_1$-norm | $\\sum |x_i|$ |\n",
    "| [casadi.bilin(A, x)](https://web.casadi.org/python-api/#casadi.casadi.bilin) | Quadratic Form | $x^T A x$ |\n",
    "| [casadi.bilin(A, x, y)](https://web.casadi.org/python-api/#casadi.casadi.bilin) | Bilinear Form | $x^T A y$ |"
   ]
  },
  {
   "cell_type": "code",
   "execution_count": null,
   "metadata": {},
   "outputs": [],
   "source": [
    "?? build_mpc_controller"
   ]
  },
  {
   "cell_type": "markdown",
   "metadata": {
    "slideshow": {
     "slide_type": "subslide"
    }
   },
   "source": [
    "#### Controller\n",
    "\n",
    "First, we create an instance of the MPC class is generated with the Mass-Spring-Damper prediction model defined above."
   ]
  },
  {
   "cell_type": "code",
   "execution_count": null,
   "metadata": {
    "slideshow": {
     "slide_type": "fragment"
    }
   },
   "outputs": [],
   "source": [
    "mpc = do_mpc.controller.MPC(mass_spring_damper)"
   ]
  },
  {
   "cell_type": "markdown",
   "metadata": {
    "slideshow": {
     "slide_type": "subslide"
    }
   },
   "source": [
    "We choose the finite prediction horizon `n_horizon = 20`, the time step `t_step = 0.04s` to be the same as the environment's time step. We also set the parameters of the applied discretization scheme orthogonal collocation."
   ]
  },
  {
   "cell_type": "code",
   "execution_count": null,
   "metadata": {
    "slideshow": {
     "slide_type": "fragment"
    }
   },
   "outputs": [],
   "source": [
    "env = create_mass_spring_damper_environment()\n",
    "mpc_params = {\n",
    "    \"n_horizon\": 20,\n",
    "    \"t_step\": env.dt,\n",
    "    \"state_discretization\": \"collocation\",\n",
    "    \"collocation_type\": \"radau\",\n",
    "    \"collocation_deg\": 3,\n",
    "    \"collocation_ni\": 1,\n",
    "    \"store_full_solution\": True,\n",
    "    # Use MA27 linear solver in ipopt for faster calculations:\n",
    "    \"nlpsol_opts\": {\"ipopt.linear_solver\": \"mumps\"},\n",
    "}\n",
    "mpc.set_param(**mpc_params)"
   ]
  },
  {
   "cell_type": "markdown",
   "metadata": {
    "slideshow": {
     "slide_type": "subslide"
    }
   },
   "source": [
    "#### Objective\n",
    "\n",
    "The control objective is to move the mass to a desired position (`0.1`) and keep it there."
   ]
  },
  {
   "cell_type": "code",
   "execution_count": null,
   "metadata": {
    "slideshow": {
     "slide_type": "fragment"
    }
   },
   "outputs": [],
   "source": [
    "xss = np.array([0.1, 0.0])\n",
    "distance_cost = 100 * casadi.norm_2(mass_spring_damper.x.cat - xss)\n",
    "terminal_cost = distance_cost\n",
    "stage_cost = distance_cost\n",
    "print(f\"{stage_cost=}\")\n",
    "print(f\"{terminal_cost=}\")\n",
    "mpc.set_objective(mterm=terminal_cost, lterm=stage_cost)"
   ]
  },
  {
   "cell_type": "markdown",
   "metadata": {
    "slideshow": {
     "slide_type": "subslide"
    }
   },
   "source": [
    "We also restrict the input force."
   ]
  },
  {
   "cell_type": "code",
   "execution_count": null,
   "metadata": {
    "slideshow": {
     "slide_type": "fragment"
    }
   },
   "outputs": [],
   "source": [
    "force_penalty = 1e-2\n",
    "mpc.set_rterm(force=force_penalty)"
   ]
  },
  {
   "cell_type": "markdown",
   "metadata": {
    "slideshow": {
     "slide_type": "subslide"
    }
   },
   "source": [
    "#### Constraints\n",
    "\n",
    "We apply constraints on the force. In this case, there is only an upper and lower bounds for the force."
   ]
  },
  {
   "cell_type": "code",
   "execution_count": null,
   "metadata": {
    "slideshow": {
     "slide_type": "fragment"
    }
   },
   "outputs": [],
   "source": [
    "# lower and upper bounds of the input\n",
    "u_max = 20\n",
    "mpc.bounds[\"lower\", \"_u\", \"force\"] = -u_max\n",
    "mpc.bounds[\"upper\", \"_u\", \"force\"] = u_max"
   ]
  },
  {
   "cell_type": "markdown",
   "metadata": {
    "slideshow": {
     "slide_type": "subslide"
    }
   },
   "source": [
    "#### Setup\n",
    "\n",
    "We can now setup the controller."
   ]
  },
  {
   "cell_type": "code",
   "execution_count": null,
   "metadata": {
    "slideshow": {
     "slide_type": "fragment"
    }
   },
   "outputs": [],
   "source": [
    "mpc.setup()"
   ]
  },
  {
   "cell_type": "markdown",
   "metadata": {
    "slideshow": {
     "slide_type": "subslide"
    }
   },
   "source": [
    "#### Simulation\n",
    "\n",
    "We set the initial state and simulate the closed-loop for 100 steps."
   ]
  },
  {
   "cell_type": "code",
   "execution_count": null,
   "metadata": {
    "slideshow": {
     "slide_type": "subslide"
    }
   },
   "outputs": [],
   "source": [
    "%%capture\n",
    "mpc.reset_history()\n",
    "mass_spring_damper_simulator.reset_history()\n",
    "x0 = np.zeros((2, 1))\n",
    "mass_spring_damper_simulator.x0 = x0\n",
    "mpc.x0 = x0\n",
    "mpc.set_initial_guess()\n",
    "for k in range(100):\n",
    "    u0 = mpc.make_step(x0)\n",
    "    x0 = mass_spring_damper_simulator.make_step(u0)"
   ]
  },
  {
   "cell_type": "code",
   "execution_count": null,
   "metadata": {
    "slideshow": {
     "slide_type": "subslide"
    }
   },
   "outputs": [],
   "source": [
    "animate_mass_spring_damper_simulation(mpc.data)"
   ]
  },
  {
   "cell_type": "markdown",
   "metadata": {
    "slideshow": {
     "slide_type": "subslide"
    }
   },
   "source": [
    "#### Evaluation\n",
    "\n",
    "Finally, we evaluate the controller on the actual environment."
   ]
  },
  {
   "cell_type": "code",
   "execution_count": null,
   "metadata": {
    "slideshow": {
     "slide_type": "subslide"
    }
   },
   "outputs": [],
   "source": [
    "class MPCController:\n",
    "    def __init__(self, mpc: do_mpc.controller.MPC) -> None:\n",
    "        self.mpc = mpc\n",
    "        self.mpc.reset_history()\n",
    "        self.mpc.x0 = np.zeros(2)\n",
    "        self.mpc.set_initial_guess()\n",
    "\n",
    "    def act(self, observation: NDArray) -> NDArray:\n",
    "        return mpc.make_step(observation.reshape(-1, 1)).ravel()"
   ]
  },
  {
   "cell_type": "code",
   "execution_count": null,
   "metadata": {
    "slideshow": {
     "slide_type": "subslide"
    }
   },
   "outputs": [],
   "source": [
    "%%capture\n",
    "max_steps = 100\n",
    "env = create_mass_spring_damper_environment(\n",
    "    render_mode=render_mode, max_steps=max_steps\n",
    ")\n",
    "controller = MPCController(mpc)\n",
    "results = simulate_environment(env, max_steps=max_steps, controller=controller)"
   ]
  },
  {
   "cell_type": "code",
   "execution_count": null,
   "metadata": {
    "slideshow": {
     "slide_type": "subslide"
    }
   },
   "outputs": [],
   "source": [
    "show_video(results.frames, fps=1 / env.dt)"
   ]
  },
  {
   "cell_type": "code",
   "execution_count": null,
   "metadata": {
    "slideshow": {
     "slide_type": "subslide"
    }
   },
   "outputs": [],
   "source": [
    "animate_mass_spring_damper_simulation(mpc.data)"
   ]
  },
  {
   "cell_type": "markdown",
   "metadata": {
    "slideshow": {
     "slide_type": "subslide"
    }
   },
   "source": [
    ":::{exercise} Linear Inverted Pendulum MPC\n",
    ":label: inverted-pendulum-linear-mpc\n",
    "\n",
    "- Design an MPC controller for the linearized inverted pendulum.\n",
    "- For each case, try different cost functions:\n",
    "  - $\\sum \\theta^2$\n",
    "  - $\\sum |\\theta|$\n",
    "  - $E_{\\text{kinetic}} - E_{\\text{potential}}$\n",
    ":::"
   ]
  },
  {
   "cell_type": "markdown",
   "metadata": {
    "slideshow": {
     "slide_type": "subslide"
    },
    "solution2": "hidden",
    "solution2_first": true
   },
   "source": [
    "::::{solution} inverted-pendulum-linear-mpc\n",
    "::::"
   ]
  },
  {
   "cell_type": "markdown",
   "metadata": {
    "slideshow": {
     "slide_type": "subslide"
    },
    "solution2": "hidden"
   },
   "source": [
    "#### Controller"
   ]
  },
  {
   "cell_type": "code",
   "execution_count": null,
   "metadata": {
    "slideshow": {
     "slide_type": "fragment"
    },
    "solution2": "hidden"
   },
   "outputs": [],
   "source": [
    "mpc = do_mpc.controller.MPC(inverted_pendulum_lin)"
   ]
  },
  {
   "cell_type": "code",
   "execution_count": null,
   "metadata": {
    "slideshow": {
     "slide_type": "subslide"
    },
    "solution2": "hidden"
   },
   "outputs": [],
   "source": [
    "env = create_inverted_pendulum_environment()\n",
    "mpc_params = {\n",
    "    \"n_horizon\": 50,\n",
    "    \"t_step\": env.dt,\n",
    "    \"state_discretization\": \"collocation\",\n",
    "    \"collocation_type\": \"radau\",\n",
    "    \"collocation_deg\": 3,\n",
    "    \"collocation_ni\": 1,\n",
    "    \"store_full_solution\": True,\n",
    "    # Use MA27 linear solver in ipopt for faster calculations:\n",
    "    \"nlpsol_opts\": {\"ipopt.linear_solver\": \"mumps\"},\n",
    "}\n",
    "mpc.set_param(**mpc_params)"
   ]
  },
  {
   "cell_type": "markdown",
   "metadata": {
    "slideshow": {
     "slide_type": "subslide"
    },
    "solution2": "hidden"
   },
   "source": [
    "#### Objective"
   ]
  },
  {
   "cell_type": "code",
   "execution_count": null,
   "metadata": {
    "slideshow": {
     "slide_type": "fragment"
    },
    "solution2": "hidden"
   },
   "outputs": [],
   "source": [
    "xss = np.array([0.0, 0.0])\n",
    "distance_cost = casadi.bilin(np.diag([100, 1]), inverted_pendulum_lin.x.cat - xss)\n",
    "terminal_cost = distance_cost\n",
    "stage_cost = distance_cost\n",
    "print(f\"{stage_cost=}\")\n",
    "print(f\"{terminal_cost=}\")\n",
    "mpc.set_objective(mterm=terminal_cost, lterm=stage_cost)"
   ]
  },
  {
   "cell_type": "code",
   "execution_count": null,
   "metadata": {
    "slideshow": {
     "slide_type": "fragment"
    },
    "solution2": "hidden"
   },
   "outputs": [],
   "source": [
    "force_penalty = 1e-4\n",
    "mpc.set_rterm(force=force_penalty)"
   ]
  },
  {
   "cell_type": "markdown",
   "metadata": {
    "slideshow": {
     "slide_type": "subslide"
    },
    "solution2": "hidden"
   },
   "source": [
    "#### Constraints"
   ]
  },
  {
   "cell_type": "code",
   "execution_count": null,
   "metadata": {
    "slideshow": {
     "slide_type": "fragment"
    },
    "solution2": "hidden"
   },
   "outputs": [],
   "source": [
    "# lower and upper bounds of the input\n",
    "u_max = 3\n",
    "mpc.bounds[\"lower\", \"_u\", \"force\"] = -u_max\n",
    "mpc.bounds[\"upper\", \"_u\", \"force\"] = u_max"
   ]
  },
  {
   "cell_type": "markdown",
   "metadata": {
    "slideshow": {
     "slide_type": "subslide"
    },
    "solution2": "hidden"
   },
   "source": [
    "#### Setup"
   ]
  },
  {
   "cell_type": "code",
   "execution_count": null,
   "metadata": {
    "slideshow": {
     "slide_type": "fragment"
    },
    "solution2": "hidden"
   },
   "outputs": [],
   "source": [
    "mpc.setup()"
   ]
  },
  {
   "cell_type": "markdown",
   "metadata": {
    "slideshow": {
     "slide_type": "subslide"
    },
    "solution2": "hidden"
   },
   "source": [
    "#### Simulation"
   ]
  },
  {
   "cell_type": "code",
   "execution_count": null,
   "metadata": {
    "slideshow": {
     "slide_type": "subslide"
    },
    "solution2": "hidden"
   },
   "outputs": [],
   "source": [
    "%%capture\n",
    "mpc.reset_history()\n",
    "linear_simulator.reset_history()\n",
    "x0 = np.zeros((2, 1))\n",
    "x0[0] = 0.01\n",
    "linear_simulator.x0 = x0\n",
    "mpc.x0 = x0\n",
    "mpc.set_initial_guess()\n",
    "for k in range(100):\n",
    "    u0 = mpc.make_step(x0)\n",
    "    x0 = linear_simulator.make_step(u0)"
   ]
  },
  {
   "cell_type": "code",
   "execution_count": null,
   "metadata": {
    "slideshow": {
     "slide_type": "subslide"
    },
    "solution2": "hidden"
   },
   "outputs": [],
   "source": [
    "animate_inverted_pendulum_simulation(mpc.data)"
   ]
  },
  {
   "cell_type": "markdown",
   "metadata": {
    "slideshow": {
     "slide_type": "subslide"
    },
    "solution2": "hidden"
   },
   "source": [
    "#### Evaluation"
   ]
  },
  {
   "cell_type": "code",
   "execution_count": null,
   "metadata": {
    "slideshow": {
     "slide_type": "subslide"
    },
    "solution2": "hidden"
   },
   "outputs": [],
   "source": [
    "class MPCController:\n",
    "    def __init__(self, mpc: do_mpc.controller.MPC) -> None:\n",
    "        self.mpc = mpc\n",
    "        self.mpc.reset_history()\n",
    "        self.mpc.x0 = np.zeros(2)\n",
    "        self.mpc.set_initial_guess()\n",
    "\n",
    "    def act(self, observation: NDArray) -> NDArray:\n",
    "        return mpc.make_step(observation[[1, 3]].reshape(-1, 1)).ravel()"
   ]
  },
  {
   "cell_type": "code",
   "execution_count": null,
   "metadata": {
    "slideshow": {
     "slide_type": "subslide"
    },
    "solution2": "hidden"
   },
   "outputs": [],
   "source": [
    "%%capture\n",
    "max_steps = 500\n",
    "env = create_inverted_pendulum_environment(max_steps=max_steps)\n",
    "controller = MPCController(mpc)\n",
    "results = simulate_environment(env, max_steps=max_steps, controller=controller)"
   ]
  },
  {
   "cell_type": "code",
   "execution_count": null,
   "metadata": {
    "slideshow": {
     "slide_type": "subslide"
    },
    "solution2": "hidden"
   },
   "outputs": [],
   "source": [
    "show_video(results.frames, fps=1 / env.dt)"
   ]
  },
  {
   "cell_type": "code",
   "execution_count": null,
   "metadata": {
    "slideshow": {
     "slide_type": "subslide"
    },
    "solution2": "hidden"
   },
   "outputs": [],
   "source": [
    "animate_inverted_pendulum_simulation(mpc.data)"
   ]
  },
  {
   "cell_type": "markdown",
   "metadata": {
    "slideshow": {
     "slide_type": "subslide"
    }
   },
   "source": [
    "## Exercise\n",
    "\n",
    "- Design an MPC Controller for the non-linear inverted pendulum system for two different cases:\n",
    "  1. Cart at origin and upright Pendulm: Set the reference for the cart position to the origin.\n",
    "  2. Pendulum Swing-up: Set the initial angle to to $-\\pi$ i.e. start with the pendulum at the bottom.\n",
    "  3. Same as 2 but set the reference for the cart position to the origin.\n",
    "  4. Make the pendulum rotate as fast as possible.\n",
    "  \n",
    "> **Note 1** Use the following to create the environment with initial angle set to -np.pi and cutoff angle to np.inf for second > case.\n",
    "> ```python\n",
    "> env = create_inverted_pendulum_environment(cutoff_angle=np.inf, initial_angle=-np.pi)\n",
    "> ```\n",
    "\n",
    "> **Note 2**: You can access the inverted pendulum's kinetic, respectively potential, energy using\n",
    "> `inverted_pendulum.aux[\"E_kinetic\"]`, respectively `inverted_pendulum.aux[\"E_potential\"]`"
   ]
  },
  {
   "cell_type": "markdown",
   "metadata": {
    "slideshow": {
     "slide_type": "subslide"
    }
   },
   "source": [
    "## Solution"
   ]
  },
  {
   "cell_type": "markdown",
   "metadata": {
    "slideshow": {
     "slide_type": "subslide"
    },
    "solution2": "hidden",
    "solution2_first": true
   },
   "source": [
    "### Swing-up"
   ]
  },
  {
   "cell_type": "markdown",
   "metadata": {
    "slideshow": {
     "slide_type": "subslide"
    },
    "solution2": "hidden"
   },
   "source": [
    "#### Controller"
   ]
  },
  {
   "cell_type": "code",
   "execution_count": null,
   "metadata": {
    "slideshow": {
     "slide_type": "fragment"
    },
    "solution2": "hidden"
   },
   "outputs": [],
   "source": [
    "mpc = do_mpc.controller.MPC(inverted_pendulum)"
   ]
  },
  {
   "cell_type": "code",
   "execution_count": null,
   "metadata": {
    "slideshow": {
     "slide_type": "subslide"
    },
    "solution2": "hidden"
   },
   "outputs": [],
   "source": [
    "env = create_inverted_pendulum_environment()\n",
    "mpc_params = {\n",
    "    \"n_horizon\": 120,\n",
    "    \"t_step\": env.dt,\n",
    "    \"state_discretization\": \"collocation\",\n",
    "    \"collocation_type\": \"radau\",\n",
    "    \"collocation_deg\": 3,\n",
    "    \"collocation_ni\": 1,\n",
    "    \"store_full_solution\": True,\n",
    "    # Use MA27 linear solver in ipopt for faster calculations:\n",
    "    \"nlpsol_opts\": {\"ipopt.linear_solver\": \"mumps\"},\n",
    "}\n",
    "mpc.set_param(**mpc_params)"
   ]
  },
  {
   "cell_type": "markdown",
   "metadata": {
    "slideshow": {
     "slide_type": "subslide"
    },
    "solution2": "hidden"
   },
   "source": [
    "#### Objective"
   ]
  },
  {
   "cell_type": "code",
   "execution_count": null,
   "metadata": {
    "slideshow": {
     "slide_type": "fragment"
    },
    "solution2": "hidden"
   },
   "outputs": [],
   "source": [
    "# energy_cost = 0.1 * inverted_pendulum.aux[\"E_kinetic\"] - 1000 * inverted_pendulum.aux[\"E_potential\"]\n",
    "energy_cost = -10000 * inverted_pendulum.aux[\"E_potential\"]\n",
    "terminal_cost = energy_cost\n",
    "stage_cost = energy_cost\n",
    "print(f\"{stage_cost=}\")\n",
    "print(f\"{terminal_cost=}\")\n",
    "mpc.set_objective(mterm=terminal_cost, lterm=stage_cost)"
   ]
  },
  {
   "cell_type": "code",
   "execution_count": null,
   "metadata": {
    "slideshow": {
     "slide_type": "fragment"
    },
    "solution2": "hidden"
   },
   "outputs": [],
   "source": [
    "force_penalty = 0.0\n",
    "mpc.set_rterm(force=force_penalty)"
   ]
  },
  {
   "cell_type": "markdown",
   "metadata": {
    "slideshow": {
     "slide_type": "subslide"
    },
    "solution2": "hidden"
   },
   "source": [
    "#### Constraints"
   ]
  },
  {
   "cell_type": "code",
   "execution_count": null,
   "metadata": {
    "slideshow": {
     "slide_type": "fragment"
    },
    "solution2": "hidden"
   },
   "outputs": [],
   "source": [
    "# lower and upper bounds of the position\n",
    "x_max = env.x_threshold\n",
    "mpc.bounds[\"lower\", \"_x\", \"position\"] = -x_max\n",
    "mpc.bounds[\"upper\", \"_x\", \"position\"] = x_max\n",
    "# lower and upper bounds of the input\n",
    "u_max = env.force_max\n",
    "mpc.bounds[\"lower\", \"_u\", \"force\"] = -u_max\n",
    "mpc.bounds[\"upper\", \"_u\", \"force\"] = u_max"
   ]
  },
  {
   "cell_type": "markdown",
   "metadata": {
    "slideshow": {
     "slide_type": "subslide"
    },
    "solution2": "hidden"
   },
   "source": [
    "#### Setup"
   ]
  },
  {
   "cell_type": "code",
   "execution_count": null,
   "metadata": {
    "slideshow": {
     "slide_type": "fragment"
    },
    "solution2": "hidden"
   },
   "outputs": [],
   "source": [
    "mpc.setup()"
   ]
  },
  {
   "cell_type": "markdown",
   "metadata": {
    "slideshow": {
     "slide_type": "subslide"
    },
    "solution2": "hidden"
   },
   "source": [
    "#### Simulation"
   ]
  },
  {
   "cell_type": "code",
   "execution_count": null,
   "metadata": {
    "slideshow": {
     "slide_type": "subslide"
    },
    "solution2": "hidden"
   },
   "outputs": [],
   "source": [
    "%%capture\n",
    "mpc.reset_history()\n",
    "nonlinear_simulator.reset_history()\n",
    "x0 = np.array([0.0, -0.99 * np.pi, 0.0, 0.0])\n",
    "nonlinear_simulator.x0 = x0\n",
    "mpc.x0 = x0\n",
    "mpc.set_initial_guess()\n",
    "for k in range(100):\n",
    "    u0 = mpc.make_step(x0)\n",
    "    x0 = nonlinear_simulator.make_step(u0)"
   ]
  },
  {
   "cell_type": "code",
   "execution_count": null,
   "metadata": {
    "slideshow": {
     "slide_type": "subslide"
    },
    "solution2": "hidden"
   },
   "outputs": [],
   "source": [
    "animate_full_inverted_pendulum_simulation(mpc.data)"
   ]
  },
  {
   "cell_type": "markdown",
   "metadata": {
    "slideshow": {
     "slide_type": "subslide"
    },
    "solution2": "hidden"
   },
   "source": [
    "#### Evaluation"
   ]
  },
  {
   "cell_type": "code",
   "execution_count": null,
   "metadata": {
    "slideshow": {
     "slide_type": "subslide"
    },
    "solution2": "hidden"
   },
   "outputs": [],
   "source": [
    "class MPCController:\n",
    "    def __init__(self, mpc: do_mpc.controller.MPC) -> None:\n",
    "        self.mpc = mpc\n",
    "        self.mpc.reset_history()\n",
    "        self.mpc.x0 = np.array([0.0, -0.99 * np.pi, 0.0, 0.0])\n",
    "        self.mpc.set_initial_guess()\n",
    "\n",
    "    def act(self, observation: NDArray) -> NDArray:\n",
    "        return mpc.make_step(observation.reshape(-1, 1)).ravel()"
   ]
  },
  {
   "cell_type": "code",
   "execution_count": null,
   "metadata": {
    "slideshow": {
     "slide_type": "subslide"
    },
    "solution2": "hidden"
   },
   "outputs": [],
   "source": [
    "%%capture\n",
    "max_steps = 500\n",
    "env = create_inverted_pendulum_environment(\n",
    "    max_steps=max_steps,\n",
    "    theta_threshold=np.inf,\n",
    "    theta_initial=-np.pi,\n",
    ")\n",
    "controller = MPCController(mpc)\n",
    "results = simulate_environment(env, max_steps=max_steps, controller=controller)"
   ]
  },
  {
   "cell_type": "code",
   "execution_count": null,
   "metadata": {
    "slideshow": {
     "slide_type": "subslide"
    },
    "solution2": "hidden"
   },
   "outputs": [],
   "source": [
    "show_video(results.frames, fps=1 / env.dt)"
   ]
  },
  {
   "cell_type": "code",
   "execution_count": null,
   "metadata": {
    "slideshow": {
     "slide_type": "subslide"
    },
    "solution2": "hidden"
   },
   "outputs": [],
   "source": [
    "animate_full_inverted_pendulum_simulation(mpc.data)"
   ]
  },
  {
   "cell_type": "markdown",
   "metadata": {
    "slideshow": {
     "slide_type": "slide"
    }
   },
   "source": [
    "# Stochastic Optimal Control Problem"
   ]
  },
  {
   "cell_type": "markdown",
   "metadata": {
    "slideshow": {
     "slide_type": "subslide"
    }
   },
   "source": [
    "So far we have focused on deterministic systems with no noise or disturbances. This is however not the case for real systems.\n",
    "The methods discussed in this part deal with the problem of controlling dynamical systems\n",
    "that are subject to system constraints under uncertainty, which can affect numerous parts of the\n",
    "problem formulation. The system dynamics in discrete-time is given by:\n",
    "\n",
    "$$\n",
    "x_{k+1} = f_t(x_k, u_k, k, w_k, \\theta_t)\n",
    "$$\n",
    "\n",
    "Where:\n",
    "- $x_k \\in \\mathbf{R}^n$ is the system state at time $k$.\n",
    "- $u_k \\in \\mathbf{R}^n$ is the applied input at time $k$.\n",
    "- $w_k$ describes a sequence of random variables corresponding to disturbances or process noise in the system, which are often assumed to be independent and identically distributed (i.i.d.).\n",
    "- $\\theta_t \\sim \\mathcal{Q}^{\\theta_t}$ is a random variable describing the parametric uncertainty of the system, which is therefore constant over time.\n",
    "- The subscript $t$ is used to emphasize that these quantities represent the true system dynamics or true optimal control problem. "
   ]
  },
  {
   "cell_type": "markdown",
   "metadata": {
    "slideshow": {
     "slide_type": "subslide"
    }
   },
   "source": [
    "The true problem therefore relates to the development of an optimal controller for a distribution of systems given by $\\mathcal{Q}^{\\theta_t}$ under random disturbances $w_k$.\n",
    "\n",
    "The optimality of the controller is defined with respect to a cost or objective function. In the\n",
    "presence of random model uncertainties, the cost is often defined as the expectation of a sum of\n",
    "potentially time-varying stage costs of the states and inputs over a possibly infinite horizon $T$:\n",
    "\n",
    "$$\n",
    "J_t = E\\left(\\sum \\limits_{k=0}^{T} g_t(x_k, u_k, k)\\right),\n",
    "$$\n",
    "\n",
    "where the expected value is taken with respect to all random variables."
   ]
  },
  {
   "cell_type": "markdown",
   "metadata": {
    "slideshow": {
     "slide_type": "subslide"
    }
   },
   "source": [
    "## Stochastic Predictive Control\n",
    "\n",
    "The constrained stochastic optimal control problem can be formulated as:\n",
    "\n",
    "$$\n",
    "\\begin{array}{ll}\n",
    "J_t^* = \\displaystyle\\min_{\\pi_{k}} & \n",
    "E\\left[\\sum\\limits_{k=0}^{T} g_t(x_k, u_k, k)\\right]\n",
    "\\\\\n",
    "\\text{subject to} & x_{k + 1}= f_t(x_k, u_k, k, w_k, \\theta_t)\n",
    "\\\\\n",
    "& u_k = \\pi_k(x_0, \\dots, x_k)\\\\\n",
    "& \\bar{W} = [w_0, \\dots, w_{N - 1}] \\sim \\mathcal{Q}^{\\bar{W}}, \\theta_t \\sim \\mathcal{Q}^{\\theta_t}\\\\\n",
    "& P[\\bar{X}] = [x_0, \\dots, x_{N}] \\in \\bar{X}_j  \\ge p_j, \\forall j = 1, \\dots, n_{cx}\\\\\n",
    "& P[\\bar{U}] = [u_0, \\dots, u_{N - 1}] \\in \\bar{U}_j  \\ge p_j, \\forall j = 1, \\dots , n_{cu}\\\\\n",
    "\\end{array},\n",
    "$$"
   ]
  },
  {
   "cell_type": "markdown",
   "metadata": {
    "slideshow": {
     "slide_type": "subslide"
    }
   },
   "source": [
    "Optimizing over a sequence of control laws $\\{\\pi_k\\}$, which can make use of all information in the\n",
    "form of state measurements $x_k$ up to time step $k$. Problems of this form are in\n",
    "general very hard to solve, and direct efforts typically rely on some form of discretization in space\n",
    "and approximate dynamic programming or reinforcement learning.\n",
    "\n",
    "A notable exception, similar to what we have seen previously, is linear systems under additive noise and quadratic stage costs in the unconstrained setting, for which an exact solution, such as the standard linear quadratic regulator (LQR)."
   ]
  },
  {
   "cell_type": "markdown",
   "metadata": {
    "slideshow": {
     "slide_type": "subslide"
    }
   },
   "source": [
    "MPC approximates the previous problem by repeatedly solving a simplified version of the\n",
    "problem initialized at the currently measured state $x_k$ over a shorter horizon $N$\n",
    "in a receding- horizon fashion.\n",
    "\n",
    "We introduce the prediction model:\n",
    "\n",
    "$$\n",
    "x_{i+1|k} = f(x_{i|k}, u_{i|k}, i + k, w_{i|k}, \\theta),\n",
    "$$\n",
    "\n",
    "where $f$ is the prediction dynamics. It typically aims at approximating the true dynamics but often differs, e.g.,\n",
    "for computational reasons or because a succinct description of the true dynamics is unavailable.\n",
    "\n",
    "We use the subscript $i|k$ to emphasize predictive quantities, where, e.g., $x_{i|k}$ is the i-step-ahead prediction of the state, initialized at $x_{0|k} = x_k$. "
   ]
  },
  {
   "cell_type": "markdown",
   "metadata": {
    "slideshow": {
     "slide_type": "subslide"
    }
   },
   "source": [
    "The most widespread MPC formulations of are nominal MPC schemes, which do not consider any uncertainties in the prediction model but instead rely exclusively on the compensation of uncertainties via feedback and by re-solving the problem at the next sampling instance.\n",
    "\n",
    "In nominal MPC, the optimization can be performed over control sequences $U = [u_{0|k}, \\dots , u_{N - 1|k}]$ rather than policies, resulting in the constrained optimal control problem\n",
    "\n",
    "$$\n",
    "\\begin{array}{ll}\n",
    "J^∗ &= \\displaystyle\\min_{U} g_f(x_{N|k}, u_{N|k}, k + N) + \\sum\\limits_{i=0}^{N-1} g(x_{i|k}, u_{i|k}, i + k)\\\\\n",
    "\\text{subject to} & x_{i+1|k} = f(x_{i|k}, u_{i|k}, i + k)\\\\\n",
    "& U = [u_{0|k}, \\dots, u_{N|k}] \\in U_j, \\forall j = 1, \\dots, n_{cu} \\\\\n",
    "& X = [x_{0|k}, \\dots, x_{N|k}] \\in X_j \\forall j = 1, \\dots, n_{cx} \\\\\n",
    "& x_{N|k} \\in X_f\\\\\n",
    "& x_{0|k} = x_k\\\\\n",
    "\\end{array}.\n",
    "$$"
   ]
  },
  {
   "cell_type": "markdown",
   "metadata": {
    "slideshow": {
     "slide_type": "subslide"
    }
   },
   "source": [
    "The control law is then implicitly defined through the optimization problem as:\n",
    "\n",
    "$$\n",
    "π^{\\text{MPC}}(x_k, k) = u_{0|k}^*,\n",
    "$$\n",
    "\n",
    "where $u_{0|k}^*$ is the first element of the computed optimal control sequence $U^∗$."
   ]
  },
  {
   "cell_type": "markdown",
   "metadata": {
    "slideshow": {
     "slide_type": "subslide"
    }
   },
   "source": [
    "## Control Design Challenges\n",
    "\n",
    "- Ensuring recursive feasibility and achieving optimality despite a short prediction horizon.\n",
    "- Satisfying input and state constraints in the presence of uncertainty.\n",
    "- Ensuring computational tractability by properly reformulating constraints and costs and parameterizing control policies\n",
    "\n",
    "There is no systematic and universal solution to the third challenge, and often the chosen approach is application dependent. Fortunately, the first and second challenges can be addressed by using data. "
   ]
  },
  {
   "cell_type": "markdown",
   "metadata": {
    "slideshow": {
     "slide_type": "slide"
    }
   },
   "source": [
    "## Robust MPC\n",
    "\n",
    "- Robust MPC guarantees constraint satisfaction for all uncertain element realizations.\n",
    "- The model is split into a nominal part and additive uncertainty in a compact set. \n",
    "- The controller is designed to be robust against the uncertainty.\n",
    "- The MPC cost is typically optimized for the nominal system."
   ]
  },
  {
   "cell_type": "markdown",
   "metadata": {
    "slideshow": {
     "slide_type": "subslide"
    }
   },
   "source": [
    "##  Multi-Stage MPC\n",
    "\n",
    "The basic idea for the multi-stage approach is to consider various scenarios, where a scenario is defined by one possible realization of all uncertain parameters at every control instant within the horizon. The family of all considered discrete scenarios can be represented as a tree structure, called the scenario tree"
   ]
  },
  {
   "cell_type": "markdown",
   "metadata": {
    "slideshow": {
     "slide_type": "subslide"
    }
   },
   "source": [
    ":::{figure} ./_static/images/40_multi_state_mpc.png\n",
    ":width: 60%\n",
    ":align: center\n",
    "Scenario tree representation of the uncertainty\n",
    "evolution for multi-stage MPC.\n",
    ":::"
   ]
  },
  {
   "cell_type": "markdown",
   "metadata": {
    "slideshow": {
     "slide_type": "subslide"
    }
   },
   "source": [
    "- Each node in the tree denotes the possible state of the system at every prediction step.\n",
    "- The branches represent the different possible realizations of the uncertainty.\n",
    "- The initial state of the system forms the root node of the tree.\n",
    "- The root node branches into several nodes in the first stage depending on the number of vertex matrix pairs of the parametric uncertainty.\n",
    "- All the nodes in the first stage branch again in the second stage.\n",
    "- The sequence continues until the end of prediction horizon N to form the complete scenario tree.\n",
    "- A path from the root node to the leaf node represents a scenario."
   ]
  },
  {
   "cell_type": "markdown",
   "metadata": {
    "slideshow": {
     "slide_type": "subslide"
    }
   },
   "source": [
    "## Example - Inverted Pendulum\n",
    "\n",
    "In a real system, usually the model parameters cannot be determined exactly, what represents an important source of uncertainty. In this example, we consider that the mass of the pendulum and that of the cart are not known precisely \n",
    "and vary with respect to their nominal value."
   ]
  },
  {
   "cell_type": "markdown",
   "metadata": {
    "slideshow": {
     "slide_type": "subslide"
    }
   },
   "source": [
    "### Model"
   ]
  },
  {
   "cell_type": "markdown",
   "metadata": {
    "slideshow": {
     "slide_type": "subslide"
    }
   },
   "source": [
    "#### Model, States and Control inputs"
   ]
  },
  {
   "cell_type": "code",
   "execution_count": null,
   "metadata": {
    "slideshow": {
     "slide_type": "fragment"
    }
   },
   "outputs": [],
   "source": [
    "model = do_mpc.model.Model(\"continuous\")\n",
    "\n",
    "pos = model.set_variable(var_type=\"_x\", var_name=\"position\")\n",
    "theta = model.set_variable(var_type=\"_x\", var_name=\"theta\")\n",
    "dpos = model.set_variable(var_type=\"_x\", var_name=\"velocity\")\n",
    "dtheta = model.set_variable(var_type=\"_x\", var_name=\"dtheta\")\n",
    "u = model.set_variable(var_type=\"_u\", var_name=\"force\")"
   ]
  },
  {
   "cell_type": "markdown",
   "metadata": {
    "slideshow": {
     "slide_type": "subslide"
    }
   },
   "source": [
    "#### Parameters"
   ]
  },
  {
   "cell_type": "code",
   "execution_count": null,
   "metadata": {
    "slideshow": {
     "slide_type": "fragment"
    }
   },
   "outputs": [],
   "source": [
    "# Certain parameters\n",
    "ip_parameters = InvertedPendulumParameters()\n",
    "k = 1 / 3\n",
    "l = ip_parameters.l\n",
    "gamma = ip_parameters.gamma\n",
    "g = ip_parameters.g\n",
    "mu_p = ip_parameters.mu_p\n",
    "mu_c = ip_parameters.mu_c"
   ]
  },
  {
   "cell_type": "code",
   "execution_count": null,
   "metadata": {
    "slideshow": {
     "slide_type": "fragment"
    }
   },
   "outputs": [],
   "source": [
    "# Uncertain parameters\n",
    "m = model.set_variable(\"_p\", \"m\")\n",
    "M = model.set_variable(\"_p\", \"M\")"
   ]
  },
  {
   "cell_type": "markdown",
   "metadata": {
    "slideshow": {
     "slide_type": "subslide"
    }
   },
   "source": [
    "#### ODE"
   ]
  },
  {
   "cell_type": "code",
   "execution_count": null,
   "metadata": {
    "slideshow": {
     "slide_type": "fragment"
    }
   },
   "outputs": [],
   "source": [
    "numerator = (\n",
    "    (M + m) * g * casadi.sin(theta)\n",
    "    - casadi.cos(theta)\n",
    "    * (gamma * u + m * l * dtheta**2 * casadi.sin(theta) - mu_c * dpos)\n",
    "    - (M + m) / (m * l) * mu_p * dtheta\n",
    ")\n",
    "denominator = (1 + k) * (M + m) * l - m * l * casadi.cos(theta) ** 2\n",
    "ddtheta = numerator / denominator"
   ]
  },
  {
   "cell_type": "code",
   "execution_count": null,
   "metadata": {
    "slideshow": {
     "slide_type": "fragment"
    }
   },
   "outputs": [],
   "source": [
    "numerator = (\n",
    "    m * g * casadi.cos(theta) * casadi.sin(theta)\n",
    "    - (1 + k) * (gamma * u + m * l * dtheta**2 * casadi.sin(theta) - mu_c * dpos)\n",
    "    - mu_p * dtheta * casadi.cos(theta) / l\n",
    ")\n",
    "denominator = m * casadi.cos(theta) ** 2 - (1 + k) * (M + m)\n",
    "ddpos = numerator / denominator"
   ]
  },
  {
   "cell_type": "code",
   "execution_count": null,
   "metadata": {
    "slideshow": {
     "slide_type": "subslide"
    }
   },
   "outputs": [],
   "source": [
    "model.set_rhs(\"position\", dpos)\n",
    "model.set_rhs(\"theta\", dtheta)\n",
    "model.set_rhs(\"velocity\", ddpos)\n",
    "model.set_rhs(\"dtheta\", ddtheta)"
   ]
  },
  {
   "cell_type": "markdown",
   "metadata": {},
   "source": [
    "#### Setup"
   ]
  },
  {
   "cell_type": "code",
   "execution_count": null,
   "metadata": {},
   "outputs": [],
   "source": [
    "model.setup()"
   ]
  },
  {
   "cell_type": "markdown",
   "metadata": {
    "slideshow": {
     "slide_type": "subslide"
    }
   },
   "source": [
    "### Controller"
   ]
  },
  {
   "cell_type": "code",
   "execution_count": null,
   "metadata": {
    "slideshow": {
     "slide_type": "fragment"
    }
   },
   "outputs": [],
   "source": [
    "mpc = do_mpc.controller.MPC(model)"
   ]
  },
  {
   "cell_type": "code",
   "execution_count": null,
   "metadata": {
    "slideshow": {
     "slide_type": "fragment"
    }
   },
   "outputs": [],
   "source": [
    "env = create_inverted_pendulum_environment()\n",
    "mpc_params = {\n",
    "    \"n_horizon\": 50,\n",
    "    \"n_robust\": 1,\n",
    "    \"t_step\": env.dt,\n",
    "    \"state_discretization\": \"collocation\",\n",
    "    \"collocation_type\": \"radau\",\n",
    "    \"collocation_deg\": 3,\n",
    "    \"collocation_ni\": 1,\n",
    "    \"store_full_solution\": True,\n",
    "    # Use MA27 linear solver in ipopt for faster calculations:\n",
    "    \"nlpsol_opts\": {\"ipopt.linear_solver\": \"mumps\"},\n",
    "}\n",
    "mpc.set_param(**mpc_params)"
   ]
  },
  {
   "cell_type": "markdown",
   "metadata": {
    "slideshow": {
     "slide_type": "subslide"
    }
   },
   "source": [
    "#### Objective"
   ]
  },
  {
   "cell_type": "code",
   "execution_count": null,
   "metadata": {
    "slideshow": {
     "slide_type": "fragment"
    }
   },
   "outputs": [],
   "source": [
    "env = create_inverted_pendulum_environment()\n",
    "xss = np.array([0.5, 0, 0, 0])\n",
    "distance_cost = casadi.bilin(np.diag([1, 100, 0, 0]), model.x.cat - xss)\n",
    "terminal_cost = distance_cost\n",
    "stage_cost = distance_cost\n",
    "print(f\"{stage_cost=}\")\n",
    "print(f\"{terminal_cost=}\")\n",
    "mpc.set_objective(mterm=terminal_cost, lterm=stage_cost)"
   ]
  },
  {
   "cell_type": "code",
   "execution_count": null,
   "metadata": {
    "slideshow": {
     "slide_type": "fragment"
    }
   },
   "outputs": [],
   "source": [
    "force_penalty = 0.1\n",
    "mpc.set_rterm(force=force_penalty)"
   ]
  },
  {
   "cell_type": "markdown",
   "metadata": {
    "slideshow": {
     "slide_type": "subslide"
    }
   },
   "source": [
    "#### Constraints"
   ]
  },
  {
   "cell_type": "code",
   "execution_count": null,
   "metadata": {
    "slideshow": {
     "slide_type": "fragment"
    }
   },
   "outputs": [],
   "source": [
    "# lower and upper bounds of the position\n",
    "x_max = 1\n",
    "mpc.bounds[\"lower\", \"_x\", \"position\"] = -x_max\n",
    "mpc.bounds[\"upper\", \"_x\", \"position\"] = x_max\n",
    "# lower and upper bounds of the input\n",
    "u_max = 3\n",
    "mpc.bounds[\"lower\", \"_u\", \"force\"] = -u_max\n",
    "mpc.bounds[\"upper\", \"_u\", \"force\"] = u_max"
   ]
  },
  {
   "cell_type": "markdown",
   "metadata": {
    "slideshow": {
     "slide_type": "subslide"
    }
   },
   "source": [
    "#### Parameter Uncertainty"
   ]
  },
  {
   "cell_type": "code",
   "execution_count": null,
   "metadata": {
    "slideshow": {
     "slide_type": "fragment"
    }
   },
   "outputs": [],
   "source": [
    "m_values = ip_parameters.m * np.array([1.0, 1.30, 0.70])\n",
    "M_values = ip_parameters.M * np.array([1.0, 1.30, 0.70])\n",
    "mpc.set_uncertainty_values(m=m_values, M=M_values)"
   ]
  },
  {
   "cell_type": "markdown",
   "metadata": {
    "slideshow": {
     "slide_type": "subslide"
    }
   },
   "source": [
    "#### Setup"
   ]
  },
  {
   "cell_type": "code",
   "execution_count": null,
   "metadata": {
    "slideshow": {
     "slide_type": "fragment"
    }
   },
   "outputs": [],
   "source": [
    "mpc.setup()"
   ]
  },
  {
   "cell_type": "markdown",
   "metadata": {
    "slideshow": {
     "slide_type": "subslide"
    }
   },
   "source": [
    "### Simulation"
   ]
  },
  {
   "cell_type": "code",
   "execution_count": null,
   "metadata": {
    "slideshow": {
     "slide_type": "subslide"
    }
   },
   "outputs": [],
   "source": [
    "class MPCController:\n",
    "    def __init__(self, mpc: do_mpc.controller.MPC) -> None:\n",
    "        self.mpc = mpc\n",
    "        self.mpc.reset_history()\n",
    "        self.mpc.x0 = np.zeros(4)\n",
    "        self.mpc.set_initial_guess()\n",
    "\n",
    "    def act(self, observation: NDArray) -> NDArray:\n",
    "        return mpc.make_step(observation.reshape(-1, 1)).ravel()"
   ]
  },
  {
   "cell_type": "code",
   "execution_count": null,
   "metadata": {
    "slideshow": {
     "slide_type": "subslide"
    }
   },
   "outputs": [],
   "source": [
    "%%capture\n",
    "max_steps = 100\n",
    "env = create_inverted_pendulum_environment(\n",
    "    render_mode=render_mode,\n",
    "    max_steps=max_steps,\n",
    "    cutoff_angle=np.inf,\n",
    "    initial_angle=0.99 * np.pi,\n",
    ")\n",
    "controller = MPCController(mpc)\n",
    "results = simulate_environment(env, max_steps=max_steps, controller=controller)"
   ]
  },
  {
   "cell_type": "code",
   "execution_count": null,
   "metadata": {
    "slideshow": {
     "slide_type": "subslide"
    }
   },
   "outputs": [],
   "source": [
    "show_video(results.frames, fps=1 / env.dt)"
   ]
  },
  {
   "cell_type": "code",
   "execution_count": null,
   "metadata": {
    "slideshow": {
     "slide_type": "subslide"
    }
   },
   "outputs": [],
   "source": [
    "animate_full_inverted_pendulum_simulation(mpc.data)"
   ]
  }
 ],
 "metadata": {
  "celltoolbar": "Slideshow",
  "kernelspec": {
   "display_name": "Python 3 (ipykernel)",
   "language": "python",
   "name": "python3"
  },
  "language_info": {
   "codemirror_mode": {
    "name": "ipython",
    "version": 3
   },
   "file_extension": ".py",
   "mimetype": "text/x-python",
   "name": "python",
   "nbconvert_exporter": "python",
   "pygments_lexer": "ipython3",
   "version": "3.10.12"
  },
  "rise": {
   "footer": "<img src='_static/images/aai-logo.png' alt='logo' height='50em'>",
   "header": "<img src='_static/images/transferlab-logo.svg' alt='logo' height='20em' />",
   "theme": "white"
  },
  "scenes_data": {
   "active_scene": "Initialization",
   "init_scene": "Initialization",
   "scenes": [
    "Initialization"
   ]
  },
  "toc": {
   "base_numbering": 1,
   "nav_menu": {
    "height": "148px",
    "width": "256px"
   },
   "number_sections": false,
   "sideBar": true,
   "skip_h1_title": false,
   "title_cell": "Table of Contents",
   "title_sidebar": "Contents",
   "toc_cell": false,
   "toc_position": {
    "height": "563.2px",
    "left": "125px",
    "top": "116.469px",
    "width": "315.6px"
   },
   "toc_section_display": true,
   "toc_window_display": false
  },
  "varInspector": {
   "cols": {
    "lenName": 16,
    "lenType": 16,
    "lenVar": 40
   },
   "kernels_config": {
    "python": {
     "delete_cmd_postfix": "",
     "delete_cmd_prefix": "del ",
     "library": "var_list.py",
     "varRefreshCmd": "print(var_dic_list())"
    },
    "r": {
     "delete_cmd_postfix": ") ",
     "delete_cmd_prefix": "rm(",
     "library": "var_list.r",
     "varRefreshCmd": "cat(var_dic_list()) "
    }
   },
   "types_to_exclude": [
    "module",
    "function",
    "builtin_function_or_method",
    "instance",
    "_Feature"
   ],
   "window_display": false
  }
 },
 "nbformat": 4,
 "nbformat_minor": 4
}
