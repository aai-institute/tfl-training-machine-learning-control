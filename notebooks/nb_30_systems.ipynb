{
 "cells": [
  {
   "cell_type": "code",
   "execution_count": null,
   "metadata": {
    "editable": true,
    "hide_input": false,
    "init_cell": true,
    "jupyter": {
     "source_hidden": true
    },
    "scene__Initialization": true,
    "slideshow": {
     "slide_type": "skip"
    },
    "tags": [
     "ActiveScene",
     "remove-cell"
    ]
   },
   "outputs": [],
   "source": [
    "%%capture\n",
    "%load_ext autoreload\n",
    "%autoreload 2\n",
    "%matplotlib inline\n",
    "%load_ext training_ml_control\n",
    "%set_random_seed 12"
   ]
  },
  {
   "cell_type": "code",
   "execution_count": null,
   "metadata": {
    "editable": true,
    "init_cell": true,
    "jupyter": {
     "source_hidden": true
    },
    "scene__Initialization": true,
    "slideshow": {
     "slide_type": "skip"
    },
    "tags": [
     "ActiveScene",
     "remove-cell"
    ]
   },
   "outputs": [],
   "source": [
    "%presentation_style"
   ]
  },
  {
   "cell_type": "code",
   "execution_count": null,
   "metadata": {
    "editable": true,
    "jupyter": {
     "source_hidden": true
    },
    "scene__Initialization": true,
    "slideshow": {
     "slide_type": ""
    },
    "tags": [
     "ActiveScene",
     "remove-cell"
    ]
   },
   "outputs": [],
   "source": [
    "import warnings\n",
    "\n",
    "warnings.simplefilter(\"ignore\", UserWarning)"
   ]
  },
  {
   "cell_type": "code",
   "execution_count": null,
   "metadata": {
    "editable": true,
    "init_cell": true,
    "jupyter": {
     "source_hidden": true
    },
    "scene__Initialization": true,
    "slideshow": {
     "slide_type": "skip"
    },
    "tags": [
     "ActiveScene",
     "remove-cell"
    ]
   },
   "outputs": [],
   "source": [
    "%autoreload\n",
    "\n",
    "import matplotlib.pyplot as plt\n",
    "import numpy as np\n",
    "import seaborn as sns\n",
    "from do_mpc.simulator import Simulator\n",
    "from numpy.typing import NDArray\n",
    "\n",
    "from training_ml_control.environments import (\n",
    "    create_cart_environment,\n",
    "    create_inverted_pendulum_environment,\n",
    "    simulate_environment,\n",
    ")\n",
    "from training_ml_control.plots import (\n",
    "    animate_cart_simulation,\n",
    "    animate_inverted_pendulum_simulation,\n",
    "    animate_full_inverted_pendulum_simulation,\n",
    ")\n",
    "from training_ml_control.models import (\n",
    "    build_cart_model,\n",
    "    build_inverted_pendulum_linear_model,\n",
    "    build_inverted_pendulum_nonlinear_model,\n",
    ")\n",
    "\n",
    "from training_ml_control.plots import (\n",
    "    plot_cart_results,\n",
    "    plot_inverted_pendulum_results,\n",
    ")\n",
    "from training_ml_control.nb_utils import (\n",
    "    show_video,\n",
    ")\n",
    "\n",
    "sns.set_theme()\n",
    "plt.rcParams[\"figure.figsize\"] = [9, 5]"
   ]
  },
  {
   "cell_type": "markdown",
   "metadata": {
    "editable": true,
    "slideshow": {
     "slide_type": "slide"
    },
    "tags": [
     "remove-cell"
    ]
   },
   "source": [
    "```{figure} ./_static/images/aai-institute-cover.png\n",
    ":width: 90%\n",
    ":align: center\n",
    "---\n",
    "name: aai-institute\n",
    "---\n",
    "```"
   ]
  },
  {
   "cell_type": "markdown",
   "metadata": {
    "slideshow": {
     "slide_type": "slide"
    }
   },
   "source": [
    "# Systems"
   ]
  },
  {
   "cell_type": "markdown",
   "metadata": {},
   "source": [
    "## Cart (Double Integrator)\n",
    "\n",
    "The double integrator is a canonical example of a second-order control system. It models the dynamics of a simple mass in one-dimensional space under the effect of a time-varying force input. "
   ]
  },
  {
   "cell_type": "code",
   "execution_count": null,
   "metadata": {
    "editable": true,
    "slideshow": {
     "slide_type": ""
    },
    "tags": [
     "hide-input"
    ]
   },
   "outputs": [],
   "source": [
    "cart_env = create_cart_environment(goal_position=9)\n",
    "results = simulate_environment(cart_env)\n",
    "show_video(results.frames, fps=1 / cart_env.dt)"
   ]
  },
  {
   "cell_type": "code",
   "execution_count": null,
   "metadata": {
    "editable": true,
    "slideshow": {
     "slide_type": ""
    },
    "tags": [
     "remove-input"
    ]
   },
   "outputs": [],
   "source": [
    "T = np.arange(len(results.observations)) * cart_env.dt\n",
    "plot_cart_results(\n",
    "    T=T,\n",
    "    observations=results.observations,\n",
    "    actions=results.actions,\n",
    "    reference=cart_env.goal_position,\n",
    ")"
   ]
  },
  {
   "cell_type": "markdown",
   "metadata": {
    "editable": true,
    "slideshow": {
     "slide_type": ""
    }
   },
   "source": [
    "For the simulation we will use a modified version of the [Mountain Car Continuous](https://gymnasium.farama.org/environments/classic_control/mountain_car_continuous/) environment from [gymnasium](https://gymnasium.farama.org/).\n",
    "\n",
    "It has the following possible action and observations:\n",
    "\n",
    "<table class=\"docutils align-default\">\n",
    "<thead>\n",
    "<tr class=\"row-odd\"><th class=\"head\"><p>Num</p></th>\n",
    "<th class=\"head\"><p>Action</p></th>\n",
    "<th class=\"head\"><p>Control Min</p></th>\n",
    "<th class=\"head\"><p>Control Max</p></th>\n",
    "</tr>\n",
    "</thead>\n",
    "<tbody>\n",
    "<tr class=\"row-even\"><td><p>0</p></td>\n",
    "<td><p>Force applied on the cart</p></td>\n",
    "<td><p>-10</p></td>\n",
    "<td><p>10</p></td>\n",
    "</tr>\n",
    "</tbody>\n",
    "</table>\n",
    "\n",
    "<table class=\"docutils align-default\">\n",
    "<thead>\n",
    "<tr class=\"row-odd\"><th class=\"head\"><p>Num</p></th>\n",
    "<th class=\"head\"><p>Observation</p></th>\n",
    "<th class=\"head\"><p>Min</p></th>\n",
    "<th class=\"head\"><p>Max</p></th>\n",
    "</tr>\n",
    "</thead>\n",
    "<tbody>\n",
    "<tr class=\"row-even\"><td><p>0</p></td>\n",
    "<td><p>position of the cart along the linear surface</p></td>\n",
    "<td><p>-3.0</p></td>\n",
    "<td><p>3.0</p></td>\n",
    "</tr>\n",
    "<tr class=\"row-even\"><td><p>1</p></td>\n",
    "<td><p>linear velocity of the cart</p></td>\n",
    "<td><p>-Inf</p></td>\n",
    "<td><p>Inf</p></td>\n",
    "</tr>\n",
    "</tr>\n",
    "</tbody>\n",
    "</table>"
   ]
  },
  {
   "cell_type": "markdown",
   "metadata": {
    "editable": true,
    "slideshow": {
     "slide_type": ""
    }
   },
   "source": [
    "### Model\n",
    "\n",
    "The differential equations which represent a one-dimensional double integrator are:\n",
    "\n",
    "$$\n",
    "\\begin{array}{ll}\n",
    "\\ddot {q}(t) &= u(t)\\\\\n",
    "y(t) &= q(t)\n",
    "\\end{array}\n",
    "$$\n",
    "\n",
    "where $\\displaystyle q(t),u(t)\\in \\mathbb {R}$.\n",
    "\n",
    "It is clear that the control input $u$ is the second derivative of the output $q$.\n",
    "\n",
    "Defining the state-vector vector as $X = \\begin{bmatrix}x_1\\\\{x_2}\\\\\\end{bmatrix} = \\begin{bmatrix}q\\\\{\\dot {q}}\\\\\\end{bmatrix}$, gives us the following state-space representation:\n",
    "\n",
    "$$\n",
    "\\dot{X} = \\begin{bmatrix}{\\dot{x}_1}\\\\{\\dot {x}_2}\\\\\\end{bmatrix} = \\begin{bmatrix}{x_2}\\\\{u}\\\\\\end{bmatrix}\n",
    "$$\n",
    "\n",
    "This leads to a linear state-space model with matrices:\n",
    "\n",
    "$$\n",
    "A = \\begin{bmatrix}\n",
    "0 & 1 \\\\\n",
    "0 & 0\\\\\n",
    "\\end{bmatrix};\n",
    "B = \\begin{bmatrix}\n",
    "0 \\\\ 1\n",
    "\\end{bmatrix};\n",
    "C = \\begin{bmatrix}\n",
    "1 & 0 \\\\\n",
    "\\end{bmatrix};\n",
    "D = \\begin{bmatrix}\n",
    "0\n",
    "\\end{bmatrix}\n",
    "$$"
   ]
  },
  {
   "cell_type": "code",
   "execution_count": null,
   "metadata": {
    "editable": true,
    "slideshow": {
     "slide_type": ""
    }
   },
   "outputs": [],
   "source": [
    "cart_model = build_cart_model(cart_env)"
   ]
  },
  {
   "cell_type": "markdown",
   "metadata": {
    "slideshow": {
     "slide_type": "subslide"
    }
   },
   "source": [
    "### Simulator"
   ]
  },
  {
   "cell_type": "code",
   "execution_count": null,
   "metadata": {
    "editable": true,
    "slideshow": {
     "slide_type": "subslide"
    }
   },
   "outputs": [],
   "source": [
    "cart_simulator = Simulator(cart_model)\n",
    "cart_simulator.set_param(t_step=cart_env.dt)\n",
    "cart_simulator.setup()"
   ]
  },
  {
   "cell_type": "markdown",
   "metadata": {},
   "source": [
    "We then use the simulator to simulate the model starting from the same initial state as the environment and using the same inputs."
   ]
  },
  {
   "cell_type": "code",
   "execution_count": null,
   "metadata": {
    "editable": true,
    "slideshow": {
     "slide_type": ""
    },
    "tags": [
     "hide-input"
    ]
   },
   "outputs": [],
   "source": [
    "cart_simulator.reset_history()\n",
    "x0 = results.observations[0]\n",
    "cart_simulator.x0 = x0\n",
    "for i in range(len(results.observations) - 1):\n",
    "    u = results.actions[[i]]\n",
    "    x0 = cart_simulator.make_step(u)\n",
    "\n",
    "animate_cart_simulation(cart_simulator.data)"
   ]
  },
  {
   "cell_type": "markdown",
   "metadata": {
    "editable": true,
    "slideshow": {
     "slide_type": "subslide"
    }
   },
   "source": [
    "## Inverted Pendulum\n",
    "\n",
    "```{figure} _static/images/10_inverted_pendulum_photo.png\n",
    "---\n",
    "name: inverted-pendulum\n",
    "---\n",
    "Balancing cart, a simple robotics system circa 1976 - [Wikipedia](https://en.wikipedia.org/wiki/Inverted_pendulum).\n",
    "```\n",
    "\n",
    "An inverted pendulum is a pendulum that has its center of mass above its pivot point. It is unstable and without additional help will fall over.\n",
    "\n",
    "The inverted pendulum is a classic problem in dynamics and control theory and is used as a benchmark for testing control strategies. It is often implemented with the pivot point mounted on a cart that can move horizontally under control of an electronic servo system as shown in the image."
   ]
  },
  {
   "cell_type": "code",
   "execution_count": null,
   "metadata": {
    "editable": true,
    "slideshow": {
     "slide_type": "subslide"
    },
    "tags": [
     "remove-input"
    ]
   },
   "outputs": [],
   "source": [
    "%%html\n",
    "<iframe width=\"800\" height=\"600\" src=\"https://www.youtube-nocookie.com/embed/AuAZ5zOP0yQ?si=1Lnyg2ghX6BJEEVX&amp;start=55\" title=\"YouTube video player\" frameborder=\"0\" allow=\"accelerometer; autoplay; clipboard-write; encrypted-media; gyroscope; picture-in-picture; web-share\" allowfullscreen></iframe>"
   ]
  },
  {
   "cell_type": "markdown",
   "metadata": {
    "slideshow": {
     "slide_type": "subslide"
    }
   },
   "source": [
    "For the simulation we will use a modified version of the [CartPole](https://gymnasium.farama.org/environments/classic_control/cart_pole/) environment from [gymnasium](https://gymnasium.farama.org/).\n",
    "\n",
    "It has the following possible action and observations:\n",
    "\n",
    "<table class=\"docutils align-default\">\n",
    "<thead>\n",
    "<tr class=\"row-odd\"><th class=\"head\"><p>Num</p></th>\n",
    "<th class=\"head\"><p>Action</p></th>\n",
    "<th class=\"head\"><p>Control Min</p></th>\n",
    "<th class=\"head\"><p>Control Max</p></th>\n",
    "</tr>\n",
    "</thead>\n",
    "<tbody>\n",
    "<tr class=\"row-even\"><td><p>0</p></td>\n",
    "<td><p>Force applied on the cart</p></td>\n",
    "<td><p>-30</p></td>\n",
    "<td><p>30</p></td>\n",
    "</tr>\n",
    "</tbody>\n",
    "</table>\n",
    "\n",
    "<table class=\"docutils align-default\">\n",
    "<thead>\n",
    "<tr class=\"row-odd\"><th class=\"head\"><p>Num</p></th>\n",
    "<th class=\"head\"><p>Observation</p></th>\n",
    "<th class=\"head\"><p>Min</p></th>\n",
    "<th class=\"head\"><p>Max</p></th>\n",
    "</tr>\n",
    "</thead>\n",
    "<tbody>\n",
    "<tr class=\"row-even\"><td><p>0</p></td>\n",
    "<td><p>position of the cart along the linear surface</p></td>\n",
    "<td><p>-3.0</p></td>\n",
    "<td><p>3.0</p></td>\n",
    "</tr>\n",
    "<tr class=\"row-even\"><td><p>1</p></td>\n",
    "<td><p>linear velocity of the cart</p></td>\n",
    "<td><p>-Inf</p></td>\n",
    "<td><p>Inf</p></td>\n",
    "</tr>\n",
    "</tr>\n",
    "<tr class=\"row-odd\"><td><p>2</p></td>\n",
    "<td><p>vertical angle of the pole on the cart</p></td>\n",
    "<td><p>-24</p></td>\n",
    "<td><p>24</p></td>\n",
    "<tr class=\"row-odd\"><td><p>3</p></td>\n",
    "<td><p>angular velocity of the pole on the cart</p></td>\n",
    "<td><p>-Inf</p></td>\n",
    "<td><p>Inf</p></td>\n",
    "</tr>\n",
    "</tbody>\n",
    "</table>"
   ]
  },
  {
   "cell_type": "code",
   "execution_count": null,
   "metadata": {
    "editable": true,
    "slideshow": {
     "slide_type": ""
    },
    "tags": [
     "remove-input"
    ]
   },
   "outputs": [],
   "source": [
    "inverted_pendulum_env = create_inverted_pendulum_environment(\n",
    "    max_steps=100, theta_threshold=np.inf\n",
    ")\n",
    "results = simulate_environment(inverted_pendulum_env)\n",
    "show_video(results.frames, fps=1 / inverted_pendulum_env.dt)"
   ]
  },
  {
   "cell_type": "code",
   "execution_count": null,
   "metadata": {
    "editable": true,
    "slideshow": {
     "slide_type": ""
    },
    "tags": [
     "remove-input"
    ]
   },
   "outputs": [],
   "source": [
    "T = np.arange(len(results.observations)) * inverted_pendulum_env.dt\n",
    "plot_inverted_pendulum_results(\n",
    "    T=T, observations=results.observations, actions=results.actions, reference=np.inf\n",
    ")"
   ]
  },
  {
   "cell_type": "markdown",
   "metadata": {},
   "source": [
    "### Dynamic Model\n",
    "\n",
    ":::{figure} _static/images/20_inverted_pendulum_diagram.svg\n",
    ":width: 40%\n",
    "\n",
    "Inverted pendulum model diagram. *Taken from [this document](https://coneural.org/florian/papers/05_cart_pole.pdf)*.\n",
    ":::\n",
    "    \n",
    "- $x$: distance along the horizontal axis from some reference point.\n",
    "- $\\theta$: angle of the pendulum.\n",
    "- $m_c$: mass of the cart.\n",
    "- $m_p$: mass of the pole.\n",
    "- $l$: length of the pole.\n",
    "- $F$: force applied on the cart."
   ]
  },
  {
   "cell_type": "markdown",
   "metadata": {},
   "source": [
    "Application of Newtonian physics to this system leads to the following model[^1][^2]:\n",
    "\n",
    "[^1]: for the sake of simplicity we will ignore friction.\n",
    "[^2]: for a detailed derivation of these equations refer to [this document](https://sharpneat.sourceforge.io/research/cart-pole/cart-pole-equations.html).\n",
    "\n",
    "$$\n",
    "\\ddot{x} = \\frac{1}{m_p\\cos^2(\\theta) - \\frac{4}{3}(m_c + m_p)} \\left[\n",
    "m_p g \\sin(\\theta) \\cos(\\theta) - \\frac{4}{3}(F + m_p \\frac{l}{2} \\dot{\\theta}^2 \\sin(\\theta))\n",
    "\\right]\\\\\n",
    "\\ddot{\\theta} = \\frac{1}{\\frac{4}{3}(m_c + m_p)l - m_p l \\cos^2(\\theta)} \\left[\n",
    "(m_c + m_p)g\\sin(\\theta) - \\cos(\\theta) (F + m_p l \\dot{\\theta}^2 \\sin(\\theta))\n",
    "\\right]\n",
    "$$\n",
    "\n",
    "We can convert this to a state-space representation with input $\\mathbf{u} = F$ and state$\\mathbf{X}$:\n",
    "\n",
    "$$\n",
    "\\mathbf{X} = \\begin{bmatrix}\n",
    "x_1 \\\\ x_2 \\\\ x_3 \\\\ x_4\n",
    "\\end{bmatrix}\n",
    "= \\begin{bmatrix}\n",
    "x \\\\ \\dot{x} \\\\ \\theta \\\\ \\dot{\\theta}\n",
    "\\end{bmatrix}\n",
    "$$\n",
    "\n",
    "$$\n",
    "\\dot{\\mathbf{X}} = \\begin{bmatrix}\n",
    "\\dot{x}_1 \\\\ \\dot{x}_2 \\\\ \\dot{x}_3 \\\\ \\dot{x}_4\n",
    "\\end{bmatrix}\n",
    "= \\begin{bmatrix}\n",
    "x_2 \\\\\n",
    "\\frac{1}{m_p\\cos^2(x_3) - \\frac{4}{3}(m_c + m_p)} \\left[\n",
    "m_p g \\sin(x_3) \\cos(x_3) - \\frac{4}{3}(F + m_p l x_4^2 \\sin(x_3))\n",
    "\\right]\\\\ \\\\\n",
    "x_4 \\\\\n",
    "\\frac{1}{\\frac{4}{3}(m_c + m_p)l - m_p l \\cos^2(x_3)} \\left[\n",
    "(m_c + m_p)g\\sin(x_3) - \\cos(x_3) (\\mathbf{u} + m_p l x_4^2 \\sin(x_3))\n",
    "\\right] \\\\\n",
    "\\end{bmatrix}\n",
    "$$"
   ]
  },
  {
   "cell_type": "markdown",
   "metadata": {},
   "source": [
    "For simple cases (e.g. linear controller design), we're only interested in controlling the pendulum's angle, so we can ignore the first 2 states\n",
    "and redefine the state vector as.\n",
    "\n",
    "$$\n",
    "\\mathbf{X} = \\begin{bmatrix}\n",
    "x_1 \\\\ x_2\n",
    "\\end{bmatrix}\n",
    "= \\begin{bmatrix}\n",
    "\\theta \\\\ \\dot{\\theta}\n",
    "\\end{bmatrix}\n",
    "$$\n",
    "\n",
    "Which gives us:\n",
    "\n",
    "$$\n",
    "\\dot{\\mathbf{X}} = \\begin{bmatrix}\n",
    "\\dot{x}_1 \\\\ \\dot{x}_2\n",
    "\\end{bmatrix} =\n",
    "\\begin{bmatrix}\n",
    "x_2 \\\\\n",
    "\\frac{1}{\\frac{4}{3}(m_c + m_p)l - m_p l\\cos^2(x_1)} \\left[\n",
    "(m_c + m_p)g\\sin(x_1) - \\cos(x_1) (\\mathbf{u} + m_p l x_2^2 \\sin(x_1))\\right] \\\\\n",
    "\\end{bmatrix}\n",
    "$$"
   ]
  },
  {
   "cell_type": "markdown",
   "metadata": {},
   "source": [
    "These equations are nonlinear. However, for small departures of $x_1$ (i.e. $\\theta$) from the\n",
    "vertical position we can linearize about $x_1 = 0$, $x_2 = 0$. This is called the [small-angle approximation](https://en.wikipedia.org/wiki/Small-angle_approximation).\n",
    "\n",
    "Applying the approximation gives us:\n",
    "\n",
    "$$\n",
    "\\dot{\\mathbf{X}} = \\begin{bmatrix}\n",
    "\\dot{x}_1 \\\\ \\dot{x}_2\n",
    "\\end{bmatrix} =\n",
    "\\begin{bmatrix}\n",
    "x_2 \\\\\n",
    "\\frac{1}{m_c l} \\left[\n",
    "- \\mathbf{u} + (m_c + m_p) g x_1\n",
    "\\right] \\\\\n",
    "\\end{bmatrix} =\n",
    "\\begin{bmatrix}\n",
    "0 & 1\\\\\n",
    "\\frac{(m_c + m_p)g}{m_c l} & 0\\\\\n",
    "\\end{bmatrix}\n",
    "\\begin{bmatrix}\n",
    "x_1 \\\\ x_2\n",
    "\\end{bmatrix}\n",
    "+\n",
    "\\begin{bmatrix}\n",
    "0 \\\\ -\\frac{1}{m_c l}\n",
    "\\end{bmatrix}\n",
    "\\begin{bmatrix}\n",
    "\\mathbf{u}\\\\\n",
    "\\end{bmatrix}\n",
    "$$\n",
    "\n",
    "This leads to a linear state-space model with matrices:\n",
    "\n",
    "$$\n",
    "A = \\begin{bmatrix}\n",
    "0 & 1 \\\\\n",
    "\\frac{(m_c + m_p)g}{m_c l} & 0\\\\\n",
    "\\end{bmatrix};\n",
    "B = \\begin{bmatrix}\n",
    "0 \\\\ -\\frac{1}{m_c l}\n",
    "\\end{bmatrix};\n",
    "C = \\begin{bmatrix}\n",
    "1 & 0 \\\\\n",
    "\\end{bmatrix};\n",
    "D = \\begin{bmatrix}\n",
    "0\n",
    "\\end{bmatrix}\n",
    "$$"
   ]
  },
  {
   "cell_type": "markdown",
   "metadata": {},
   "source": [
    "### Linear Model"
   ]
  },
  {
   "cell_type": "code",
   "execution_count": null,
   "metadata": {},
   "outputs": [],
   "source": [
    "inverted_pendulum_linear_model = build_inverted_pendulum_linear_model(\n",
    "    inverted_pendulum_env\n",
    ")"
   ]
  },
  {
   "cell_type": "markdown",
   "metadata": {
    "slideshow": {
     "slide_type": "subslide"
    }
   },
   "source": [
    "### Simulator"
   ]
  },
  {
   "cell_type": "code",
   "execution_count": null,
   "metadata": {
    "slideshow": {
     "slide_type": "subslide"
    }
   },
   "outputs": [],
   "source": [
    "inverted_pendulum_linear_simulator = Simulator(inverted_pendulum_linear_model)\n",
    "inverted_pendulum_linear_simulator.set_param(t_step=inverted_pendulum_env.dt)\n",
    "inverted_pendulum_linear_simulator.setup()"
   ]
  },
  {
   "cell_type": "markdown",
   "metadata": {},
   "source": [
    "We then use the simulator to simulate the the model starting from the same initial state as the environment and using the same inputs."
   ]
  },
  {
   "cell_type": "code",
   "execution_count": null,
   "metadata": {
    "editable": true,
    "slideshow": {
     "slide_type": ""
    },
    "tags": [
     "hide-input"
    ]
   },
   "outputs": [],
   "source": [
    "x0 = results.observations[0, 2:]\n",
    "\n",
    "inverted_pendulum_linear_simulator.reset_history()\n",
    "inverted_pendulum_linear_simulator.x0 = x0\n",
    "\n",
    "for i in range(len(results.observations) - 1):\n",
    "    u = results.actions[[i]]\n",
    "    x0 = inverted_pendulum_linear_simulator.make_step(u)\n",
    "\n",
    "animate_inverted_pendulum_simulation(inverted_pendulum_linear_simulator.data)"
   ]
  },
  {
   "cell_type": "markdown",
   "metadata": {
    "editable": true,
    "slideshow": {
     "slide_type": ""
    }
   },
   "source": [
    "We notice that the simulation quickly diverges as the states moves away from the origin. The model should still be good for the purpose of controlling the system to stay near the origin."
   ]
  },
  {
   "cell_type": "markdown",
   "metadata": {
    "editable": true,
    "slideshow": {
     "slide_type": ""
    }
   },
   "source": [
    "### Full Non-Linear Model"
   ]
  },
  {
   "cell_type": "code",
   "execution_count": null,
   "metadata": {},
   "outputs": [],
   "source": [
    "inverted_pendulum_nonlinear_model = build_inverted_pendulum_nonlinear_model(\n",
    "    inverted_pendulum_env\n",
    ")"
   ]
  },
  {
   "cell_type": "markdown",
   "metadata": {
    "slideshow": {
     "slide_type": "subslide"
    }
   },
   "source": [
    "### Simulator"
   ]
  },
  {
   "cell_type": "code",
   "execution_count": null,
   "metadata": {},
   "outputs": [],
   "source": [
    "inverted_pendulum_nonlinear_simulator = Simulator(inverted_pendulum_nonlinear_model)\n",
    "params_simulator = {\n",
    "    # Note: cvode doesn't support DAE systems.\n",
    "    \"integration_tool\": \"idas\",\n",
    "    \"abstol\": 1e-8,\n",
    "    \"reltol\": 1e-8,\n",
    "    \"t_step\": inverted_pendulum_env.dt,\n",
    "}\n",
    "inverted_pendulum_nonlinear_simulator.set_param(**params_simulator)\n",
    "inverted_pendulum_nonlinear_simulator.setup()"
   ]
  },
  {
   "cell_type": "markdown",
   "metadata": {},
   "source": [
    "We then use the simulator to simulate the the model starting from the same initial state as the environment and using the same inputs."
   ]
  },
  {
   "cell_type": "code",
   "execution_count": null,
   "metadata": {
    "editable": true,
    "slideshow": {
     "slide_type": ""
    },
    "tags": [
     "hide-input"
    ]
   },
   "outputs": [],
   "source": [
    "x0 = results.observations[0]\n",
    "\n",
    "inverted_pendulum_nonlinear_simulator.reset_history()\n",
    "inverted_pendulum_nonlinear_simulator.x0 = x0\n",
    "\n",
    "for i in range(len(results.observations) - 1):\n",
    "    u = results.actions[[i]]\n",
    "    x0 = inverted_pendulum_nonlinear_simulator.make_step(u)\n",
    "\n",
    "animate_full_inverted_pendulum_simulation(inverted_pendulum_nonlinear_simulator.data)"
   ]
  }
 ],
 "metadata": {
  "celltoolbar": "Slideshow",
  "kernelspec": {
   "display_name": "Python 3 (ipykernel)",
   "language": "python",
   "name": "python3"
  },
  "language_info": {
   "codemirror_mode": {
    "name": "ipython",
    "version": 3
   },
   "file_extension": ".py",
   "mimetype": "text/x-python",
   "name": "python",
   "nbconvert_exporter": "python",
   "pygments_lexer": "ipython3",
   "version": "3.10.12"
  },
  "rise": {
   "footer": "<img src='_static/images/aai-logo.png' alt='logo' height='50em'>",
   "header": "<img src='_static/images/transferlab-logo.svg' alt='logo' height='20em' />",
   "theme": "white"
  },
  "scenes_data": {
   "active_scene": "Initialization",
   "init_scene": "Initialization",
   "scenes": [
    "Initialization"
   ]
  },
  "toc": {
   "base_numbering": 1,
   "nav_menu": {
    "height": "148px",
    "width": "256px"
   },
   "number_sections": false,
   "sideBar": true,
   "skip_h1_title": false,
   "title_cell": "Table of Contents",
   "title_sidebar": "Contents",
   "toc_cell": false,
   "toc_position": {
    "height": "563.2px",
    "left": "125px",
    "top": "116.469px",
    "width": "315.6px"
   },
   "toc_section_display": true,
   "toc_window_display": false
  },
  "varInspector": {
   "cols": {
    "lenName": 16,
    "lenType": 16,
    "lenVar": 40
   },
   "kernels_config": {
    "python": {
     "delete_cmd_postfix": "",
     "delete_cmd_prefix": "del ",
     "library": "var_list.py",
     "varRefreshCmd": "print(var_dic_list())"
    },
    "r": {
     "delete_cmd_postfix": ") ",
     "delete_cmd_prefix": "rm(",
     "library": "var_list.r",
     "varRefreshCmd": "cat(var_dic_list()) "
    }
   },
   "types_to_exclude": [
    "module",
    "function",
    "builtin_function_or_method",
    "instance",
    "_Feature"
   ],
   "window_display": false
  }
 },
 "nbformat": 4,
 "nbformat_minor": 4
}
