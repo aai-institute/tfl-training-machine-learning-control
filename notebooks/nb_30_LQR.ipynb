{
 "cells": [
  {
   "cell_type": "code",
   "execution_count": null,
   "metadata": {
    "editable": true,
    "hide_input": false,
    "init_cell": true,
    "scene__Initialization": true,
    "slideshow": {
     "slide_type": "skip"
    },
    "tags": [
     "remove-input",
     "remove-output",
     "remove-input-nbconv",
     "remove-output-nbconv",
     "ActiveScene"
    ]
   },
   "outputs": [],
   "source": [
    "%%capture\n",
    "%load_ext autoreload\n",
    "%autoreload 2\n",
    "%matplotlib inline\n",
    "%load_ext training_ml_control\n",
    "%set_random_seed 12"
   ]
  },
  {
   "cell_type": "code",
   "execution_count": null,
   "metadata": {
    "editable": true,
    "init_cell": true,
    "scene__Initialization": true,
    "slideshow": {
     "slide_type": "skip"
    },
    "tags": [
     "ActiveScene"
    ]
   },
   "outputs": [],
   "source": [
    "%presentation_style"
   ]
  },
  {
   "cell_type": "code",
   "execution_count": null,
   "metadata": {
    "editable": true,
    "init_cell": true,
    "scene__Initialization": true,
    "slideshow": {
     "slide_type": "skip"
    },
    "tags": [
     "ActiveScene"
    ]
   },
   "outputs": [],
   "source": [
    "%load_latex_macros"
   ]
  },
  {
   "cell_type": "code",
   "execution_count": null,
   "metadata": {
    "editable": true,
    "init_cell": true,
    "scene__Initialization": true,
    "slideshow": {
     "slide_type": "skip"
    },
    "tags": [
     "ActiveScene"
    ]
   },
   "outputs": [],
   "source": [
    "%autoreload\n",
    "import os\n",
    "import warnings\n",
    "from dataclasses import dataclass\n",
    "from typing import Protocol\n",
    "\n",
    "import casadi\n",
    "import do_mpc\n",
    "import gymnasium as gym\n",
    "import matplotlib.pyplot as plt\n",
    "import numpy as np\n",
    "import seaborn as sns\n",
    "from gymnasium import Env\n",
    "from IPython.display import HTML\n",
    "from ipywidgets import interact, widgets\n",
    "from matplotlib.animation import FuncAnimation\n",
    "from numpy.typing import NDArray\n",
    "\n",
    "from training_ml_control.environment import (\n",
    "    create_inverted_pendulum_environment,\n",
    ")\n",
    "\n",
    "from training_ml_control.shortest_path_problem import (\n",
    "    create_shortest_path_graph,\n",
    "    plot_shortest_path_graph,\n",
    "    plot_all_paths_graph,\n",
    ")\n",
    "\n",
    "from training_ml_control.plots import (\n",
    "    create_inverted_pendulum_environment,\n",
    "    plot_inverted_pendulum_results,\n",
    "    animate_mass_spring_damper_simulation,\n",
    "    animate_inverted_pendulum_simulation,\n",
    "    animate_full_inverted_pendulum_simulation,\n",
    ")\n",
    "\n",
    "from training_ml_control.nb_utils import (\n",
    "    display_array,\n",
    "    show_video,\n",
    ")\n",
    "\n",
    "warnings.simplefilter(\"ignore\", UserWarning)\n",
    "sns.set_theme()\n",
    "plt.rcParams[\"figure.figsize\"] = [9, 5]\n",
    "# This is needed because inside docker the rendering of mujoco environments may not work.\n",
    "render_mode = \"rgb_array\" if os.environ.get(\"DISPLAY\") else None"
   ]
  },
  {
   "cell_type": "markdown",
   "metadata": {
    "slideshow": {
     "slide_type": "subslide"
    }
   },
   "source": [
    "### Linearized Model"
   ]
  },
  {
   "cell_type": "code",
   "execution_count": null,
   "metadata": {
    "scene__Initialization": true,
    "slideshow": {
     "slide_type": "fragment"
    },
    "tags": [
     "ActiveScene"
    ]
   },
   "outputs": [],
   "source": [
    "env = create_inverted_pendulum_environment()\n",
    "\n",
    "ip_parameters = InvertedPendulumParameters(\n",
    "    l=env.model.geom_pos[2, 2],\n",
    "    m=env.model.body_mass[2],\n",
    "    M=env.model.body_mass[1],\n",
    ")\n",
    "# Dynamics matrix\n",
    "A = np.array(\n",
    "    [\n",
    "        [0, 1],\n",
    "        [\n",
    "            (ip_parameters.M + ip_parameters.m)\n",
    "            * ip_parameters.g\n",
    "            / (ip_parameters.m * ip_parameters.l),\n",
    "            0,\n",
    "        ],\n",
    "    ]\n",
    ")\n",
    "# Input matrix\n",
    "B = np.array(\n",
    "    [[0, -ip_parameters.gamma / (ip_parameters.M * ip_parameters.l)]]\n",
    ").transpose()\n",
    "# Output matrices\n",
    "C = np.array([[1, 0], [0, 1]])\n",
    "D = np.zeros(2)\n",
    "\n",
    "inverted_pendulum_lin = do_mpc.model.LinearModel(\"continuous\")\n",
    "theta = inverted_pendulum_lin.set_variable(var_type=\"_x\", var_name=\"theta\")\n",
    "dtheta = inverted_pendulum_lin.set_variable(var_type=\"_x\", var_name=\"dtheta\")\n",
    "inverted_pendulum_lin.set_variable(var_type=\"_u\", var_name=\"force\")\n",
    "\n",
    "# Inertia\n",
    "J = (ip_parameters.m * ip_parameters.l**2) / 3\n",
    "# Energies\n",
    "E_kin = 0.5 * J * dtheta**2 + 0.5 * ip_parameters.m * (\n",
    "    (ip_parameters.l * dtheta * casadi.cos(theta)) ** 2\n",
    "    + (ip_parameters.l * dtheta * casadi.sin(theta)) ** 2\n",
    ")\n",
    "E_pot = ip_parameters.m * ip_parameters.g * ip_parameters.l * casadi.cos(theta)\n",
    "inverted_pendulum_lin.set_expression(\"E_kinetic\", E_kin)\n",
    "inverted_pendulum_lin.set_expression(\"E_potential\", E_pot)\n",
    "\n",
    "inverted_pendulum_lin.setup(A, B, C, D)\n",
    "env = create_inverted_pendulum_environment()\n",
    "inverted_pendulum_lin = inverted_pendulum_lin.discretize(env.dt)"
   ]
  },
  {
   "cell_type": "markdown",
   "metadata": {
    "slideshow": {
     "slide_type": "subslide"
    }
   },
   "source": [
    "### Non-Linear Model"
   ]
  },
  {
   "cell_type": "code",
   "execution_count": null,
   "metadata": {
    "scene__Initialization": true,
    "slideshow": {
     "slide_type": "fragment"
    },
    "tags": [
     "ActiveScene"
    ]
   },
   "outputs": [],
   "source": [
    "inverted_pendulum = do_mpc.model.Model(\"continuous\")\n",
    "\n",
    "pos = inverted_pendulum.set_variable(var_type=\"_x\", var_name=\"position\")\n",
    "theta = inverted_pendulum.set_variable(var_type=\"_x\", var_name=\"theta\")\n",
    "dpos = inverted_pendulum.set_variable(var_type=\"_x\", var_name=\"velocity\")\n",
    "dtheta = inverted_pendulum.set_variable(var_type=\"_x\", var_name=\"dtheta\")\n",
    "u = inverted_pendulum.set_variable(var_type=\"_u\", var_name=\"force\")\n",
    "\n",
    "k = 1 / 3\n",
    "numerator = (\n",
    "    (ip_parameters.M + ip_parameters.m) * ip_parameters.g * casadi.sin(theta)\n",
    "    - casadi.cos(theta)\n",
    "    * (\n",
    "        ip_parameters.gamma * u\n",
    "        + ip_parameters.m * ip_parameters.l * dtheta**2 * casadi.sin(theta)\n",
    "        - ip_parameters.mu_c * dpos\n",
    "    )\n",
    "    - (ip_parameters.M + ip_parameters.m)\n",
    "    / (ip_parameters.m * ip_parameters.l)\n",
    "    * ip_parameters.mu_p\n",
    "    * dtheta\n",
    ")\n",
    "denominator = (1 + k) * (\n",
    "    ip_parameters.M + ip_parameters.m\n",
    ") * ip_parameters.l - ip_parameters.m * ip_parameters.l * casadi.cos(theta) ** 2\n",
    "ddtheta = numerator / denominator\n",
    "\n",
    "numerator = (\n",
    "    ip_parameters.m * ip_parameters.g * casadi.cos(theta) * casadi.sin(theta)\n",
    "    - (1 + k)\n",
    "    * (\n",
    "        ip_parameters.gamma * u\n",
    "        + ip_parameters.m * ip_parameters.l * dtheta**2 * casadi.sin(theta)\n",
    "        - ip_parameters.mu_c * dpos\n",
    "    )\n",
    "    - ip_parameters.mu_p * dtheta * casadi.cos(theta) / ip_parameters.l\n",
    ")\n",
    "denominator = ip_parameters.m * casadi.cos(theta) ** 2 - (1 + k) * (\n",
    "    ip_parameters.M + ip_parameters.m\n",
    ")\n",
    "ddpos = numerator / denominator\n",
    "\n",
    "inverted_pendulum.set_rhs(\"position\", dpos)\n",
    "inverted_pendulum.set_rhs(\"theta\", dtheta)\n",
    "inverted_pendulum.set_rhs(\"velocity\", ddpos)\n",
    "inverted_pendulum.set_rhs(\"dtheta\", ddtheta)\n",
    "\n",
    "# Inertia\n",
    "J = (ip_parameters.m * ip_parameters.l**2) / 3\n",
    "# Energies\n",
    "E_kin = (\n",
    "    0.5 * J * dtheta**2\n",
    "    + 0.5 * ip_parameters.M * dpos**2\n",
    "    + 0.5\n",
    "    * ip_parameters.m\n",
    "    * (\n",
    "        (dpos + ip_parameters.l * dtheta * casadi.cos(theta)) ** 2\n",
    "        + (ip_parameters.l * dtheta * casadi.sin(theta)) ** 2\n",
    "    )\n",
    ")\n",
    "E_pot = ip_parameters.m * ip_parameters.g * ip_parameters.l * casadi.cos(theta)\n",
    "inverted_pendulum.set_expression(\"E_kinetic\", E_kin)\n",
    "inverted_pendulum.set_expression(\"E_potential\", E_pot)\n",
    "\n",
    "inverted_pendulum.setup()"
   ]
  },
  {
   "cell_type": "markdown",
   "metadata": {
    "slideshow": {
     "slide_type": "subslide"
    }
   },
   "source": [
    "### Simulators"
   ]
  },
  {
   "cell_type": "code",
   "execution_count": null,
   "metadata": {
    "scene__Initialization": true,
    "slideshow": {
     "slide_type": "subslide"
    },
    "tags": [
     "ActiveScene"
    ]
   },
   "outputs": [],
   "source": [
    "env = create_inverted_pendulum_environment()\n",
    "linear_simulator = do_mpc.simulator.Simulator(inverted_pendulum_lin)\n",
    "linear_simulator.set_param(t_step=env.dt)\n",
    "linear_simulator.setup()\n",
    "\n",
    "env = create_inverted_pendulum_environment(cutoff_angle=np.inf)\n",
    "nonlinear_simulator = do_mpc.simulator.Simulator(inverted_pendulum)\n",
    "params_simulator = {\n",
    "    # Note: cvode doesn't support DAE systems.\n",
    "    \"integration_tool\": \"idas\",\n",
    "    \"abstol\": 1e-8,\n",
    "    \"reltol\": 1e-8,\n",
    "    \"t_step\": env.dt,\n",
    "}\n",
    "nonlinear_simulator.set_param(**params_simulator)"
   ]
  },
  {
   "cell_type": "markdown",
   "metadata": {
    "editable": true,
    "slideshow": {
     "slide_type": "slide"
    },
    "tags": [
     "remove-cell"
    ]
   },
   "source": [
    ":::{figure} ./_static/images/aai-institute-cover.png\n",
    ":width: 90%\n",
    ":align: center\n",
    "---\n",
    "name: aai-institute\n",
    "---\n",
    ":::"
   ]
  },
  {
   "cell_type": "markdown",
   "metadata": {
    "slideshow": {
     "slide_type": "slide"
    }
   },
   "source": [
    "## Linear Quadratic Regulator\n",
    "\n",
    "While solving the optimal control problem (OCP) is very hard in general, there are a few very important special cases where the solutions are very accessible. Most of these involve variants on the case of linear dynamics and quadratic cost. The simplest case, called the linear quadratic regulator (LQR), is formulated as stabilizing a time-invariant linear system to the origin can be solved analytically."
   ]
  },
  {
   "cell_type": "markdown",
   "metadata": {
    "slideshow": {
     "slide_type": "subslide"
    }
   },
   "source": [
    "For a discrete-time linear system described by:\n",
    "\n",
    "$$\n",
    "\\mathbf{x}_{t+1} = A \\mathbf{x}_t + B \\mathbf{u}_t\n",
    "$$\n",
    "\n",
    "where $x\\in \\mathbb {R} ^{n}$ (that is, $x$ is an $n$-dimensional real-valued vector) is the state of the system and $u\\in \\mathbb {R} ^{m}$ is the control input. Given a quadratic cost function for the system in the infinite-horizon case, defined as:\n",
    "\n",
    "$$\n",
    "J(\\mathbf{x}_0, \\mathbf{u}) = \\sum \\limits _{k = 0}^{\\infty} \\mathbf{x}_k^{T}Q \\mathbf{x}_k + \\mathbf{u}_k^{T} R \\mathbf{u}_k\n",
    "$$\n",
    "\n",
    "With $Q = Q^T \\succeq 0$, $R = R^T \\succeq 0$."
   ]
  },
  {
   "cell_type": "markdown",
   "metadata": {
    "slideshow": {
     "slide_type": "subslide"
    }
   },
   "source": [
    "In both cases, the control law that minizes the cost is given by:\n",
    "\n",
    "$$\n",
    "u_k = -K x_k\n",
    "$$\n",
    "\n",
    "With: $K = (R + B^T P B)^{-1} B^T P B$\n",
    "\n",
    "and $P$ is found by solving the discrete time algebraic Riccati equation (DARE):\n",
    "\n",
    "$$\n",
    "Q + A^{T}PA-(A^{T}PB)(R+B^{T}PB)^{-1}(B^{T}PA) = P.\n",
    "$$"
   ]
  },
  {
   "cell_type": "markdown",
   "metadata": {
    "slideshow": {
     "slide_type": "subslide"
    }
   },
   "source": [
    ":::{figure} _static/images/30_lqr_block_diagram.svg\n",
    ":width: 60%\n",
    "LQR Block Diagram.\n",
    ":::"
   ]
  },
  {
   "cell_type": "code",
   "execution_count": null,
   "metadata": {},
   "outputs": [],
   "source": [
    "def create_lqs_controller(model, t_step: float, n_horizon: int | None = None):\n",
    "    lqr = do_mpc.controller.LQR(mass_spring_damper)\n",
    "    lqr.settings.t_step = env.dt\n",
    "    lqr.settings.n_horizon = None\n",
    "    return lqr"
   ]
  },
  {
   "cell_type": "markdown",
   "metadata": {
    "slideshow": {
     "slide_type": "subslide"
    }
   },
   "source": [
    "### Mass-Spring-Damper"
   ]
  },
  {
   "cell_type": "markdown",
   "metadata": {
    "slideshow": {
     "slide_type": "subslide"
    }
   },
   "source": [
    "Now, we design Linear Quadratic Regulator for the Mass-Spring-Damper model. First, we create an instance of the LQR class."
   ]
  },
  {
   "cell_type": "code",
   "execution_count": null,
   "metadata": {
    "slideshow": {
     "slide_type": "fragment"
    }
   },
   "outputs": [],
   "source": [
    "lqr = do_mpc.controller.LQR(mass_spring_damper)"
   ]
  },
  {
   "cell_type": "code",
   "execution_count": null,
   "metadata": {
    "slideshow": {
     "slide_type": "subslide"
    }
   },
   "outputs": [],
   "source": [
    "env = create_mass_spring_damper_environment(render_mode=render_mode)\n",
    "lqr.settings.t_step = env.dt\n",
    "lqr.settings.n_horizon = None  # infinite horizon"
   ]
  },
  {
   "cell_type": "code",
   "execution_count": null,
   "metadata": {
    "slideshow": {
     "slide_type": "fragment"
    }
   },
   "outputs": [],
   "source": [
    "Q = np.diag([1000, 0])\n",
    "R = np.diag([0])\n",
    "display_array(\"Q\", Q)\n",
    "display_array(\"R\", R)\n",
    "lqr.set_objective(Q=Q, R=R)"
   ]
  },
  {
   "cell_type": "code",
   "execution_count": null,
   "metadata": {
    "slideshow": {
     "slide_type": "fragment"
    }
   },
   "outputs": [],
   "source": [
    "lqr.setup()"
   ]
  },
  {
   "cell_type": "code",
   "execution_count": null,
   "metadata": {
    "slideshow": {
     "slide_type": "subslide"
    }
   },
   "outputs": [],
   "source": [
    "xss = np.array([0.1, 0.0]).reshape(-1, 1)\n",
    "lqr.set_setpoint(xss)"
   ]
  },
  {
   "cell_type": "markdown",
   "metadata": {
    "slideshow": {
     "slide_type": "subslide"
    }
   },
   "source": [
    "#### SImulation\n",
    "\n",
    "Now, we simulate the closed-loop system for 50 steps:"
   ]
  },
  {
   "cell_type": "code",
   "execution_count": null,
   "metadata": {
    "slideshow": {
     "slide_type": "fragment"
    }
   },
   "outputs": [],
   "source": [
    "lqr.reset_history()\n",
    "mass_spring_damper_simulator.reset_history()\n",
    "x0 = np.zeros((2, 1))\n",
    "mass_spring_damper_simulator.x0 = x0\n",
    "for _ in range(50):\n",
    "    u0 = lqr.make_step(x0)\n",
    "    x0 = mass_spring_damper_simulator.make_step(u0)"
   ]
  },
  {
   "cell_type": "code",
   "execution_count": null,
   "metadata": {
    "slideshow": {
     "slide_type": "subslide"
    }
   },
   "outputs": [],
   "source": [
    "animate_mass_spring_damper_simulation(lqr.data)"
   ]
  },
  {
   "cell_type": "markdown",
   "metadata": {
    "slideshow": {
     "slide_type": "subslide"
    }
   },
   "source": [
    "#### Evaluation\n",
    "\n",
    "Finally, we evaluate the controller on the actual environment."
   ]
  },
  {
   "cell_type": "code",
   "execution_count": null,
   "metadata": {
    "slideshow": {
     "slide_type": "fragment"
    }
   },
   "outputs": [],
   "source": [
    "class LQRController:\n",
    "    def __init__(self, lqr: do_mpc.controller.LQR) -> None:\n",
    "        self.lqr = lqr\n",
    "        self.lqr.reset_history()\n",
    "\n",
    "    def act(self, observation: NDArray) -> NDArray:\n",
    "        return lqr.make_step(observation.reshape(-1, 1)).ravel()"
   ]
  },
  {
   "cell_type": "code",
   "execution_count": null,
   "metadata": {
    "slideshow": {
     "slide_type": "subslide"
    }
   },
   "outputs": [],
   "source": [
    "max_steps = 100\n",
    "env = create_mass_spring_damper_environment(\n",
    "    render_mode=render_mode, max_steps=max_steps\n",
    ")\n",
    "controller = LQRController(lqr)\n",
    "results = simulate_environment(env, max_steps=max_steps, controller=controller)"
   ]
  },
  {
   "cell_type": "code",
   "execution_count": null,
   "metadata": {
    "slideshow": {
     "slide_type": "subslide"
    }
   },
   "outputs": [],
   "source": [
    "show_video(results.frames, fps=1 / env.dt)"
   ]
  },
  {
   "cell_type": "code",
   "execution_count": null,
   "metadata": {
    "slideshow": {
     "slide_type": "subslide"
    }
   },
   "outputs": [],
   "source": [
    "plt.close()\n",
    "fig, ax, graphics = do_mpc.graphics.default_plot(lqr.data)\n",
    "ax[0].hlines(xss[0], lqr.data._time[0], lqr.data._time[-1], \"r\");"
   ]
  },
  {
   "cell_type": "markdown",
   "metadata": {
    "slideshow": {
     "slide_type": "subslide"
    }
   },
   "source": [
    "::::{exercise} LQR Controller\n",
    ":label: lqr-controller\n",
    "Design an LQR controller to keep the inverted pendulum by following these steps:\n",
    "\n",
    "1. Create an instance of `do_mpc.controller.LQR` by using the `create_lqs_controller` function and passing the appropriate `t_step` and `n_horizon` values.\n",
    "2. Define the $Q$ and $R$ matrices and set the controller's objective using its `set_objective` method.\n",
    "3. Call the setup\n",
    "::::"
   ]
  },
  {
   "cell_type": "markdown",
   "metadata": {},
   "source": [
    ":::{solution} lqr-controller\n",
    ":::"
   ]
  },
  {
   "cell_type": "code",
   "execution_count": null,
   "metadata": {},
   "outputs": [],
   "source": [
    "# Write your solution here"
   ]
  },
  {
   "cell_type": "markdown",
   "metadata": {
    "slideshow": {
     "slide_type": "subslide"
    },
    "solution2": "hidden",
    "solution2_first": true
   },
   "source": [
    "::::{solution} lqr-controller\n",
    ":class: dropdown\n",
    "\n",
    ":::{code-cell}\n",
    "lqr = do_mpc.controller.LQR(inverted_pendulum_lin)\n",
    ":::\n",
    "\n",
    "We choose an infinite prediction horizon (`n_horizon = None`), the time step `t_step = 0.04s` second (which is the same as the environment's timestep).\n",
    "\n",
    ":::{code-cell} python3\n",
    "env = create_inverted_pendulum_environment()\n",
    "lqr.settings.t_step = env.dt\n",
    "lqr.settings.n_horizon = None  # infinite horizon\n",
    ":::\n",
    "\n",
    "The goal is to keep the inverted pendulum uprightThe goal is to keep the inverted pendulum upright. For that we define the following objective.. For that we define the following objective.\n",
    "\n",
    ":::{code-cell} python3\n",
    "Q = np.diag([100, 1])\n",
    "R = np.diag([10])\n",
    "display_array(\"Q\", Q)\n",
    "display_array(\"R\", R)\n",
    "lqr.set_objective(Q=Q, R=R)\n",
    ":::\n",
    "\n",
    "We then complete the LQR setup.\n",
    "\n",
    ":::{code-cell} python3\n",
    "lqr.setup()\n",
    ":::\n",
    "\n",
    "Finally, we set the desired setpoint.\n",
    "\n",
    ":::{code-cell} python3\n",
    "xss = np.array([0.0, 0.0]).reshape(-1, 1)\n",
    "lqr.set_setpoint(xss)\n",
    ":::\n",
    "\n",
    "#### Simulation\n",
    "\n",
    ":::{code-cell}\n",
    "lqr.reset_history()\n",
    "inverted_pendulum_lin_simulator.reset_history()\n",
    "x0 = np.zeros((2, 1))\n",
    "x0[0] = 0.01\n",
    "inverted_pendulum_lin_simulator.x0 = x0\n",
    "\n",
    "for k in range(50):\n",
    "    u0 = lqr.make_step(x0)\n",
    "    x0 = inverted_pendulum_lin_simulator.make_step(u0)\n",
    "\n",
    "animate_inverted_pendulum_simulation(lqr.data)\n",
    ":::\n",
    "\n",
    "#### Evaluation\n",
    "\n",
    ":::{code-cell}\n",
    "class LQRController:\n",
    "    def __init__(self, lqr: do_mpc.controller.LQR) -> None:\n",
    "        self.lqr = lqr\n",
    "        self.lqr.reset_history()\n",
    "\n",
    "    def act(self, observation: NDArray) -> NDArray:\n",
    "        return lqr.make_step(observation[[1, 3]].reshape(-1, 1)).ravel()\n",
    ":::\n",
    "\n",
    ":::{code-cell}\n",
    "max_steps = 500\n",
    "env = create_inverted_pendulum_environment(render_mode=render_mode, max_steps=max_steps)\n",
    "controller = LQRController(lqr)\n",
    "results = simulate_environment(env, max_steps=max_steps, controller=controller)\n",
    "show_video(results.frames, fps=1 / env.dt)\n",
    ":::\n",
    "\n",
    ":::{code-cell}\n",
    "plt.close()\n",
    "fig, ax, graphics = do_mpc.graphics.default_plot(lqr.data, aux_list=[])\n",
    "ax[0].hlines(xss[0], lqr.data._time[0], lqr.data._time[-1], \"r\");\n",
    ":::\n",
    "\n",
    "::::"
   ]
  },
  {
   "cell_type": "code",
   "execution_count": null,
   "metadata": {
    "slideshow": {
     "slide_type": "subslide"
    },
    "solution2": "hidden"
   },
   "outputs": [],
   "source": [
    "lqr.reset_history()\n",
    "inverted_pendulum_lin_simulator.reset_history()\n",
    "x0 = np.zeros((2, 1))\n",
    "x0[0] = 0.01\n",
    "inverted_pendulum_lin_simulator.x0 = x0\n",
    "for k in range(50):\n",
    "    u0 = lqr.make_step(x0)\n",
    "    x0 = inverted_pendulum_lin_simulator.make_step(u0)"
   ]
  },
  {
   "cell_type": "code",
   "execution_count": null,
   "metadata": {
    "slideshow": {
     "slide_type": "subslide"
    },
    "solution2": "hidden"
   },
   "outputs": [],
   "source": [
    "animate_inverted_pendulum_simulation(lqr.data)"
   ]
  },
  {
   "cell_type": "code",
   "execution_count": null,
   "metadata": {
    "slideshow": {
     "slide_type": "subslide"
    },
    "solution2": "hidden"
   },
   "outputs": [],
   "source": [
    "class LQRController:\n",
    "    def __init__(self, lqr: do_mpc.controller.LQR) -> None:\n",
    "        self.lqr = lqr\n",
    "        self.lqr.reset_history()\n",
    "\n",
    "    def act(self, observation: NDArray) -> NDArray:\n",
    "        return lqr.make_step(observation[[1, 3]].reshape(-1, 1)).ravel()"
   ]
  },
  {
   "cell_type": "code",
   "execution_count": null,
   "metadata": {
    "slideshow": {
     "slide_type": "subslide"
    },
    "solution2": "hidden"
   },
   "outputs": [],
   "source": [
    "max_steps = 500\n",
    "env = create_inverted_pendulum_environment(render_mode=render_mode, max_steps=max_steps)\n",
    "controller = LQRController(lqr)\n",
    "results = simulate_environment(env, max_steps=max_steps, controller=controller)"
   ]
  },
  {
   "cell_type": "code",
   "execution_count": null,
   "metadata": {
    "slideshow": {
     "slide_type": "subslide"
    },
    "solution2": "hidden"
   },
   "outputs": [],
   "source": [
    "show_video(results.frames, fps=1 / env.dt)"
   ]
  },
  {
   "cell_type": "code",
   "execution_count": null,
   "metadata": {
    "slideshow": {
     "slide_type": "subslide"
    },
    "solution2": "hidden"
   },
   "outputs": [],
   "source": [
    "plt.close()\n",
    "fig, ax, graphics = do_mpc.graphics.default_plot(lqr.data, aux_list=[])\n",
    "ax[0].hlines(xss[0], lqr.data._time[0], lqr.data._time[-1], \"r\");"
   ]
  },
  {
   "cell_type": "markdown",
   "metadata": {},
   "source": [
    ":::{solution-end}\n",
    ":::"
   ]
  },
  {
   "cell_type": "markdown",
   "metadata": {
    "slideshow": {
     "slide_type": "slide"
    },
    "tags": [
     "remove-cell",
     "remove-cell-nbconv"
    ]
   },
   "source": [
    ":::{figure} ./_static/images/aai-institute-cover.png\n",
    ":width: 90%\n",
    ":align: center\n",
    "---\n",
    "name: aai-institute\n",
    "---\n",
    ":::"
   ]
  }
 ],
 "metadata": {
  "celltoolbar": "Slideshow",
  "kernelspec": {
   "display_name": "Python 3 (ipykernel)",
   "language": "python",
   "name": "python3"
  },
  "language_info": {
   "codemirror_mode": {
    "name": "ipython",
    "version": 3
   },
   "file_extension": ".py",
   "mimetype": "text/x-python",
   "name": "python",
   "nbconvert_exporter": "python",
   "pygments_lexer": "ipython3",
   "version": "3.10.12"
  },
  "rise": {
   "footer": "<img src='_static/images/aai-logo.png' alt='logo' height='50em'>",
   "header": "<img src='_static/images/transferlab-logo.svg' alt='logo' height='20em' />",
   "theme": "white"
  },
  "scenes_data": {
   "active_scene": "Initialization",
   "init_scene": null,
   "scenes": [
    "Initialization"
   ]
  },
  "toc": {
   "base_numbering": 1,
   "nav_menu": {
    "height": "148px",
    "width": "256px"
   },
   "number_sections": false,
   "sideBar": true,
   "skip_h1_title": false,
   "title_cell": "Table of Contents",
   "title_sidebar": "Contents",
   "toc_cell": false,
   "toc_position": {
    "height": "563.2px",
    "left": "125px",
    "top": "116.469px",
    "width": "315.6px"
   },
   "toc_section_display": true,
   "toc_window_display": false
  },
  "varInspector": {
   "cols": {
    "lenName": 16,
    "lenType": 16,
    "lenVar": 40
   },
   "kernels_config": {
    "python": {
     "delete_cmd_postfix": "",
     "delete_cmd_prefix": "del ",
     "library": "var_list.py",
     "varRefreshCmd": "print(var_dic_list())"
    },
    "r": {
     "delete_cmd_postfix": ") ",
     "delete_cmd_prefix": "rm(",
     "library": "var_list.r",
     "varRefreshCmd": "cat(var_dic_list()) "
    }
   },
   "types_to_exclude": [
    "module",
    "function",
    "builtin_function_or_method",
    "instance",
    "_Feature"
   ],
   "window_display": false
  }
 },
 "nbformat": 4,
 "nbformat_minor": 4
}
