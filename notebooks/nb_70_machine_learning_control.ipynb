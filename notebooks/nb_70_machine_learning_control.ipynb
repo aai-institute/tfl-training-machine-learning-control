{
 "cells": [
  {
   "cell_type": "code",
   "execution_count": null,
   "id": "8497a4b2-a020-4fba-8539-bc1361a34023",
   "metadata": {
    "editable": true,
    "init_cell": true,
    "scene__Default Scene": true,
    "slideshow": {
     "slide_type": "skip"
    },
    "tags": [
     "remove-cell",
     "ActiveScene"
    ]
   },
   "outputs": [],
   "source": [
    "%%capture\n",
    "%load_ext autoreload\n",
    "%autoreload 2\n",
    "%matplotlib inline\n",
    "%load_ext training_ml_control\n",
    "%set_random_seed 12"
   ]
  },
  {
   "cell_type": "code",
   "execution_count": null,
   "id": "f7339d3d-eae4-4e05-a7fb-050df96782e7",
   "metadata": {
    "init_cell": true,
    "scene__Default Scene": true,
    "slideshow": {
     "slide_type": "skip"
    },
    "tags": [
     "remove-cell",
     "ActiveScene"
    ]
   },
   "outputs": [],
   "source": [
    "%presentation_style"
   ]
  },
  {
   "cell_type": "code",
   "execution_count": null,
   "id": "6e892149-098a-42c7-b554-bbb83918888d",
   "metadata": {
    "init_cell": true,
    "scene__Default Scene": true,
    "tags": [
     "ActiveScene"
    ]
   },
   "outputs": [],
   "source": [
    "import warnings\n",
    "\n",
    "warnings.simplefilter(\"ignore\", UserWarning)"
   ]
  },
  {
   "cell_type": "code",
   "execution_count": null,
   "id": "cd78d373-34af-4b57-8d16-dbf6f662331d",
   "metadata": {
    "init_cell": true,
    "scene__Default Scene": true,
    "slideshow": {
     "slide_type": "skip"
    },
    "tags": [
     "remove-cell",
     "ActiveScene"
    ]
   },
   "outputs": [],
   "source": [
    "%autoreload\n",
    "\n",
    "import matplotlib.pyplot as plt\n",
    "import numpy as np\n",
    "import seaborn as sns\n",
    "import pykoopman as pk\n",
    "import pysindy as ps\n",
    "from scipy.signal import periodogram\n",
    "from scipy.fft import rfft, rfftfreq\n",
    "\n",
    "from training_ml_control.control import (\n",
    "    ConstantController,\n",
    "    SineController,\n",
    "    SumOfSineController,\n",
    "    PRBSController,\n",
    "    SchroederSweepController,\n",
    "    RandomController,\n",
    ")\n",
    "from training_ml_control.environments import (\n",
    "    create_cart_environment,\n",
    "    create_inverted_pendulum_environment,\n",
    "    simulate_environment,\n",
    ")\n",
    "from training_ml_control.nb_utils import show_video, display_array\n",
    "\n",
    "sns.set_theme()\n",
    "plt.rcParams[\"figure.figsize\"] = [14, 8]"
   ]
  },
  {
   "cell_type": "markdown",
   "id": "67ad3b3e-67cf-4b3d-875d-96496d23d193",
   "metadata": {
    "editable": true,
    "slideshow": {
     "slide_type": "slide"
    },
    "tags": [
     "remove-cell"
    ]
   },
   "source": [
    ":::{figure} ./_static/images/aai-institute-cover.png\n",
    ":width: 90%\n",
    ":align: center\n",
    "---\n",
    "name: aai-institute\n",
    "---\n",
    ":::"
   ]
  },
  {
   "cell_type": "markdown",
   "id": "77372629-782f-44b6-ad24-baedbca2fbc2",
   "metadata": {},
   "source": [
    "# Machine Learning & Control\n",
    "\n",
    "Modern machine learning provides useful tools and perspectives for control theory. Framing control problems as data modeling tasks enables powerful function approximation, estimation, and optimization techniques from machine learning to be applied."
   ]
  },
  {
   "cell_type": "markdown",
   "id": "fc624f94-572b-4e24-8302-43938783a939",
   "metadata": {
    "slideshow": {
     "slide_type": "slide"
    }
   },
   "source": [
    "## Learning-Based Control"
   ]
  },
  {
   "cell_type": "markdown",
   "id": "42c969c8-89b7-465a-b79b-252799146d79",
   "metadata": {
    "slideshow": {
     "slide_type": "subslide"
    }
   },
   "source": [
    "- Learning-based control addresses the automated and data-driven generation or adaptation of elements of the controller formulation to improve control performance.\n",
    "- The learning setup can be diverse:\n",
    "  - Offline learning involves adapting the controller between trials or episodes while collecting data.\n",
    "  - Online learning adjusts the controller during closed-loop operation (e.g. repetitive tasks) or using data from one task execution."
   ]
  },
  {
   "cell_type": "markdown",
   "id": "db35c51f-bfc5-469d-93c0-1233c43b162a",
   "metadata": {
    "slideshow": {
     "slide_type": "subslide"
    }
   },
   "source": [
    "## System Identification\n",
    "\n",
    "System Identification is the process of constructing a model of a (dynamical) system from observations (measurements) of its inputs and outputs. System identification also includes the optimal design of experiments for efficiently generating informative data for fitting such models as well as model reduction.\n",
    "\n",
    "In control engineering, the objective is to obtain a good performance of the closed-loop system, which is the one comprising the physical system, the feedback loop and the controller. This performance is typically achieved by designing the control law relying on a model of the system, which needs to be identified starting from experimental data. If the model identification procedure is aimed at control purposes, what really matters is not to obtain the best possible model that fits the data, as in the classical system identification approach, but to obtain a model satisfying enough for the closed-loop performance.\n",
    "\n",
    "In control engineering, we typically rely on the mathematical modelling of the system from first principles and then optionally use parameter identification methods to determine the values of the mathematical model's parameters. \n",
    "\n",
    "In our case, we will not rely on that and instead prefer fitting a model based only on measured data."
   ]
  },
  {
   "cell_type": "markdown",
   "id": "8c92006c-96fc-4941-acfe-ed23fd0a4457",
   "metadata": {},
   "source": [
    "```{exercise} Dynamic System Model Evaluation\n",
    ":label: model-evaluation\n",
    "\n",
    "How do we evaluation the fitted model of the system?\n",
    "```"
   ]
  },
  {
   "cell_type": "markdown",
   "id": "72d55a08-2862-495b-91a9-ef008bfbf035",
   "metadata": {},
   "source": [
    ":::{solution} model-evaluation\n",
    ":class: dropdown\n",
    "\n",
    "- We could evaluate the model's prediction on a held-out validation set.\n",
    "- Additionally we could evaluate the model's long-term predictions in an open-loop manner.\n",
    "- On top of that, we could evaluate the model's step[^1] and impulse[^2] responses from different initial states. This is especially useful for linear systems.\n",
    "- It is also valuable to look at what the model's residuals and make sure there is no correlation with other available information such as the input.\n",
    "\n",
    "[^1]: The step response of a dynamic system is its output when presented with an input signal, called step, that changes from 0 to a constant values in a very short amount of time.\n",
    "[^2]: The impulse response of a dynamic system is its output when presented with a brief input signal, called an impulse. Any LTI system can be uniquely characterized by its impulse response\n",
    ":::"
   ]
  },
  {
   "cell_type": "markdown",
   "id": "baacc0d7-fc70-465b-ad6e-9ad350191237",
   "metadata": {},
   "source": [
    "## Data Collection\n",
    "\n",
    "Before learning a model of the system, we need to collect either during the system's operation i.e. online data collection, or inbetween episodes of the system's operation i.e. offline data collection. The collected data has to be informative, i.e. comprehensive and be representative of the all behaviours of the system that we desire to capture.\n",
    "\n",
    "Data informativity is a condition on the data under which it is possible to distinguish between different models in a (parametric) model class.\n",
    "\n",
    "Commonly used input signals for system identification:\n",
    "- Step function\n",
    "- Pseudorandom binary sequence (PRBS)\n",
    "- Autoregressive, moving average process\n",
    "- Periodic signals: sum of sinusoids\n",
    "- Schroeder Sweep (Sum of phase shifted sinusoids)\n",
    "\n",
    "  $$\n",
    "  u(t) = \\sum\\limits_{k=1}^M A_k \\cos(\\frac{2\\pi k \\tau(t)}{T} + \\phi_k), \\quad t = 0, 1, \\dots , N − 1\n",
    "  $$\n",
    "\n",
    "  Where:\n",
    "\n",
    "  $$\n",
    "  \\begin{array}{l}\n",
    "  k = \\sqrt{\\frac{P}{M}}\\\\\n",
    "  \\phi_1 = 0\\\\\n",
    "  \\phi_k = \\phi_{k-1} − \\frac{\\pi k^2}{N}, \\quad k = 2, 3, \\dots , M\n",
    "  \\end{array}\n",
    "  $$\n",
    "\n",
    "  With $M$ the number of harmonically related frequencies, $\\phi_k$ the phase angles of the harmonic components to produce low Peak Factor (PF),\n",
    "  $N$ the number of time steps, $P$ the total desired input power.\n",
    "\n",
    "For certain systems in many safety-critical tasks such as space exploration or robot-assisted surgery we have to rely on human experts to control the system and avoid damaging it or its environment."
   ]
  },
  {
   "cell_type": "markdown",
   "id": "fb7dc38b-7042-4fdb-b6d9-afa4f53773a4",
   "metadata": {},
   "source": [
    "### Cart"
   ]
  },
  {
   "cell_type": "code",
   "execution_count": null,
   "id": "fb805d78-a8c1-4dd6-9aa9-24acf6fa7c34",
   "metadata": {},
   "outputs": [],
   "source": [
    "cart_env = create_cart_environment(max_steps=500, goal_position=20, max_position=30)"
   ]
  },
  {
   "cell_type": "code",
   "execution_count": null,
   "id": "0f0d34fb-9237-4150-8fdd-465358e510cd",
   "metadata": {},
   "outputs": [],
   "source": [
    "cart_observations = {}\n",
    "cart_actions = {}\n",
    "cart_frames = {}\n",
    "\n",
    "controllers = {\n",
    "    f\"Step @ {cart_env.max_action / 2}\": ConstantController(\n",
    "        np.asarray([cart_env.max_action / 2])\n",
    "    ),\n",
    "    \"Sinusoid @ 10Hz\": SineController(\n",
    "        cart_env, np.asarray([cart_env.max_action]), frequency=100\n",
    "    ),\n",
    "    \"Sinusoid @ 0.5Hz\": SineController(\n",
    "        cart_env, np.asarray([cart_env.max_action]), frequency=0.5\n",
    "    ),\n",
    "    \"Schroeder Sweep\": SchroederSweepController(\n",
    "        cart_env,\n",
    "        np.asarray([cart_env.max_action]),\n",
    "        n_time_steps=500,\n",
    "        n_harmonics=5,\n",
    "        frequency=2,\n",
    "    ),\n",
    "    \"PRBS\": PRBSController(np.asarray([cart_env.max_action])),\n",
    "    \"Random\": RandomController(cart_env),\n",
    "}\n",
    "\n",
    "for controller_name, controller in controllers.items():\n",
    "    result = simulate_environment(cart_env, controller=controller)\n",
    "    cart_observations[controller_name] = result.observations\n",
    "    cart_actions[controller_name] = result.actions\n",
    "    cart_frames[controller_name] = result.frames"
   ]
  },
  {
   "cell_type": "code",
   "execution_count": null,
   "id": "cc1ea39d-5a37-49f2-bcca-d8d875ebcd36",
   "metadata": {},
   "outputs": [],
   "source": [
    "fig, axes = plt.subplots(len(cart_actions), figsize=(12, 10))\n",
    "axes = axes.ravel()\n",
    "for i, (label, actions) in enumerate(cart_actions.items()):\n",
    "    t = np.arange(len(actions)) * cart_env.dt\n",
    "    axes[i].plot(t, actions, label=label)\n",
    "    axes[i].set_xlabel(\"Time\")\n",
    "    axes[i].set_title(label)\n",
    "fig.tight_layout()\n",
    "plt.show();"
   ]
  },
  {
   "cell_type": "code",
   "execution_count": null,
   "id": "f2b4a5b6-ab5e-4d90-9c9e-fe4c6884badc",
   "metadata": {},
   "outputs": [],
   "source": [
    "fig, axes = plt.subplots(1, 2, sharex=True)\n",
    "axes = axes.ravel()\n",
    "for i, label in zip(range(2), [\"$x$\", r\"$\\dot{x}$\"]):\n",
    "    for j, (controller_name, observations) in enumerate(cart_observations.items()):\n",
    "        t = np.arange(len(observations[:])) * cart_env.dt\n",
    "        axes[i].plot(t, observations[:, i], label=controller_name)\n",
    "        axes[i].set_xlabel(\"Time\")\n",
    "        axes[i].set_title(label)\n",
    "plt.legend()\n",
    "fig.tight_layout()\n",
    "plt.show();"
   ]
  },
  {
   "cell_type": "markdown",
   "id": "cce69707-84b6-4fac-a296-6b60cdd6c2f8",
   "metadata": {},
   "source": [
    "Let's look at the phase portrait[^*] instead.\n",
    "\n",
    "[^*]: A phase portrait is a geometric representation of the trajectories of a dynamical system in the phase plane. Each set of initial conditions is represented by a different curve, or point."
   ]
  },
  {
   "cell_type": "code",
   "execution_count": null,
   "id": "728e13ac-0b8e-4934-b1ab-bb83a442dfde",
   "metadata": {},
   "outputs": [],
   "source": [
    "fig, ax = plt.subplots(1, 1, sharex=True)\n",
    "\n",
    "for j, (controller_name, observations) in enumerate(cart_observations.items()):\n",
    "    ax.plot(observations[:, 0], observations[:, 1], label=controller_name)\n",
    "    ax.set_xlabel(\"$x$\")\n",
    "    ax.set_ylabel(\"$\\dot{x}$\")\n",
    "plt.legend()\n",
    "fig.tight_layout()\n",
    "plt.show();"
   ]
  },
  {
   "cell_type": "markdown",
   "id": "96163380-18c3-49e0-81f9-e397c60e3fbc",
   "metadata": {},
   "source": [
    "Let's visualize the Power Spectral Density (PSD) of the input and state signals"
   ]
  },
  {
   "cell_type": "code",
   "execution_count": null,
   "id": "e4af8b67-b339-45d6-bd78-aa15822c23f4",
   "metadata": {},
   "outputs": [],
   "source": [
    "fig, axes = plt.subplots(1, 2, sharex=True)\n",
    "axes = axes.ravel()\n",
    "for i, label in zip(range(2), [\"$x$\", r\"$\\dot{x}$\"]):\n",
    "    for controller_name, observations in cart_observations.items():\n",
    "        f, Pxx_den = periodogram(observations[:, i], 1 / cart_env.dt)\n",
    "        axes[i].semilogy(f, Pxx_den, label=controller_name)\n",
    "        axes[i].set_xlabel(\"frequency [Hz]\")\n",
    "        axes[i].set_ylabel(\"Power Spectral Density [V**2/Hz]\")\n",
    "        axes[i].set_title(label)\n",
    "plt.legend()\n",
    "fig.tight_layout()\n",
    "plt.show();"
   ]
  },
  {
   "cell_type": "markdown",
   "id": "aefea19a-595f-428a-9358-1ae48cb91c4d",
   "metadata": {},
   "source": [
    "## Naive Deep Learning"
   ]
  },
  {
   "cell_type": "markdown",
   "id": "0d3bea5a-9bf2-4fa9-a049-54695170420e",
   "metadata": {},
   "source": [
    "$$\n",
    "\\mathbf{x}_{t+1} = f_\\theta(\\mathbf{x}_t, \\mathbf{u}_t)\n",
    "$$\n",
    "\n",
    "Where $\\theta$ are learnable parameters."
   ]
  },
  {
   "cell_type": "markdown",
   "id": "5e889c64-ce65-40c7-9752-4291f03128c2",
   "metadata": {},
   "source": [
    "Issues with such an approach:\n",
    "\n",
    "- Domain shift from the training distribution to the real-world distribution.\n",
    "- Black-box."
   ]
  },
  {
   "cell_type": "markdown",
   "id": "f80e3b56-a968-46c9-810d-fca68eea3cce",
   "metadata": {},
   "source": [
    "## Deep Learning with Nominal Model\n",
    "\n",
    "A real-world dynamical system can be described as:\n",
    "\n",
    "$$\n",
    "\\mathbf{x}_{t+1} = \\underbrace{f_n(\\mathbf{x}_t, \\mathbf{u}_t)}_{\\text{nominal dynamics}} + \\underbrace{g_r(\\mathbf{x}_t, \\mathbf{u}_t)}_{\\text{residual dynamics}} + \\underbrace{w_t}_{\\text{disturbance}}\n",
    "$$\n",
    "\n",
    "Where $f_n$ is the nominalsystem model, $g_r$ an additive residual term accommodating uncertainty and $w_t$ represents distburnances.\n",
    "\n",
    "Many learning-based techniques make use of this explicit distinction by only learning the residual term."
   ]
  },
  {
   "cell_type": "markdown",
   "id": "d9ebc522-076b-4117-849a-0abe2aba9681",
   "metadata": {},
   "source": [
    "An example of the use of this approach can be found in {cite}`shi_neural_2019`.\n",
    "\n",
    "{ref}`neural-lander-diagram` is a figure depicting the ground effect that is modelled using a neural network and\n",
    "{ref}`neural-lander-gif` is a comparison of drone landings with and without neural network modeling."
   ]
  },
  {
   "cell_type": "markdown",
   "id": "90da7b1e-99f8-46d9-a956-7831443560a7",
   "metadata": {},
   "source": [
    ":::{figure} _static/images/60_neural_lander_diagram.png\n",
    ":width: 60%\n",
    ":label: neural-lander-diagram\n",
    "Visual depiction of the ground effect, the complex aerodynamic effect between the drone and the ground, which is nonlinear, nonstationary, and very hard to model using standard system identification approaches. *Adapted from [Neural Control blog post](https://www.gshi.me/blog/NeuralControl/)*. \n",
    ":::"
   ]
  },
  {
   "cell_type": "markdown",
   "id": "6a1658c2-e421-4909-9f3d-a8554185d07c",
   "metadata": {},
   "source": [
    ":::{figure} _static/images/60_neural_lander.gif\n",
    ":width: 60%\n",
    ":label: neural-lander-gif\n",
    "Comparison of drone landing with and without neural network modelling of residual ground effect. *Taken from [Neural Control blog post](https://www.gshi.me/blog/NeuralControl/)*. \n",
    ":::"
   ]
  },
  {
   "cell_type": "markdown",
   "id": "f565b19d-58dd-415e-b73b-e5c4848bc2de",
   "metadata": {},
   "source": [
    "Issues with such an approach:\n",
    "\n",
    "- Requires nominal model.\n",
    "- Still susceptible to domain shift issues."
   ]
  },
  {
   "cell_type": "markdown",
   "id": "7994e6e7-f2c7-426b-8f78-8d4897de313c",
   "metadata": {},
   "source": [
    "## Sparse Identification of Nonlinear Dynamics (SINDy)\n",
    "\n",
    "The SINDY algorithm identifies fully nonlinear dynamical systems from measurement data. This relies on the fact that many dynamical systems have relatively few terms in the right hand side of the governing equations:\n",
    "\n",
    "$$\n",
    "\\dot{\\mathbf{x}} = f(\\mathbf{x})\n",
    "$$\n",
    "\n",
    "To determine the function $f$ from data, we collect a time history of the state $\\mathbf{x}$ and either measure the derivative $\\dot{\\mathbf{x}}$\n",
    "or approximate it numerically. The data are sampled at several times $t_1, t_2, \\dots, t_m$ and arranged into two matrices:\n",
    "\n",
    "$$\n",
    "\\mathbf{X} = \\begin{bmatrix}\n",
    "\\mathbf{x}^T(t_1)\\\\\n",
    "\\mathbf{x}^T(t_2)\\\\\n",
    "\\vdots\\\\\n",
    "\\mathbf{x}^T(t_m)\n",
    "\\end{bmatrix}\n",
    "= \\begin{bmatrix}\n",
    "x_1(t_1) & x_2(t_1) & \\dots & x_n(t_1)\\\\\n",
    "x_1(t_2) & x_2(t_2) & \\dots & x_n(t_2)\\\\\n",
    "\\vdots & \\vdots & \\ddots & \\vdots\\\\\n",
    "x_1(t_m) & x_2(t_m) & \\dots & x_n(t_m)\\\\\n",
    "\\end{bmatrix}\n",
    "$$\n",
    "\n",
    "$$\n",
    "\\dot{\\mathbf{X}} = \\begin{bmatrix}\n",
    "\\dot{\\mathbf{x}}^T(t_1)\\\\\n",
    "\\dot{\\mathbf{x}}^T(t_2)\\\\\n",
    "\\vdots\\\\\n",
    "\\dot{\\mathbf{x}}^T(t_m)\n",
    "\\end{bmatrix}\n",
    "= \\begin{bmatrix}\n",
    "\\dot{x}_1(t_1) & \\dot{x}_2(t_1) & \\dots & \\dot{x}_n(t_1)\\\\\n",
    "\\dot{x}_1(t_2) & \\dot{x}_2(t_2) & \\dots & \\dot{x}_n(t_2)\\\\\n",
    "\\vdots & \\vdots & \\ddots & \\vdots\\\\\n",
    "\\dot{x}_1(t_m) & \\dot{x}_2(t_m) & \\dots & \\dot{x}_n(t_m)\\\\\n",
    "\\end{bmatrix}\n",
    "$$\n",
    "\n",
    "Next, we construct a library $\\Theta(\\mathbf{X})$ consisting of candidate non-linear functions of the columns of $\\mathbf{X}$.\n",
    "For example, \\Theta(\\mathbf{X})$ may consist of constant, polynomial, and trigonometric terms:\n",
    "\n",
    "$$\n",
    "\\Theta(\\mathbf{X}) = \\begin{bmatrix}\n",
    "\\mathbf{1} & \\mathbf{X} & \\mathbf{X}^{P_2} & \\mathbf{X}^{P_3} & \\dots & \\sin(\\mathbf{X}) & \\cos(\\mathbf{X}) \n",
    "\\end{bmatrix}\n",
    "$$\n",
    "\n",
    "Here, higher polynomials are denoted as $\\mathbf{X}^{P_2}$, $\\mathbf{X}^{P_3}$, etc.,\n",
    "where $\\mathbf{X}^{P_2}$ denotes the quadratic nonlinearities in the state x:\n",
    "\n",
    "$$\n",
    "\\mathbf{X}^{P_2} = \\begin{bmatrix}\n",
    "x_1^2(t_1) & x_1(t_1)x_2(t_1) & \\dots & x_n^2(t_1)\\\\\n",
    "x_1^2(t_2) & x_1(t_2)x_2(t_2) & \\dots & x_n^2(t_2)\\\\\n",
    "\\vdots & \\vdots & \\ddots & \\vdots\\\\\n",
    "x_1^2(t_m) & x_1(t_m)x_2(t_m) & \\dots & x_n^2(t_m)\\\\\n",
    "\\end{bmatrix}\n",
    "$$\n",
    "\n",
    "Each column of $\\Theta(\\mathbf{X})$ represents a candidate function for the right-hand side of the system's ODE.\n",
    "There is tremendous freedom in choosing the entries in this matrix of nonlinearities.\n",
    "\n",
    "Because we assume that only a few of these nonlinearities are active in each row of $f$,\n",
    "we may set up a sparse regression problem to determine the sparse vectors of coefficients\n",
    "$\\Xi = \\begin{bmatrix} \\xi_1 ^ \\xi_2 & \\dots & \\xi_n \\end{bmatrix}$ that determine which nonlinearities are active:\n",
    "\n",
    "$$\n",
    "\\dot{\\mathbf{X}} = \\Theta(\\mathbf{X})\\Xi\n",
    "$$\n",
    "\n",
    "This is illustrated in {ref}`sindy-diagram`. Each column $\\xi_k$ of $Xi$ is a sparse vector of coefficients determining\n",
    "which terms are active in the right-hand side for one of the row equations:\n",
    "\n",
    "$$\n",
    "\\dot{x}_k = f_k(x) = \\Theta(x^T)\\xi_k\n",
    "$$"
   ]
  },
  {
   "cell_type": "markdown",
   "id": "c217e8f7-11ed-48a6-913a-428ea9bb6ded",
   "metadata": {},
   "source": [
    ":::{figure} _static/images/70_sindy_diagram.svg\n",
    ":width: 80%\n",
    ":label: sindy-diagram\n",
    "\n",
    "Schematic of the SINDy algorithm, demonstrated on the Lorenz equations. Data are collected from the system, including a time history of the states $\\mathbf{X}$ and derivatives $\\dot{\\mathbf{X}}$. Next, a library of nonlinear functions of the states, $\\Theta(\\mathbf{X})$, is constructed. This is then used to find the fewest terms needed to satisfy $\\dot{\\mathbf{X}} = \\Theta(\\mathbf{X})\\Xi$. The few entries in the vectors of $\\Xi$, solved for by sparse regression, denote the relevant\n",
    "terms in the right-hand side of the dynamics. *Taken from {cite}`brunton_discovering_2016`*\n",
    ":::"
   ]
  },
  {
   "cell_type": "markdown",
   "id": "6390573f-cc23-4a2d-a6ea-b3a4dc6c63cc",
   "metadata": {},
   "source": [
    "### SINDy with Control (SINDyc)\n",
    "\n",
    "SINDYc generalizes the SINDY method to include inputs and control. In particular, it considers the nonlinear dynamical system with inputs $\\mathbf{u}$:\n",
    "\n",
    "$$\n",
    "\\dot{\\mathbf{x}} = f(\\mathbf{x}, \\mathbf{u})\n",
    "$$\n",
    "\n",
    "The SINDY algorithm is readily generalized to include actuation, as this merely requires building a larger library $\\Theta(\\mathbf{X}, \\mathbf{U})$\n",
    "of candidate functions that include $u$; these functions can include nonlinear cross terms in $\\mathbf{x}$ and $\\mathbf{u}$.\n",
    "This extension requires measurements of the state $\\mathbf{x}$ as well as the input signal $\\mathbf{u}$."
   ]
  },
  {
   "cell_type": "markdown",
   "id": "6eda563d-b736-4f78-8294-c2885016c374",
   "metadata": {},
   "source": [
    ":::{figure} _static/images/70_sindy_with_control_diagram.svg\n",
    ":width: 80%\n",
    "\n",
    "Schematic of the SINDy with control algorithm. Active terms in a library of candidate nonlinearities are selected via sparse regression. *Taken from {cite}`fasel_sindy_2021`*.\n",
    ":::"
   ]
  },
  {
   "cell_type": "markdown",
   "id": "8bad92c6-e587-41a9-9370-11f3f0cc7329",
   "metadata": {},
   "source": [
    "## Koopman Operator\n",
    "\n",
    ":::{figure} _static/images/60_koopman_operators_summary.svg\n",
    ":width: 70%\n",
    ":align: center\n",
    "---\n",
    "name: Koopman Operators Summary\n",
    "---\n",
    "Summary of the idea of Koopman operators. By lifting to a space of observables, we\n",
    "trade a nonlinear finite-dimensional system for a linear infinite-dimensional system. *Taken from {cite}`colbrook_multiverse_2023`*.\n",
    ":::\n",
    "\n",
    "Given $\\mathcal{F}$ a space of functions $g: \\Omega \\rightarrow \\mathbb{C}$, and $\\Omega$ the state space of our dynamical system. The Koopman operator is defined on  a suitable domain $\\mathcal{D}(\\mathcal{K}) \\subset \\mathcal{F}$ via the composition formula:\n",
    "\n",
    "$$\n",
    "[\\mathcal{K}g](\\mathbf{x}) = [g \\circ f](\\mathbf{x}) = g(f(\\mathbf{x})), \\quad g \\in \\mathcal{D}(\\mathcal{K})\n",
    "$$\n",
    "\n",
    "Where $\\mathbf{x}_{t+1} = f(\\mathbf{x}_t)$\n",
    "\n",
    "The functions $g$, referred to as *observables*, serve as tools for indirectly measuring the state of the system.\n",
    "Specifically, $g(x_t)$ indirectly measures the state $x_t$.\n",
    "\n",
    "In this context, $[\\mathcal{K}g](\\mathbf{x}_t) = g(f(\\mathbf{x}_t)) = g(\\mathbf{x}_{t+1})$ represents the measurement of the state one time\n",
    "step ahead of $g(\\mathbf{x}_t)$. This process effectively captures the dynamic progression of the system.\n",
    "\n",
    "The key property of the Koopman operator $\\mathcal{K}$ is its *linearity*. This linearity holds irrespective of whether the system’s dynamics are linear or nonlinear. Consequently, the spectral properties of $\\mathcal{K}$ become a powerful tool in analyzing the dynamical system’s behavior.\n",
    "\n",
    "if $g \\in \\mathcal{F}$ is an eigenfunction of $\\mathcal{K}$ with eigenvalue $\\lambda$, then:\n",
    "\n",
    "$$\n",
    "g(\\mathbf{x}_t) = [\\mathcal{K}^t g](\\mathbf{x}_0) = λ^t g(\\mathbf{x}_0), \\quad \\forall n \\in \\mathbb{N}.\n",
    "$$\n",
    "\n",
    "One of the most useful features of Koopman operators is the Koopman Mode Decomposition (KMD).\n",
    "The KMD expresses the state $\\mathbf{x}$ or an observable $g(\\mathbf{x})$ as a linear combination of dominant coherent structures.\n",
    "It can be considered a diagonalization of the Koopman operator.\n",
    "\n",
    "As a result, the KMD is invaluable for tasks such as dimensionality and model reduction. It generalizes the space-time separation of variables typically achieved through the Fourier transformor singular value decomposition (SVD)."
   ]
  },
  {
   "cell_type": "markdown",
   "id": "319c7c50-bb03-46ce-a268-2281cd9c1f0b",
   "metadata": {},
   "source": [
    "## Dynamic Mode Decomposition (DMD)\n",
    "\n",
    "Dynamic Mode Decomposition (DMD) is a popular data-driven analysis technique used to decompose complex, nonlinear systems into a set of coherent structures (also  called DMD modes), that grow, decay, and/or oscillate in time revealing underlying patterns and dynamics through spectral analysis. In other words, the DMD converts a dynamical system into a superposition of modes whose dynamics are governed by eigenvalues.\n",
    "\n",
    "The simplest and historically first interpretation of DMD is as a linear regression.\n",
    "\n",
    "We consider a discrete-time dynamical systems represented as:\n",
    "\n",
    "$$\n",
    "\\mathbf{x}_{t+1} = f(\\mathbf{x}_t), \\quad n = 0, 1, 2, \\dots, \n",
    "$$\n",
    "\n",
    "Given discrete-time snapshots of the system:\n",
    "\n",
    "$$\n",
    "\\{\\mathbf{x}^{(m)}, \\mathbf{y}^{(m)}\\}^M_{m=1}, \\quad \\text{s.t.} \\quad \\mathbf{y}^{(m)} = f(\\mathbf{x}^{(m)}), \\quad m = 1, \\dots , M.\n",
    "$$\n",
    "\n",
    "We define the snapshot matrices $\\mathbf{X}, \\mathbf{Y} \\in \\mathbb{C}^{d\\times M}$ as:\n",
    "\n",
    "$$\n",
    "\\mathbf{X} = \\begin{bmatrix}x^{(1)} & x^{(2)} & \\dots & x^{(M)} \\end{bmatrix}\n",
    "$$\n",
    "\n",
    "$$\n",
    "\\mathbf{Y} = \\begin{bmatrix}y^{(1)} & y^{(2)} & \\dots & y^{(M)} \\end{bmatrix}\n",
    "$$\n",
    "\n",
    "We seek a matrix $\\mathbf{K}_{\\text{DMD}}$ such that $\\mathbf{Y} \\approx \\mathbf{K}_{\\text{DMD}} \\mathbf{X}$. We can think\n",
    "of this as constructing a linear and approximate dynamical system.\n",
    "\n",
    "To find a suitable matrix KDMD, we consider the minimization problem:\n",
    "\n",
    "$$\n",
    "\\underset{\\mathbf{K}_{\\text{DMD}} \\in \\mathbb{C}^{d\\times d} }{\\min} \\left\\lVert \\mathbf{Y} − \\mathbf{K}_{\\text{DMD}} \\mathbf{X} \\right\\rVert_F ,\n",
    "$$ (dmd-minimization)\n",
    "\n",
    "where $\\left\\lVert . \\right\\rVert_F$ denotes the Frobenius norm[^*]. Similar optimization problems will be at the heart of the\n",
    "various DMD-type algorithms we consider in this review. A solution to the problem in {eq}`dmd-minimization` is:\n",
    "\n",
    "[^*]: The Frobenius norm of a matrix $\\mathbf{X} \\in \\mathbb{C}^{m\\times n}$ is defined as $\\left\\lVert \\mathbf{X} \\right\\rVert_F = \\sqrt{\\sum_{i=0}^{m} \\sum_{j=0}^{n} x_{i,j}}$\n",
    "\n",
    "$$\n",
    "\\mathbf{K}_{\\text{DMD}} = \\mathbf{Y} \\mathbf{X}^{+} ∈ \\mathbb{C}^{d\\times d},\n",
    "$$\n",
    "\n",
    "where $^{+}$ denotes the Moore–Penrose pseudoinverse.\n",
    "\n",
    "In practice, this is computed using the Singular Value Decomposition (SVD) as follows:\n",
    "\n",
    "$$\n",
    "\\begin{array}{ll}\n",
    "\\mathbf{X} \\approx U \\Sigma V^∗ & \\text{(truncated SVD of rank r)}\\\\\n",
    "\\tilde{\\mathbf{K}}_{\\text{DMD}} = U^∗\\mathbf{Y} V \\Sigma^{-1} & \\text{(Compute compression)}\\\\\n",
    "\\tilde{\\mathbf{K}}_{\\text{DMD}} W = W \\Lambda & \\text{(Compute eigendecomposition)}\\\\\n",
    "\\phi = YV\\Sigma^{-1}W & \\text{(Compute the modes)}\\\\\n",
    "\\end{array}\n",
    "$$ "
   ]
  },
  {
   "cell_type": "markdown",
   "id": "3b5d734b-8ae5-494d-922c-71d58083d7bf",
   "metadata": {},
   "source": [
    "The core goal of DMD is to apply linear algebra and spectral techniques to the analysis, prediction, and control of nonlinear dynamical systems.\n",
    "However, DMD often faces several challenges that have been a driving force for the many versions of the DMD algorithm that have appeared.\n",
    "\n",
    "Generally speaking, the error of DMD and its approximate KMD can be split into three types:\n",
    "- The projection error is due to projecting/truncating the Koopman operator onto a finite-dimensional space of observables. This is linked to the issue of    closure and lack of (or lack of knowledge of) non-trivial finite-dimensional Koopman invariant subspaces.\n",
    "- The estimation error is due to estimating the matrices that represent the projected Koopman operator from a finite set of potentially noisy trajectory data.\n",
    "- Numerical errors (e.g., roundoff, stability, further compression, etc.) incurred when processing the finite DMD matrix."
   ]
  },
  {
   "cell_type": "markdown",
   "id": "a349eefe-6ce2-4178-b76b-480e6f58936a",
   "metadata": {},
   "source": [
    "### Variants\n",
    "\n",
    ":::{table} Summary of some DMD methods. *Adapted from {cite}`colbrook_multiverse_2023`*.\n",
    ":widths: auto\n",
    ":align: center\n",
    "\n",
    "| DMD Method | Challenges Overcome | Key Insight/Development |\n",
    "|---|---|---|\n",
    "| Forward-Backward DMD      | Sensor noise bias. | Take geometric mean of forward and backward propagators for the data. |\n",
    "| Total Least-Squares DMD   | Sensor noise bias. | Replace least-squares problem with total least-squares problem. |\n",
    "| Optimized DMD<br>Bagging Optimized DMD | Sensor noise bias.<br>Optimal collective processing of snapshots.| Exponential fitting problem, solve using variable projection method.<br>Statistical bagging sampling strategy. |\n",
    "| Compressed Sensing        | Computational efficiency.<br>Temporal or spatial undersampling. | Unitary invariance of DMD extended to settings of compressed sensing (e.g., RIP, sparsity-promoting regularizers). |\n",
    "| Randomized DMD            | Computational efficiency.<br>Memory usage. | Sketch data matrix for computations in reduced-dimensional space. |\n",
    "| Multiresolution DMD       | Multiscale dynamics. | Filtered decomposition across scales. |\n",
    "| **DMD with Control**      | Separation of unforced dynamics and actuation. | Generalized regression for globally linear control framework. |\n",
    "| **Extended DMD**          | Nonlinear observables. | Arbitrary (nonlinear) dictionaries, recasting of DMD as a Galerkin method. |\n",
    "| Physics-Informed DMD      | Preserving structure of dynamical systems.<br>Numerous instances given in general framework. | Restrict the least-squares optimization to lie on a matrix manifold. | \n",
    ":::"
   ]
  },
  {
   "cell_type": "markdown",
   "id": "1e75e113-135f-4c73-bcb8-7083984f0e01",
   "metadata": {},
   "source": [
    "### DMD with Control (DMDc)\n",
    "\n",
    ":::{figure} _static/images/70_dmdc_overview.svg\n",
    ":width: 90%\n",
    "Overview of Dynamic Mode Decomposition with Control (DMDc). *Adapted from {cite}`proctor_dynamic_2016`*.\n",
    ":::\n",
    "\n",
    "One of the most successful applications of the Koopman operator framework lies in control with demonstrated successes in various challenging appli-\n",
    "cations. These include fluid dynamics, robotics, power grids, biology, and chemical processes.\n",
    "\n",
    "The key point is that Koopman operators represent nonlinear dynamics within a globally linear framework. This approach leads to tractable convex optimization problems and circumvents theoretical and computational limitations associated with nonlinearity. Moreover, it is amenable to data-driven, model-free approaches.\n",
    "\n",
    "DMDc extends DMD to disambiguate between unforced dynamics and the effect of actuation.\n",
    "\n",
    "The DMD regression is generalized to:\n",
    "\n",
    "$$\n",
    "\\mathbf{x}_{t+1} = f(\\mathbf{x}_t, \\mathbf{u}_t) \\approx A \\mathbf{x}_t + B \\mathbf{u}_t\n",
    "$$\n",
    "\n",
    "where $A \\in \\mathbb{C}^{d\\times d}$ and $B \\in \\mathbb{C}^{d\\times q} are unknown matrices.\n",
    "\n",
    "Snapshot triplets of the form $\\{\\mathbf{x}^{(m)}, \\mathbf{y}^{(m)}, \\mathbf{u}^{(m)}\\}^M_{m=1}$ are collected, where we assume that:\n",
    "\n",
    "$$\n",
    "\\mathbf{y}^{(m)} \\approx f(\\mathbf{x}^{(m)}, \\mathbf{u}^{(m)}), \\quad m = 1, \\dots , M.\n",
    "$$\n",
    "\n",
    "The control portion of the snapshots is arranged into the matrix $\\Upsilon = \\begin{pmatrix}u^{(1)} & u^{(2)} & \\dots & u^{(M)}\\end{pmatrix}$.\n",
    "\n",
    "The optimization problem in {eq}`dmd-minimization` is replaced by\n",
    "\n",
    "$$\n",
    "\\underset{A, B}{\\min} \\left\\lVert \\mathbf{Y} − \\begin{pmatrix}A & B \\end{pmatrix}\\Omega \\right\\rVert_F^2,\\\\\n",
    "\\text{where} \\quad \\Omega = \\begin{pmatrix}\\mathbf{X} \\\\ \\Upsilon\\end{pmatrix} \n",
    "$$ (dmdc-minimization)\n",
    "\n",
    "A solution is given as $\\begin{pmatrix}A & B \\end{pmatrix} = \\mathbf{Y} \\Omega^{+}$."
   ]
  },
  {
   "cell_type": "markdown",
   "id": "5341126d-f79f-40c6-9461-33e8d953b4d2",
   "metadata": {},
   "source": [
    "## Comparison"
   ]
  },
  {
   "cell_type": "markdown",
   "id": "d830cd3e-358d-4a89-9a29-3136dd5da37e",
   "metadata": {},
   "source": [
    ":::{figure} _static/images/70_comparison_identification_methods.svg\n",
    ":width: 80%\n",
    "\n",
    "Overview of various methods that use regression to identify dynamics from data. *Taken from {cite}`brunton_sparse_2016`*.\n",
    ":::"
   ]
  },
  {
   "cell_type": "markdown",
   "id": "3259df92-4aaa-4542-9768-961d9630c5b1",
   "metadata": {},
   "source": [
    "# Application to Systems"
   ]
  },
  {
   "cell_type": "markdown",
   "id": "e2ec06ac-e9e8-4918-9ea8-8107a16f7104",
   "metadata": {},
   "source": [
    "## Cart\n",
    "\n",
    "We will use the DMDc method to fit a model on the data collected from the Cart environment. For that we will make sure of the [pykoopman](https://pykoopman.readthedocs.io/en/master/index.html) package."
   ]
  },
  {
   "cell_type": "markdown",
   "id": "b0213428-60d2-467a-ae31-c22e6dd14094",
   "metadata": {},
   "source": [
    "### Data"
   ]
  },
  {
   "cell_type": "code",
   "execution_count": null,
   "id": "b8e8b5eb-62db-494c-95d1-1f1eda218655",
   "metadata": {},
   "outputs": [],
   "source": [
    "cart_env = create_cart_environment(max_steps=500, goal_position=29, max_position=30)\n",
    "\n",
    "cart_observations = {}\n",
    "cart_actions = {}\n",
    "\n",
    "controllers = {\n",
    "    f\"Step @ {cart_env.max_action / 2}\": ConstantController(\n",
    "        np.asarray([cart_env.max_action / 2])\n",
    "    ),\n",
    "    \"Sinusoid @ 10Hz\": SineController(\n",
    "        cart_env, np.asarray([cart_env.max_action]), frequency=100\n",
    "    ),\n",
    "    \"Sinusoid @ 0.5Hz\": SineController(\n",
    "        cart_env, np.asarray([cart_env.max_action]), frequency=0.5\n",
    "    ),\n",
    "    \"Schroeder Sweep\": SchroederSweepController(\n",
    "        cart_env,\n",
    "        np.asarray([cart_env.max_action]),\n",
    "        n_time_steps=500,\n",
    "        n_harmonics=5,\n",
    "        frequency=2,\n",
    "    ),\n",
    "    \"PRBS\": PRBSController(np.asarray([cart_env.max_action])),\n",
    "    \"Random\": RandomController(cart_env),\n",
    "}\n",
    "\n",
    "for controller_name, controller in controllers.items():\n",
    "    result = simulate_environment(cart_env, controller=controller)\n",
    "    cart_observations[controller_name] = result.observations\n",
    "    cart_actions[controller_name] = result.actions"
   ]
  },
  {
   "cell_type": "code",
   "execution_count": null,
   "id": "78e0f204-0e80-4a8e-854e-1926ad6c3843",
   "metadata": {},
   "outputs": [],
   "source": [
    "# We use the data from PRBS\n",
    "X = cart_observations[\"PRBS\"][:-1].copy()\n",
    "U = cart_actions[\"PRBS\"].copy()\n",
    "t = np.arange(0, len(X)) * cart_env.dt\n",
    "# Train with first half of the data\n",
    "train_size = len(X) // 2\n",
    "X_train = X[:train_size]\n",
    "U_train = U[:train_size]\n",
    "t_train = t[:train_size]\n",
    "# Test with rest of data\n",
    "X_test = X[train_size:]\n",
    "U_test = U[train_size:]\n",
    "t_test = t[train_size:]"
   ]
  },
  {
   "cell_type": "markdown",
   "id": "d3bb4af8-22b2-4857-98c4-81d9d978d2d8",
   "metadata": {},
   "source": [
    "### SINDYc\n",
    "\n",
    "For the SINDYc method we use the [pysindy](https://github.com/dynamicslab/pysindy) package.\n",
    "\n",
    "Refer to its [introduction](https://pysindy.readthedocs.io/en/latest/examples/2_introduction_to_sindy/example.html) page for usage information."
   ]
  },
  {
   "cell_type": "code",
   "execution_count": null,
   "id": "af3d0377-fadd-4844-8217-a4da41d72d51",
   "metadata": {},
   "outputs": [],
   "source": [
    "opt = ps.STLSQ(threshold=0.1, max_iter=100)\n",
    "feature_library = ps.IdentityLibrary()\n",
    "differentiation_method = ps.FiniteDifference(order=1)\n",
    "model = ps.SINDy(\n",
    "    optimizer=opt,\n",
    "    feature_library=feature_library,\n",
    "    differentiation_method=differentiation_method,\n",
    ")\n",
    "model.fit(X_train, u=U_train, t=t_train)"
   ]
  },
  {
   "cell_type": "code",
   "execution_count": null,
   "id": "3f4878e9-df19-4541-93cc-e205d6fdc173",
   "metadata": {},
   "outputs": [],
   "source": [
    "model.print()"
   ]
  },
  {
   "cell_type": "code",
   "execution_count": null,
   "id": "2f6a25d4-694a-4d3a-bf8a-10c3929692aa",
   "metadata": {},
   "outputs": [],
   "source": [
    "print(\"Model score: %f\" % model.score(X_test, u=U_test, t=cart_env.dt))"
   ]
  },
  {
   "cell_type": "code",
   "execution_count": null,
   "id": "616e27df-8e26-4a16-b96b-211f8ed4646e",
   "metadata": {},
   "outputs": [],
   "source": [
    "X_test_sim = model.simulate(X_test[0], t_test, u=U_test)"
   ]
  },
  {
   "cell_type": "code",
   "execution_count": null,
   "id": "05a43345-f83d-4a4c-9f96-1b202abab5a3",
   "metadata": {},
   "outputs": [],
   "source": [
    "fig, axs = plt.subplots(1, X_test.shape[1], sharex=True)\n",
    "for i in range(X_test.shape[1]):\n",
    "    axs[i].plot(t_test, X_test[:, i], \"k\", label=\"Measured\")\n",
    "    axs[i].plot(t_test[1:], X_test_sim[:, i], \"r--\", label=\"Model\")\n",
    "    axs[i].legend()\n",
    "    axs[i].set(xlabel=\"t\", ylabel=\"$x_{}$\".format(i + 1))\n",
    "\n",
    "fig = plt.figure()\n",
    "ax1 = fig.add_subplot(1, 2, 1)\n",
    "ax1.plot(X_test[:, 0], X_test[:, 1], \"k\")\n",
    "ax1.set(xlabel=\"$x_1$\", ylabel=\"$x_2$\", title=\"true simulation\")\n",
    "\n",
    "ax2 = fig.add_subplot(1, 2, 2)\n",
    "ax2.plot(X_test_sim[:, 0], X_test_sim[:, 1], \"r--\")\n",
    "ax2.set(xlabel=\"$x_1$\", ylabel=\"$x_2$\", title=\"model simulation\")\n",
    "\n",
    "plt.tight_layout()\n",
    "fig.show();"
   ]
  },
  {
   "cell_type": "markdown",
   "id": "82c5089b-49e7-49e6-8824-2fc1c71bd08b",
   "metadata": {},
   "source": [
    "### DMDc\n",
    "\n",
    "For the SINDYc method we use the [pykoopman](https://github.com/dynamicslab/pykoopman/) package.\n",
    "\n",
    "Refer to its [documentation](https://pykoopman.readthedocs.io/en/master/) page for usage information."
   ]
  },
  {
   "cell_type": "code",
   "execution_count": null,
   "id": "4f0884d8-de8d-4129-a91a-ddc0342d6a52",
   "metadata": {},
   "outputs": [],
   "source": [
    "DMDc = pk.regression.DMDc(svd_output_rank=4, svd_rank=6)\n",
    "model = pk.Koopman(regressor=DMDc)\n",
    "model.fit(X_train, u=U_train, dt=cart_env.dt)"
   ]
  },
  {
   "cell_type": "markdown",
   "id": "ef41acbf-7e9e-45b5-b366-0e041c51219d",
   "metadata": {},
   "source": [
    "Once we fit the model we can access the linear state-space models matrices:"
   ]
  },
  {
   "cell_type": "code",
   "execution_count": null,
   "id": "c77d8a23-4f5a-4154-bbf9-446c274d893f",
   "metadata": {},
   "outputs": [],
   "source": [
    "display_array(\"A\", model.A)\n",
    "display_array(\"B\", model.B)\n",
    "display_array(\"C\", model.C)\n",
    "display_array(\"W\", model.W)"
   ]
  },
  {
   "cell_type": "markdown",
   "id": "b488a1c9-cc85-44cc-a3fc-8d61aaef119a",
   "metadata": {},
   "source": [
    "After that we can use the model to simulate the system using the remaining data"
   ]
  },
  {
   "cell_type": "code",
   "execution_count": null,
   "id": "ae184358-9169-4d5e-ae56-b96f162a884f",
   "metadata": {},
   "outputs": [],
   "source": [
    "Xkoop = model.simulate(X_test[0], U_test, n_steps=X_test.shape[0] - 1)\n",
    "Xkoop = np.vstack([X_test[0][np.newaxis, :], Xkoop])"
   ]
  },
  {
   "cell_type": "code",
   "execution_count": null,
   "id": "b1342ac6-85b1-4d15-a95b-26a3ec0541d6",
   "metadata": {},
   "outputs": [],
   "source": [
    "fig, axs = plt.subplots(1, X_test.shape[1], sharex=True)\n",
    "for i in range(X_test.shape[1]):\n",
    "    axs[i].plot(t_test, X_test[:, i], \"k\", label=\"Measured\")\n",
    "    axs[i].plot(t_test, Xkoop[:, i], \"r--\", label=\"Model\")\n",
    "    axs[i].legend()\n",
    "    axs[i].set(xlabel=\"t\", ylabel=\"$x_{}$\".format(i + 1))\n",
    "\n",
    "fig = plt.figure()\n",
    "ax1 = fig.add_subplot(1, 2, 1)\n",
    "ax1.plot(X_test[:, 0], X_test[:, 1], \"k\")\n",
    "ax1.set(xlabel=\"$x_1$\", ylabel=\"$x_2$\", title=\"true simulation\")\n",
    "\n",
    "ax2 = fig.add_subplot(1, 2, 2)\n",
    "ax2.plot(Xkoop[:, 0], Xkoop[:, 1], \"r--\")\n",
    "ax2.set(xlabel=\"$x_1$\", ylabel=\"$x_2$\", title=\"model simulation\")\n",
    "\n",
    "plt.tight_layout()\n",
    "fig.show();"
   ]
  },
  {
   "cell_type": "markdown",
   "id": "b827634c-9cf7-47e9-bc54-393190770c2d",
   "metadata": {},
   "source": [
    "#### Eigenvalues"
   ]
  },
  {
   "cell_type": "code",
   "execution_count": null,
   "id": "7739dae2-6e86-4d1c-8119-85463c2e2823",
   "metadata": {},
   "outputs": [],
   "source": [
    "eigval, eigvec = np.linalg.eig(model.A)\n",
    "display_array(\"Eigenvalues\", eigval)\n",
    "fig, ax = plt.subplots()\n",
    "ax.plot(np.real(eigval), np.imag(eigval), \"o\", color=\"lightgrey\", label=\"DMDc\")\n",
    "ax.set(title=\"Eigenvalues\")\n",
    "ax.legend();"
   ]
  },
  {
   "cell_type": "markdown",
   "id": "5d0f5a15-4544-4001-8a59-d280bc21f929",
   "metadata": {},
   "source": [
    ":::{exercise} Inverted Pendulum\n",
    ":label: inverted-pendulum-data-model\n",
    "\n",
    "Use the SINDYc or DMDc method to fit a model on the data collected from the inverted pendulum environment.\n",
    ":::"
   ]
  },
  {
   "cell_type": "markdown",
   "id": "391a6e1f-86c5-4511-b026-011f2385279e",
   "metadata": {},
   "source": [
    ":::{solution} inverted-pendulum-data-model\n",
    ":::"
   ]
  },
  {
   "cell_type": "code",
   "execution_count": null,
   "id": "06b83c62-8f91-4006-bfc7-9ec691e4e995",
   "metadata": {},
   "outputs": [],
   "source": [
    "# Your solution here"
   ]
  },
  {
   "cell_type": "markdown",
   "id": "3830d079-29d8-45ea-ad1b-c40d288ec7a7",
   "metadata": {},
   "source": [
    ":::{solution} inverted-pendulum-data-model\n",
    ":class: dropdown\n",
    "**Work in Progress**\n",
    "\n",
    "```{code-cell}\n",
    "EDMDc = pk.regression.EDMDc()\n",
    "centers = np.random.uniform(-1.5, 1.5, (4, 4))\n",
    "RBF = pk.observables.RadialBasisFunction(\n",
    "    rbf_type=\"thinplate\",\n",
    "    n_centers=centers.shape[1],\n",
    "    centers=centers,\n",
    "    kernel_width=1,\n",
    "    polyharmonic_coeff=1.0,\n",
    "    include_state=True,\n",
    ")\n",
    "\n",
    "model = pk.Koopman(observables=RBF, regressor=EDMDc)\n",
    "model.fit(X, u=U, dt=env.dt)\n",
    "```\n",
    ":::"
   ]
  }
 ],
 "metadata": {
  "kernelspec": {
   "display_name": "Python 3 (ipykernel)",
   "language": "python",
   "name": "python3"
  },
  "language_info": {
   "codemirror_mode": {
    "name": "ipython",
    "version": 3
   },
   "file_extension": ".py",
   "mimetype": "text/x-python",
   "name": "python",
   "nbconvert_exporter": "python",
   "pygments_lexer": "ipython3",
   "version": "3.10.12"
  },
  "scenes_data": {
   "active_scene": "Default Scene",
   "init_scene": "Default Scene",
   "scenes": [
    "Default Scene"
   ]
  }
 },
 "nbformat": 4,
 "nbformat_minor": 5
}
