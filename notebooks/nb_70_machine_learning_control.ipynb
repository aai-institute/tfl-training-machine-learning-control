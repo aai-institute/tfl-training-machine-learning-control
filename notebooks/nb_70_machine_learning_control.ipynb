{
 "cells": [
  {
   "cell_type": "code",
   "execution_count": null,
   "id": "8497a4b2-a020-4fba-8539-bc1361a34023",
   "metadata": {
    "editable": true,
    "init_cell": true,
    "scene__Default Scene": true,
    "slideshow": {
     "slide_type": "skip"
    },
    "tags": [
     "remove-cell",
     "ActiveScene"
    ]
   },
   "outputs": [],
   "source": [
    "%%capture\n",
    "%load_ext autoreload\n",
    "%autoreload 2\n",
    "%matplotlib inline\n",
    "%load_ext training_ml_control\n",
    "%set_random_seed 12"
   ]
  },
  {
   "cell_type": "code",
   "execution_count": null,
   "id": "f7339d3d-eae4-4e05-a7fb-050df96782e7",
   "metadata": {
    "init_cell": true,
    "scene__Default Scene": true,
    "slideshow": {
     "slide_type": "skip"
    },
    "tags": [
     "remove-cell",
     "ActiveScene"
    ]
   },
   "outputs": [],
   "source": [
    "%presentation_style"
   ]
  },
  {
   "cell_type": "code",
   "execution_count": null,
   "id": "cd78d373-34af-4b57-8d16-dbf6f662331d",
   "metadata": {
    "init_cell": true,
    "slideshow": {
     "slide_type": "skip"
    },
    "tags": [
     "remove-cell"
    ]
   },
   "outputs": [],
   "source": [
    "%autoreload\n",
    "import warnings\n",
    "\n",
    "import matplotlib.pyplot as plt\n",
    "import numpy as np\n",
    "import seaborn as sns\n",
    "\n",
    "import pykoopman as pk\n",
    "\n",
    "from training_ml_control.environment import (\n",
    "    create_inverted_pendulum_environment,\n",
    "    simulate_environment,\n",
    ")\n",
    "from training_ml_control.nb_utils import show_video\n",
    "\n",
    "warnings.simplefilter(\"ignore\", UserWarning)\n",
    "sns.set_theme()\n",
    "plt.rcParams[\"figure.figsize\"] = [12, 8]"
   ]
  },
  {
   "cell_type": "markdown",
   "id": "67ad3b3e-67cf-4b3d-875d-96496d23d193",
   "metadata": {
    "editable": true,
    "slideshow": {
     "slide_type": "slide"
    },
    "tags": [
     "remove-cell"
    ]
   },
   "source": [
    ":::{figure} ./_static/images/aai-institute-cover.png\n",
    ":width: 90%\n",
    ":align: center\n",
    "---\n",
    "name: aai-institute\n",
    "---\n",
    ":::"
   ]
  },
  {
   "cell_type": "markdown",
   "id": "77372629-782f-44b6-ad24-baedbca2fbc2",
   "metadata": {},
   "source": [
    "# Machine Learning & Control"
   ]
  },
  {
   "cell_type": "markdown",
   "id": "fc624f94-572b-4e24-8302-43938783a939",
   "metadata": {
    "slideshow": {
     "slide_type": "slide"
    }
   },
   "source": [
    "## Learning-Based MPC"
   ]
  },
  {
   "cell_type": "markdown",
   "id": "42c969c8-89b7-465a-b79b-252799146d79",
   "metadata": {
    "slideshow": {
     "slide_type": "subslide"
    }
   },
   "source": [
    "- Learning-based MPC addresses the automated and data-driven generation or adaptation of elements of the MPC formulation to improve control performance.\n",
    "- The learning setup can be diverse:\n",
    "  - Offline learning involves adapting the controller between trials or episodes while collecting data.\n",
    "  - Online learning adjusts the controller during closed-loop operation (e.g. repetitive tasks) or using data from one task execution.\n",
    "- Much research has focused on automatically improving model quality, as this clearly affects MPC performance.\n",
    "- Some efforts address the MPC problem formulation directly.\n",
    "- Others use MPC concepts to satisfy constraints during learning-based control i.e. Safe Learning Control."
   ]
  },
  {
   "cell_type": "markdown",
   "id": "db35c51f-bfc5-469d-93c0-1233c43b162a",
   "metadata": {
    "slideshow": {
     "slide_type": "subslide"
    }
   },
   "source": [
    "## System Identification\n",
    "\n",
    "- MPC relies on accurate system models, so one approach is learning to adjust the model either during operation or between different operational instances.\n",
    "- Traditionally models are derived offline before control using first principles and identification.\n",
    "- Learning-based MPC constructs and updates models and uncertainties from data."
   ]
  },
  {
   "cell_type": "markdown",
   "id": "8c92006c-96fc-4941-acfe-ed23fd0a4457",
   "metadata": {},
   "source": [
    "```{exercise} Dynamic System Model Evaluation\n",
    ":label: model-evaluation\n",
    "\n",
    "How do we evaluation the fitted model of the system?\n",
    "```"
   ]
  },
  {
   "cell_type": "markdown",
   "id": "72d55a08-2862-495b-91a9-ef008bfbf035",
   "metadata": {},
   "source": [
    ":::{solution} model-evaluation\n",
    ":class: dropdown\n",
    "\n",
    "- We could evaluate the model's prediction on a held-out validation set.\n",
    "- Additionally we could evaluate the model's long-term predictions in an open-loop manner.\n",
    "- On top of that, we could evaluate the model's step and impulse responses from different initial states. This is especially useful for linear systems.\n",
    ":::"
   ]
  },
  {
   "cell_type": "markdown",
   "id": "baacc0d7-fc70-465b-ad6e-9ad350191237",
   "metadata": {},
   "source": [
    "## Data Collection\n",
    "\n",
    "Before learning a model of the system, we need to collect either during the system's operation i.e. online data collection, or inbetween episodes of the system's operation i.e. offline data collection. The collected has to be comprehensive and be representative of the all behaviours of the system that we desire to capture.\n",
    "\n",
    "To do that properly for a controlled system, we need either a human expert or a well-tuned program under supervision for data collection. However, in many safety-critical tasks such as space exploration, there is no expert collecting data. Naturally, here comes a question: Can we safely collect data without humans in the loop, and eventually achieve an aggressive control goal? For example, landing the drone faster and faster."
   ]
  },
  {
   "cell_type": "markdown",
   "id": "9cce48e1-ffc6-4c1a-b175-2ce58e7e29e6",
   "metadata": {},
   "source": [
    "### Inverted Pendulum"
   ]
  },
  {
   "cell_type": "code",
   "execution_count": null,
   "id": "e929ae22-99b3-4a48-b9fc-e2e790d0e456",
   "metadata": {},
   "outputs": [],
   "source": [
    "env = create_inverted_pendulum_environment(\n",
    "    max_steps=100, theta_threshold=np.deg2rad(45)\n",
    ")"
   ]
  },
  {
   "cell_type": "code",
   "execution_count": null,
   "id": "e40f135a-0e0a-4fe5-8827-2b66ab6408b5",
   "metadata": {},
   "outputs": [],
   "source": [
    "observations = []\n",
    "actions = []\n",
    "for _ in range(20):\n",
    "    result = simulate_environment(env)\n",
    "    observations.append(result.observations)\n",
    "    actions.append(result.actions)"
   ]
  },
  {
   "cell_type": "code",
   "execution_count": null,
   "id": "a3f0befe-8e1d-46a1-8ee1-d30b47d250d3",
   "metadata": {},
   "outputs": [],
   "source": [
    "fig, axes = plt.subplots(2, 2, sharex=True)\n",
    "axes = axes.ravel()\n",
    "for i, label in zip(range(4), [\"$x$\", r\"$\\dot{x}$\", r\"$\\theta$\", r\"$\\dot{\\theta}$\"]):\n",
    "    t = np.arange(len(observations[j][0]))\n",
    "    for j in range(len(observations)):\n",
    "        axes[i].plot(t, observations[j][i], label=label)\n",
    "        axes[i].set_xlabel(\"Time\")\n",
    "        axes[i].set_title(label)\n",
    "fig.tight_layout()\n",
    "plt.show();"
   ]
  },
  {
   "cell_type": "code",
   "execution_count": null,
   "id": "d2be7361-5371-4d83-901c-634d98b9b3ac",
   "metadata": {},
   "outputs": [],
   "source": [
    "fig, ax = plt.subplots()\n",
    "for j in range(len(actions)):\n",
    "    t = np.arange(len(actions[j]))\n",
    "    ax.plot(t, actions[j])\n",
    "    ax.set_xlabel(\"Time\")\n",
    "    ax.set_title(\"$u$\")\n",
    "fig.tight_layout()\n",
    "plt.show();"
   ]
  },
  {
   "cell_type": "markdown",
   "id": "aefea19a-595f-428a-9358-1ae48cb91c4d",
   "metadata": {},
   "source": [
    "## Naive Deep Learning"
   ]
  },
  {
   "cell_type": "markdown",
   "id": "0d3bea5a-9bf2-4fa9-a049-54695170420e",
   "metadata": {},
   "source": [
    "$$\n",
    "\\mathbf{x}_{t+1} = f_\\theta(\\mathbf{x}_t, \\mathbf{u}_t)\n",
    "$$\n",
    "\n",
    "Where $\\theta$ are learnable parameters."
   ]
  },
  {
   "cell_type": "code",
   "execution_count": null,
   "id": "895992af-8060-4bde-a766-269b81e84b67",
   "metadata": {},
   "outputs": [],
   "source": []
  },
  {
   "cell_type": "markdown",
   "id": "5e889c64-ce65-40c7-9752-4291f03128c2",
   "metadata": {},
   "source": [
    "Issues with such an approach:\n",
    "\n",
    "- Domain shift from the training distribution to the real-world distribution.\n",
    "- Black-box."
   ]
  },
  {
   "cell_type": "markdown",
   "id": "f80e3b56-a968-46c9-810d-fca68eea3cce",
   "metadata": {},
   "source": [
    "## Deep Learning with Nominal Model\n",
    "\n",
    "A real-world dynamical system can be described as:\n",
    "\n",
    "$$\n",
    "\\mathbf{x}_{t+1} = \\underbrace{f_n(\\mathbf{x}_t, \\mathbf{u}_t)}_{\\text{nominal dynamics}} + \\underbrace{g_r(\\mathbf{x}_t, \\mathbf{u}_t)}_{\\text{residual dynamics}} + \\underbrace{w_t}_{\\text{disturbance}}\n",
    "$$\n",
    "\n",
    "Where $f_n$ is the nominalsystem model, $g_r$ an additive residual term accommodating uncertainty and $w_t$ represents distburnances.\n",
    "\n",
    "Many learning-based techniques make use of this explicit distinction by only learning the residual term."
   ]
  },
  {
   "cell_type": "markdown",
   "id": "d9ebc522-076b-4117-849a-0abe2aba9681",
   "metadata": {},
   "source": [
    "An example of the use of this approach can be found in {cite}`shi_neural_2019`.\n",
    "\n",
    "{ref}`neural-lander-diagram` is a figure depicting the ground effect that is modelled using a neural network and\n",
    "{ref}`neural-lander-gif` is a comparison of drone landings with and without neural network modeling."
   ]
  },
  {
   "cell_type": "markdown",
   "id": "90da7b1e-99f8-46d9-a956-7831443560a7",
   "metadata": {},
   "source": [
    ":::{figure} _static/images/60_neural_lander_diagram.png\n",
    ":width: 60%\n",
    ":label: neural-lander-diagram\n",
    "Visual depiction of the ground effect, the complex aerodynamic effect between the drone and the ground, which is nonlinear, nonstationary, and very hard to model using standard system identification approaches. *Adapted from [Neural Control blog post](https://www.gshi.me/blog/NeuralControl/)*. \n",
    ":::"
   ]
  },
  {
   "cell_type": "markdown",
   "id": "6a1658c2-e421-4909-9f3d-a8554185d07c",
   "metadata": {},
   "source": [
    ":::{figure} _static/images/60_neural_lander.gif\n",
    ":width: 60%\n",
    ":label: neural-lander-gif\n",
    "Comparison of drone landing with and without neural network modelling of residual ground effect. *Taken from [Neural Control blog post](https://www.gshi.me/blog/NeuralControl/)*. \n",
    ":::"
   ]
  },
  {
   "cell_type": "markdown",
   "id": "f565b19d-58dd-415e-b73b-e5c4848bc2de",
   "metadata": {},
   "source": [
    "Issues with such an approach:\n",
    "\n",
    "- Requires nominal model.\n",
    "- Still susceptible to domain shift issues."
   ]
  },
  {
   "cell_type": "markdown",
   "id": "8bad92c6-e587-41a9-9370-11f3f0cc7329",
   "metadata": {},
   "source": [
    "## Koopman Operator\n",
    "\n",
    "Given $\\mathcal{F}$ a space of functions $g: \\Omega \\rightarrow \\mathbb{C}$, and $\\Omega$ the state space of our dynamical system. The Koopman operator is defined on  a suitable domain $\\mathcal{D}(\\mathcal{K}) \\subset \\mathcal{F}$ via the composition formula:\n",
    "\n",
    "$$\n",
    "[\\mathcal{K}g](x) = [g \\circ f](x) = g(f(x)), \\quad g \\in \\mathcal{D}(\\mathcal{K})\n",
    "$$\n",
    "\n",
    "Where $x_{t+1} = f(x_t)$\n",
    "\n",
    "The functions $g$, referred to as *observables*, serve as tools for indirectly measuring the state of the system.\n",
    "Specifically, $g(x_t)$ indirectly measures the state $x_t$.\n",
    "\n",
    "In this context, $[\\mathcal{K}g](x_t) = g(f(x_t)) = g(x_{t+1})$ represents the measurement of the state one time\n",
    "step ahead of $g(x_t)$. This process effectively captures the dynamic progression of the system.\n",
    "\n",
    "The key property of the Koopman operator $\\mathcal{K}$ is its *linearity*. This linearity holds irrespective of whether the system’s dynamics are linear or nonlinear.\n",
    "Consequently, the spectral properties of K become a powerful tool in analyzing the dynamical system’s behavior."
   ]
  },
  {
   "cell_type": "markdown",
   "id": "28d669d0-4b95-47fa-af56-5fe0317f492f",
   "metadata": {},
   "source": [
    ":::{figure} _static/images/60_koopman_operators_summary.svg\n",
    ":width: 70%\n",
    ":align: center\n",
    "---\n",
    "name: Koopman Operators Summary\n",
    "---\n",
    "Summary of the idea of Koopman operators. By lifting to a space of observables, we\n",
    "trade a nonlinear finite-dimensional system for a linear infinite-dimensional system {cite}`colbrook_multiverse_2023`.\n",
    ":::"
   ]
  },
  {
   "cell_type": "markdown",
   "id": "319c7c50-bb03-46ce-a268-2281cd9c1f0b",
   "metadata": {},
   "source": [
    "### Dynamic Mode Decomposition (DMD)\n",
    "\n",
    "Dynamic Mode Decomposition (DMD) is a popular data-driven analysis technique used to decompose complex, nonlinear systems into a set of modes, revealing underlying patterns and dynamics through spectral analysis."
   ]
  },
  {
   "cell_type": "markdown",
   "id": "1e75e113-135f-4c73-bcb8-7083984f0e01",
   "metadata": {},
   "source": [
    "### DMD with Control (DMDc)"
   ]
  },
  {
   "cell_type": "code",
   "execution_count": null,
   "id": "0233a5d7-45a2-4a27-a48f-cce3894c2fec",
   "metadata": {},
   "outputs": [],
   "source": [
    "X = np.concatenate([obs[:-1] for obs in observations])\n",
    "U = np.concatenate(actions)"
   ]
  },
  {
   "cell_type": "code",
   "execution_count": null,
   "id": "c6774097-e963-4402-aa06-4e2b3594c179",
   "metadata": {},
   "outputs": [],
   "source": [
    "EDMDc = pk.regression.EDMDc()\n",
    "centers = np.random.uniform(-1.5, 1.5, (4, 4))\n",
    "RBF = pk.observables.RadialBasisFunction(\n",
    "    rbf_type=\"thinplate\",\n",
    "    n_centers=centers.shape[1],\n",
    "    centers=centers,\n",
    "    kernel_width=1,\n",
    "    polyharmonic_coeff=1.0,\n",
    "    include_state=True,\n",
    ")\n",
    "\n",
    "model = pk.Koopman(observables=RBF, regressor=EDMDc)\n",
    "model.fit(X, u=U, dt=env.dt)"
   ]
  },
  {
   "cell_type": "code",
   "execution_count": null,
   "id": "1eebdf2c-17a5-4dab-85bf-0a1ad83ddefd",
   "metadata": {},
   "outputs": [],
   "source": [
    "fig, axes = plt.subplots(2, 2, figsize=(10, 10))\n",
    "axes = axes.ravel()\n",
    "\n",
    "axes[0].imshow(model.A, aspect=\"auto\", cmap=plt.get_cmap(\"magma\"))\n",
    "axes[0].set(title=\"A\")\n",
    "\n",
    "axes[1].imshow(model.B, aspect=\"1\", cmap=plt.get_cmap(\"magma\"))\n",
    "axes[1].set(title=\"B\")\n",
    "\n",
    "axes[2].imshow(model.C, aspect=\"auto\", cmap=plt.get_cmap(\"magma\"))\n",
    "axes[2].set(title=\"C\")\n",
    "\n",
    "axes[3].imshow(np.real(model.W), aspect=\"auto\", cmap=plt.get_cmap(\"magma\"))\n",
    "axes[3].set(title=r\"$\\mathcal{Re}(W)$\")\n",
    "fig.tight_layout()"
   ]
  },
  {
   "cell_type": "code",
   "execution_count": null,
   "id": "ae184358-9169-4d5e-ae56-b96f162a884f",
   "metadata": {},
   "outputs": [],
   "source": [
    "Xkoop = model.simulate(X[0], U, n_steps=X.shape[0] - 1)\n",
    "Xkoop = np.vstack([X[0][np.newaxis, :], Xkoop])"
   ]
  },
  {
   "cell_type": "code",
   "execution_count": null,
   "id": "c49ef6c6-783c-4be3-8790-e52ca7bac051",
   "metadata": {},
   "outputs": [],
   "source": [
    "t = np.arange(0, len(U))\n",
    "fig, axs = plt.subplots(3, 1, sharex=True, tight_layout=True, figsize=(9, 6))\n",
    "axs[0].plot(t, U, \"-k\")\n",
    "axs[0].set(ylabel=r\"$u$\")\n",
    "axs[1].plot(t, X[:, 0], \"-\", color=\"b\", label=\"True\")\n",
    "axs[1].plot(t, Xkoop[:, 0], \"--r\", label=\"EDMDc\")\n",
    "axs[1].set(ylabel=r\"$x_1$\")\n",
    "axs[2].plot(t, X[:, 1], \"-\", color=\"b\", label=\"True\")\n",
    "axs[2].plot(t, Xkoop[:, 1], \"--r\", label=\"EDMDc\")\n",
    "axs[2].set(ylabel=r\"$x_2$\", xlabel=r\"$t$\")\n",
    "axs[1].legend(loc=\"best\")\n",
    "axs[1].set_ylim([-2.5, 2.5])\n",
    "axs[2].set_ylim([-2.5, 2.5]);"
   ]
  },
  {
   "cell_type": "markdown",
   "id": "b827634c-9cf7-47e9-bc54-393190770c2d",
   "metadata": {},
   "source": [
    "## Eigenvalues"
   ]
  },
  {
   "cell_type": "code",
   "execution_count": null,
   "id": "7739dae2-6e86-4d1c-8119-85463c2e2823",
   "metadata": {},
   "outputs": [],
   "source": [
    "eigval, eigvec = np.linalg.eig(model.A)\n",
    "fig, ax = plt.subplots()\n",
    "ax.plot(np.real(eigval), np.imag(eigval), \"o\", color=\"lightgrey\", label=\"DMDc\")\n",
    "ax.set(title=\"Eigenvalues\")\n",
    "ax.legend()"
   ]
  },
  {
   "cell_type": "code",
   "execution_count": null,
   "id": "91412b8d-4973-4584-bf58-ea43bbd98efe",
   "metadata": {},
   "outputs": [],
   "source": []
  }
 ],
 "metadata": {
  "kernelspec": {
   "display_name": "Python 3 (ipykernel)",
   "language": "python",
   "name": "python3"
  },
  "language_info": {
   "codemirror_mode": {
    "name": "ipython",
    "version": 3
   },
   "file_extension": ".py",
   "mimetype": "text/x-python",
   "name": "python",
   "nbconvert_exporter": "python",
   "pygments_lexer": "ipython3",
   "version": "3.10.12"
  },
  "scenes_data": {
   "active_scene": "Default Scene",
   "init_scene": "",
   "scenes": [
    "Default Scene"
   ]
  }
 },
 "nbformat": 4,
 "nbformat_minor": 5
}
