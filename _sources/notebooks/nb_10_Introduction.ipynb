{
 "cells": [
  {
   "cell_type": "code",
   "execution_count": null,
   "metadata": {
    "editable": true,
    "init_cell": true,
    "slideshow": {
     "slide_type": "skip"
    },
    "tags": [
     "remove-cell"
    ]
   },
   "outputs": [],
   "source": [
    "%%capture\n",
    "%load_ext autoreload\n",
    "%autoreload 2\n",
    "%matplotlib inline\n",
    "%load_ext training_classical_control\n",
    "%set_random_seed 12"
   ]
  },
  {
   "cell_type": "code",
   "execution_count": null,
   "metadata": {
    "init_cell": true,
    "slideshow": {
     "slide_type": "skip"
    },
    "tags": [
     "remove-cell"
    ]
   },
   "outputs": [],
   "source": [
    "%presentation_style"
   ]
  },
  {
   "cell_type": "code",
   "execution_count": null,
   "metadata": {
    "init_cell": true,
    "slideshow": {
     "slide_type": "skip"
    },
    "tags": [
     "remove-cell"
    ]
   },
   "outputs": [],
   "source": [
    "%load_latex_macros"
   ]
  },
  {
   "cell_type": "code",
   "execution_count": null,
   "metadata": {
    "init_cell": true,
    "slideshow": {
     "slide_type": "skip"
    },
    "tags": [
     "remove-cell"
    ]
   },
   "outputs": [],
   "source": [
    "%autoreload\n",
    "import os\n",
    "import warnings\n",
    "from dataclasses import dataclass\n",
    "from typing import Callable, Protocol\n",
    "\n",
    "import control as ct\n",
    "import gymnasium as gym\n",
    "import matplotlib.pyplot as plt\n",
    "import numpy as np\n",
    "import seaborn as sns\n",
    "import sympy as sym\n",
    "from gymnasium import Env\n",
    "from IPython.display import display, Markdown\n",
    "from ipywidgets import interact, widgets\n",
    "from numpy.typing import NDArray\n",
    "from scipy.signal import find_peaks\n",
    "\n",
    "from training_classical_control.environment import (\n",
    "    create_inverted_pendulum_environment,\n",
    "    simulate_environment,\n",
    ")\n",
    "from training_classical_control.plots import (\n",
    "    plot_influence_of_K_on_pendulum,\n",
    "    plot_small_angle_approximation,\n",
    "    plot_second_order_step_response,\n",
    "    plot_estimator_response,\n",
    "    plot_inverted_pendulum_results,\n",
    ")\n",
    "from training_classical_control.control import (\n",
    "    ProportionalController,\n",
    ")\n",
    "from training_classical_control.nb_utils import show_video\n",
    "\n",
    "warnings.simplefilter(\"ignore\", UserWarning)\n",
    "sns.set_theme()\n",
    "plt.rcParams[\"figure.figsize\"] = [12, 8]"
   ]
  },
  {
   "cell_type": "markdown",
   "metadata": {
    "editable": true,
    "slideshow": {
     "slide_type": "slide"
    },
    "tags": [
     "remove-cell"
    ]
   },
   "source": [
    "![](./_static/images/aai-institute-cover.svg)"
   ]
  },
  {
   "cell_type": "markdown",
   "metadata": {
    "editable": true,
    "slideshow": {
     "slide_type": "slide"
    }
   },
   "source": [
    "# Introduction"
   ]
  },
  {
   "cell_type": "markdown",
   "metadata": {
    "slideshow": {
     "slide_type": "fragment"
    }
   },
   "source": [
    "Control theory is a field of control engineering and applied mathematics that deals with influencing the behavior of dynamical systems. The objective is to drive a system towards a desired state by calculating and applying system inputs, while minimizing delay, overshoot, steady-state error, and ensuring stability. The aim is often to achieve a degree of optimal and robust control performance in the presence of uncertainty. "
   ]
  },
  {
   "cell_type": "markdown",
   "metadata": {
    "slideshow": {
     "slide_type": "subslide"
    }
   },
   "source": [
    "The fundamental challenge in control theory is to determine a technically feasible way to act on a system so its behavior closely matches some desired behavior, despite uncertainties in the system's model and external disturbances. The key elements of this control problem are:\n",
    "\n",
    "- **Desired behavior** The target behavior must be clearly defined as part of the control design problem. Common examples include tracking a reference trajectory, regulating around a setpoint, or optimizing some performance index.\n",
    "- **Feasibility** The control solution must satisfy constraints on the available inputs, actuator capabilities, safety limits, etc. The controller must be realizable with available technology.\n",
    "- **Uncertainty** Precise knowledge of the system is rarely possible. There will always be some uncertainty in the model parameters, unmodeled dynamics, disturbances, and measurements.\n",
    "- **Action** Control action is applied through manipulated inputs that command the system actuators. The choice of manipulated inputs and pairing with actuators is a key design decision."
   ]
  },
  {
   "cell_type": "markdown",
   "metadata": {
    "slideshow": {
     "slide_type": "subslide"
    }
   },
   "source": [
    "- **Disturbances** Real systems experience unknown external disturbances that affect the system behavior and must be accounted for. Rejecting disturbances is often a key control objective.\n",
    "- **Approximate behavior** Due to uncertainty, no controller can achieve perfect setpoint tracking or disturbance rejection. There will always be some approximation error. Controllers must be designed to achieve some acceptable level of performance in spite of these challenges.\n",
    "- **Measurements** Measuring the system outputs is essential for closing the feedback loop and allowing the controller to determine the effect of its inputs on the system behavior. Noise on measurements must also be accounted for."
   ]
  },
  {
   "cell_type": "markdown",
   "metadata": {
    "slideshow": {
     "slide_type": "subslide"
    }
   },
   "source": [
    "In this training, we will focus on classical control methods applied to linear time-invariant (LTI) systems. We will model an inverted pendulum system, estimate its parameters, analyze stability/controllability/observability, design a state observer, and synthesize PID and LQR controllers. These tools will demonstrate how to design controllers that are robust to uncertainty and reject disturbances for stable control."
   ]
  },
  {
   "cell_type": "markdown",
   "metadata": {},
   "source": [
    "For this training we will use the [Python Control Systems Library (python-control)](https://python-control.readthedocs.io/en/0.9.4/). It is a Python package that implements basic operations for analysis and design of feedback control systems.\n",
    "\n",
    "We will use make use of helper classes and functions classes and functions that we will use throughout the rest of the notebook. The most important of which are:\n",
    "\n",
    "- {py:class}`~training_classical_control.inverted_pendulum.InvertedPendulumEnv`\n",
    "- {py:class}`~training_classical_control.control.FeedbackController`\n",
    "- {py:class}`~training_classical_control.control.Observer`\n",
    "- {py:class}`~training_classical_control.control.ConstantController`\n",
    "- {py:class}`~training_classical_control.control.RandomController`\n",
    "- {py:class}`~training_classical_control.control.ProportionalController`\n",
    "- {py:class}`~training_classical_control.environment.SimulationResults`\n",
    "- {py:func}`~training_classical_control.environment.simulate_environment`"
   ]
  },
  {
   "cell_type": "markdown",
   "metadata": {
    "slideshow": {
     "slide_type": "slide"
    }
   },
   "source": [
    "## Branches of Control Theory"
   ]
  },
  {
   "cell_type": "markdown",
   "metadata": {
    "editable": true,
    "slideshow": {
     "slide_type": "subslide"
    }
   },
   "source": [
    ":::{figure} _static/images/20_control_theory_map.png\n",
    "---\n",
    "name: map-control-theory\n",
    "---\n",
    "[The Map of Control Theory](https://engineeringmedia.com/map-of-control)\n",
    ":::"
   ]
  },
  {
   "cell_type": "markdown",
   "metadata": {
    "editable": true,
    "slideshow": {
     "slide_type": "subslide"
    }
   },
   "source": [
    "There are different branches of Control Theory:\n",
    "\n",
    "- **Classical Control**\n",
    "\n",
    "  deals with the behavior of linear dynamical systems with inputs, and how their behavior is modified by feedback, using the Laplace transform as a basic tool to model such systems. It is limited to single-input and single-output (**SISO**) system design.\n",
    "  \n",
    "  The most common controllers designed using classical control theory are PID controllers.\n",
    " \n",
    "- **Modern Control**\n",
    "\n",
    "  deals with the behavior of linear or non-linear dynamical systems with inputs, and how their behavior is modified by feedback, using the state-space representation as a basic tool to model such systems. It can deal with multiple-input and multiple-output (**MIMO**) systems.\n",
    "  \n",
    "  Optimal, adaptive and robust control theories come under this division."
   ]
  },
  {
   "cell_type": "markdown",
   "metadata": {
    "slideshow": {
     "slide_type": "subslide"
    }
   },
   "source": [
    "- **Optimal Control**\n",
    "\n",
    "  deals with finding a control for a dynamical system over a period of time such that an objective function is optimized.\n",
    "  \n",
    "- **Adaptive Control**\n",
    "\n",
    "  adapt to a controlled system with parameters which vary, or are initially uncertain.\n",
    " \n",
    "- **Robust Control**\n",
    "  \n",
    "  an approach to controller design that explicitly deals with uncertainty."
   ]
  },
  {
   "cell_type": "markdown",
   "metadata": {
    "slideshow": {
     "slide_type": "slide"
    }
   },
   "source": [
    "# Control Theory and Machine Learning\n",
    "\n",
    "Modern machine learning and control theory share deep theoretical connections. Framing machine learning problems as dynamical systems, which we refer to as **control theory for machine learning**, opens up new ways to analyze neural network training and design adaptive controllers.\n",
    "\n",
    "Conversely, we can use machine learning to help solve large and complex control problems, which we refer to as **machine learning for control theory**."
   ]
  },
  {
   "cell_type": "markdown",
   "metadata": {
    "slideshow": {
     "slide_type": "subslide"
    }
   },
   "source": [
    "## Control Theory for Machine Learning\n",
    "\n",
    "Control theory provides key concepts to guide the development of machine learning algorithms.\n",
    "\n",
    "- Viewing neural networks like deep residual networks (ResNet) as dynamical systems allows control stability and optimality principles to ensure robust training.\n",
    "- Framing learning as an optimization problem enables control techniques like differential dynamic programming to improve convergence of algorithms like stochastic gradient descent.\n",
    "- The need to balance exploration and exploitation in reinforcement learning is addressed by stochastic optimal control theory.\n",
    "\n",
    "Overall, control theory provides a rigorous mathematical framework to guarantee crucial learning properties. The system dynamics perspective further allows the training process itself to be controlled for faster convergence. Bridging machine learning with concepts from control is leading to new theories and training methods with stability and optimality guarantees."
   ]
  },
  {
   "cell_type": "markdown",
   "metadata": {
    "slideshow": {
     "slide_type": "subslide"
    }
   },
   "source": [
    "## Machine Learning for Control Theory\n",
    "\n",
    "Modern machine learning provides useful tools and perspectives for control theory. Framing control problems as data modeling tasks enables powerful function approximation, estimation, and optimization techniques from machine learning to be applied. For example:\n",
    "\n",
    "- Neural networks can learn to approximate complex dynamics for model predictive control (MPC).\n",
    "- Reinforcement learning explores optimal policies like dynamic programming to control complex robots.\n",
    "- Kernel methods enable non-parametric system identification without relying on predefined model structures.\n",
    "- The Koopman operator is a data-driven tool to infer properties and facilitate control of unknown nonlinear systems."
   ]
  },
  {
   "cell_type": "markdown",
   "metadata": {
    "slideshow": {
     "slide_type": "subslide"
    }
   },
   "source": [
    "Beyond specific techniques, a machine learning viewpoint focuses on what can be learned from data about a control system's unknown dynamics. This data-driven approach is key for adaptive and nonlinear control of complex systems.\n",
    "\n",
    "If you want to learn to learn more about this specific topic, consider attending our [Machine Learning Control](https://transferlab.ai/trainings/planning-and-control/) training."
   ]
  },
  {
   "cell_type": "markdown",
   "metadata": {
    "slideshow": {
     "slide_type": "subslide"
    }
   },
   "source": [
    "## Control Theory and Reinforcement Learning\n",
    "\n",
    "The predominant sub-field of Machine Learning is Supervised Learning. Its goal is make the output of the model mimic the labels y given in the training set. In that setting, the labels gave an unambiguous **right answer** for each of the inputs.\n",
    "\n",
    "In Reinforcement Learning (RL), we do not have labels for the inputs and instead have to rely on a **reward function**, which indicates to the learning agent (i.e. model) when it is doing well, and when it is doing poorly.\n",
    "\n",
    "RL studies how to use past data (experience) to enhance (learning) the future manipulation of a system, which is precisely the scope of Control Theory. Despite that, the two communities have remained disjointed and that has led to the co-development of vastly different approaches to the same problems."
   ]
  },
  {
   "cell_type": "markdown",
   "metadata": {
    "slideshow": {
     "slide_type": "subslide"
    }
   },
   "source": [
    "The main differences between the two lie in how the system is modeled and the approaches taken to design controllers/agents:\n",
    "\n",
    "- In Control Theory, we explicitly model the system using knowledge about the equations governing its behaviour, by estimating the parameters of such equations or by fitting a model on measurements from the system.\n",
    "- Whereas in RL, we do not generally model the system and instead learn directly the agent that maximizes the expected reward while interacting with the environment."
   ]
  },
  {
   "cell_type": "markdown",
   "metadata": {},
   "source": [
    ":::{figure} _static/images/20_feedback_block_diagram.svg\n",
    "---\n",
    "name: feedback-control-block\n",
    "---\n",
    "Feedback Control in Control Engineering\n",
    ":::\n",
    "\n",
    ":::{figure} _static/images/20_reinforcement_learning_block_diagram.svg\n",
    "---\n",
    "name: rl-block\n",
    "---\n",
    "Feedback Control in Reinforcement Learning\n",
    ":::"
   ]
  },
  {
   "cell_type": "markdown",
   "metadata": {
    "slideshow": {
     "slide_type": "fragment"
    }
   },
   "source": [
    "### Terminology\n",
    "\n",
    "Here are a list of terms commonly used in Reinforcement Learning, and their control counterparts:\n",
    "\n",
    "<ol type=\"a\">\n",
    "    <li><b>Environment</b> = System</li>\n",
    "    <li><b>Agent (Policy)</b> = Controller or Regulator</li>\n",
    "    <li><b>Action</b> = Decision or Control</li>\n",
    "    <li><b>Observation</b> = Measurement</li>\n",
    "    <li><b>Reward</b> = (Opposite of) Cost</li>\n",
    "</ol>"
   ]
  },
  {
   "cell_type": "markdown",
   "metadata": {
    "slideshow": {
     "slide_type": "subslide"
    }
   },
   "source": [
    "If you want to learn about reinforcement learning, consider attending our [Safe and efficient deep reinforcement learning](https://transferlab.ai/trainings/intro-rl/) training."
   ]
  },
  {
   "cell_type": "markdown",
   "metadata": {
    "slideshow": {
     "slide_type": "slide"
    }
   },
   "source": [
    "# System"
   ]
  },
  {
   "cell_type": "markdown",
   "metadata": {
    "editable": true,
    "slideshow": {
     "slide_type": "subslide"
    }
   },
   "source": [
    "## Inverted Pendulum\n",
    "\n",
    ":::{figure} _static/images/20_inverted_pendulum_photo.png\n",
    "---\n",
    "name: inverted-pendulum\n",
    "---\n",
    "Balancing cart, a simple robotics system circa 1976 - [Wikipedia](https://en.wikipedia.org/wiki/Inverted_pendulum).\n",
    ":::\n",
    "\n",
    "An inverted pendulum is a pendulum that has its center of mass above its pivot point. It is unstable and without additional help will fall over.\n",
    "\n",
    "The inverted pendulum is a classic problem in dynamics and control theory and is used as a benchmark for testing control strategies. It is often implemented with the pivot point mounted on a cart that can move horizontally under control of an electronic servo system as shown in the image."
   ]
  },
  {
   "cell_type": "code",
   "execution_count": null,
   "metadata": {
    "editable": true,
    "slideshow": {
     "slide_type": "subslide"
    },
    "tags": [
     "remove-input"
    ]
   },
   "outputs": [],
   "source": [
    "%%html\n",
    "<iframe width=\"800\" height=\"600\" src=\"https://www.youtube-nocookie.com/embed/AuAZ5zOP0yQ?si=1Lnyg2ghX6BJEEVX&amp;start=55\" title=\"YouTube video player\" frameborder=\"0\" allow=\"accelerometer; autoplay; clipboard-write; encrypted-media; gyroscope; picture-in-picture; web-share\" allowfullscreen></iframe>"
   ]
  },
  {
   "cell_type": "markdown",
   "metadata": {
    "slideshow": {
     "slide_type": "subslide"
    }
   },
   "source": [
    "For the simulation we will use a modified version of the [CartPole](https://gymnasium.farama.org/environments/classic_control/cart_pole/) environment from [gymnasium](https://gymnasium.farama.org/).\n",
    "\n",
    "It has the following possible action and observations:\n",
    "\n",
    "<table class=\"docutils align-default\">\n",
    "<thead>\n",
    "<tr class=\"row-odd\"><th class=\"head\"><p>Num</p></th>\n",
    "<th class=\"head\"><p>Action</p></th>\n",
    "<th class=\"head\"><p>Control Min</p></th>\n",
    "<th class=\"head\"><p>Control Max</p></th>\n",
    "</tr>\n",
    "</thead>\n",
    "<tbody>\n",
    "<tr class=\"row-even\"><td><p>0</p></td>\n",
    "<td><p>Force applied on the cart</p></td>\n",
    "<td><p>-10</p></td>\n",
    "<td><p>10</p></td>\n",
    "</tr>\n",
    "</tbody>\n",
    "</table>\n",
    "\n",
    "<table class=\"docutils align-default\">\n",
    "<thead>\n",
    "<tr class=\"row-odd\"><th class=\"head\"><p>Num</p></th>\n",
    "<th class=\"head\"><p>Observation</p></th>\n",
    "<th class=\"head\"><p>Min</p></th>\n",
    "<th class=\"head\"><p>Max</p></th>\n",
    "</tr>\n",
    "</thead>\n",
    "<tbody>\n",
    "<tr class=\"row-even\"><td><p>0</p></td>\n",
    "<td><p>position of the cart along the linear surface</p></td>\n",
    "<td><p>-3.0</p></td>\n",
    "<td><p>3.0</p></td>\n",
    "</tr>\n",
    "<tr class=\"row-even\"><td><p>1</p></td>\n",
    "<td><p>linear velocity of the cart</p></td>\n",
    "<td><p>-Inf</p></td>\n",
    "<td><p>Inf</p></td>\n",
    "</tr>\n",
    "</tr>\n",
    "<tr class=\"row-odd\"><td><p>2</p></td>\n",
    "<td><p>vertical angle of the pole on the cart</p></td>\n",
    "<td><p>-24</p></td>\n",
    "<td><p>24</p></td>\n",
    "<tr class=\"row-odd\"><td><p>3</p></td>\n",
    "<td><p>angular velocity of the pole on the cart</p></td>\n",
    "<td><p>-Inf</p></td>\n",
    "<td><p>Inf</p></td>\n",
    "</tr>\n",
    "</tbody>\n",
    "</table>"
   ]
  },
  {
   "cell_type": "code",
   "execution_count": null,
   "metadata": {
    "editable": true,
    "slideshow": {
     "slide_type": ""
    },
    "tags": [
     "remove-input"
    ]
   },
   "outputs": [],
   "source": [
    "env = create_inverted_pendulum_environment(max_steps=200, theta_threshold=np.inf)\n",
    "results = simulate_environment(env)\n",
    "show_video(results.frames, fps=1 / env.dt)"
   ]
  },
  {
   "cell_type": "markdown",
   "metadata": {
    "slideshow": {
     "slide_type": "subslide"
    }
   },
   "source": [
    "```{exercise}\n",
    ":label: inverted-pendulum-questions\n",
    "\n",
    "- What can we say about the system? Is it stable? \n",
    "- How can we balance the pendulum?\n",
    "```"
   ]
  },
  {
   "cell_type": "markdown",
   "metadata": {
    "slideshow": {
     "slide_type": "subslide"
    }
   },
   "source": [
    "## Naive Control\n",
    "\n",
    "If we try to balance an elongated object on our hand, we intuitively try to move our hand in the same direction in which the object is falling. We can use this intuition to make a very simple and straightforward controller.\n",
    "\n",
    "$$\n",
    "u(t) = K * \\theta(t)\n",
    "$$\n",
    "\n",
    "with $K \\gt 0$"
   ]
  },
  {
   "cell_type": "markdown",
   "metadata": {},
   "source": [
    "In order to test this idea we implement the {py:class}`~training_classical_control.control.ProportionalController` class and use it with our environment with different values of the gain `K`."
   ]
  },
  {
   "cell_type": "code",
   "execution_count": null,
   "metadata": {
    "editable": true,
    "slideshow": {
     "slide_type": ""
    },
    "tags": [
     "remove-input"
    ]
   },
   "outputs": [],
   "source": [
    "env = create_inverted_pendulum_environment()\n",
    "\n",
    "for K in [10, 25, 50]:\n",
    "    controller = ProportionalController(K)\n",
    "    results = simulate_environment(env, max_steps=500, controller=controller)\n",
    "    show_video(results.frames, fps=1 / env.dt, title=f\"K = {K}\")"
   ]
  },
  {
   "cell_type": "markdown",
   "metadata": {
    "slideshow": {
     "slide_type": "subslide"
    }
   },
   "source": [
    "Let's plot the trajectories for these values of $K$."
   ]
  },
  {
   "cell_type": "code",
   "execution_count": null,
   "metadata": {
    "editable": true,
    "slideshow": {
     "slide_type": "subslide"
    },
    "tags": [
     "remove-input"
    ]
   },
   "outputs": [],
   "source": [
    "plot_influence_of_K_on_pendulum(K_values=[10, 25, 50])"
   ]
  },
  {
   "cell_type": "markdown",
   "metadata": {
    "slideshow": {
     "slide_type": "slide"
    }
   },
   "source": [
    "# Control Systems Classification\n",
    "\n",
    "There are two types of control loops:\n",
    "\n",
    "- **Open-loop control (feedforward)**\n",
    "\n",
    "  An open-loop control system operates without feedback, which means that the output is not measured or compared to the desired input. They are simple and inexpensive to implement. They are often used in systems where the output does not need to be precisely controlled. For example, a washing machine may use an open-loop control system to regulate the water level.\n",
    "\n",
    "- **Closed-loop control (feedback)**\n",
    "\n",
    "  A closed-loop control system, on the other hand, operates with feedback, meaning that the output is measured, and corrective action is taken to ensure it always matches the desired input. They are more complex and expensive to implement. However, they offer greater precision and accuracy in controlling the system's output. Closed-loop control systems are often used in critical applications, such as aerospace engineering or medical devices"
   ]
  },
  {
   "cell_type": "markdown",
   "metadata": {
    "slideshow": {
     "slide_type": "subslide"
    }
   },
   "source": [
    "## Types of Systems\n",
    "\n",
    "- Time-Invariant (TI) or Time-Variant (TV).\n",
    "- Linear or Non-Linear.\n",
    "- Continuous-time or Discrete-time.\n",
    "- Deterministic or Stochastic."
   ]
  },
  {
   "cell_type": "markdown",
   "metadata": {
    "slideshow": {
     "slide_type": "slide"
    }
   },
   "source": [
    "# Controller Design\n",
    "\n",
    "1. Problem Formulation\n",
    "2. Modeling\n",
    "   1. Define a mathematical model that represents the system.\n",
    "   2. Determine properties of this system: Identifiability, Stability, Observability and Controllability.\n",
    "\n",
    "   3. Determine model's parameters, if they're not known already.\n",
    "   4. (Optional) Linearize model around operating point.\n",
    "   5. (Optional) If it's a continuous-time system and we're using a digital controller,\n",
    "     discretize it to obtain a discrete-time system."
   ]
  },
  {
   "cell_type": "markdown",
   "metadata": {
    "slideshow": {
     "slide_type": "subslide"
    }
   },
   "source": [
    "3. Control Design\n",
    "\n",
    "   - Design a controller to stabilize the system.\n",
    "4. Evaluation\n",
    "   1. Simulate the closed-loop system in order to validate the controller design.\n",
    "   2. Use controller with actual system."
   ]
  },
  {
   "cell_type": "markdown",
   "metadata": {
    "slideshow": {
     "slide_type": "slide"
    },
    "tags": [
     "remove-cell"
    ]
   },
   "source": [
    "![](./_static/images/aai-institute-cover.svg)"
   ]
  }
 ],
 "metadata": {
  "celltoolbar": "Tags",
  "kernelspec": {
   "display_name": "Python 3 (ipykernel)",
   "language": "python",
   "name": "python3"
  },
  "language_info": {
   "codemirror_mode": {
    "name": "ipython",
    "version": 3
   },
   "file_extension": ".py",
   "mimetype": "text/x-python",
   "name": "python",
   "nbconvert_exporter": "python",
   "pygments_lexer": "ipython3",
   "version": "3.11.3"
  },
  "rise": {
   "footer": "<img src='_static/images/aai-logo.png' alt='logo' height='50em'>",
   "header": "<img src='_static/images/transferlab-logo.svg' alt='logo' height='20em' />",
   "theme": "white"
  },
  "scenes_data": {
   "active_scene": "Default Scene",
   "init_scene": "",
   "scenes": [
    "Default Scene"
   ]
  },
  "toc": {
   "base_numbering": 1,
   "nav_menu": {
    "height": "148px",
    "width": "256px"
   },
   "number_sections": false,
   "sideBar": true,
   "skip_h1_title": false,
   "title_cell": "Table of Contents",
   "title_sidebar": "Contents",
   "toc_cell": false,
   "toc_position": {
    "height": "563.2px",
    "left": "125px",
    "top": "116.469px",
    "width": "315.6px"
   },
   "toc_section_display": true,
   "toc_window_display": true
  },
  "varInspector": {
   "cols": {
    "lenName": 16,
    "lenType": 16,
    "lenVar": 40
   },
   "kernels_config": {
    "python": {
     "delete_cmd_postfix": "",
     "delete_cmd_prefix": "del ",
     "library": "var_list.py",
     "varRefreshCmd": "print(var_dic_list())"
    },
    "r": {
     "delete_cmd_postfix": ") ",
     "delete_cmd_prefix": "rm(",
     "library": "var_list.r",
     "varRefreshCmd": "cat(var_dic_list()) "
    }
   },
   "types_to_exclude": [
    "module",
    "function",
    "builtin_function_or_method",
    "instance",
    "_Feature"
   ],
   "window_display": false
  }
 },
 "nbformat": 4,
 "nbformat_minor": 4
}
