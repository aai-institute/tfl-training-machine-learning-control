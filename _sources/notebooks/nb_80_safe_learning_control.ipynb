{
 "cells": [
  {
   "cell_type": "code",
   "execution_count": null,
   "metadata": {
    "init_cell": true,
    "jupyter": {
     "source_hidden": true
    },
    "scene__Default Scene": true,
    "slideshow": {
     "slide_type": "skip"
    },
    "tags": [
     "ActiveScene"
    ]
   },
   "outputs": [],
   "source": [
    "%%capture\n",
    "%load_ext training_ml_control"
   ]
  },
  {
   "cell_type": "code",
   "execution_count": null,
   "metadata": {
    "init_cell": true,
    "jupyter": {
     "source_hidden": true
    },
    "scene__Default Scene": true,
    "slideshow": {
     "slide_type": "skip"
    },
    "tags": [
     "ActiveScene"
    ]
   },
   "outputs": [],
   "source": [
    "%presentation_style"
   ]
  },
  {
   "cell_type": "markdown",
   "metadata": {
    "slideshow": {
     "slide_type": "slide"
    }
   },
   "source": [
    "```{figure} ./_static/images/aai-institute-cover.png\n",
    ":width: 90%\n",
    ":align: center\n",
    ":alt: aai-institute\n",
    "```"
   ]
  },
  {
   "cell_type": "markdown",
   "metadata": {
    "slideshow": {
     "slide_type": "slide"
    }
   },
   "source": [
    "# Safe Learning in Robotics"
   ]
  },
  {
   "cell_type": "markdown",
   "metadata": {
    "slideshow": {
     "slide_type": "subslide"
    }
   },
   "source": [
    "- Robot learning aims to enable autonomous operation in complex, uncertain environments.\n",
    "- Challenges include partial knowledge of dynamics, sensors, and other agents. \n",
    "- Safety guarantees are crucial but difficult with partial knowledge.\n",
    "- Control theory uses models to provide guarantees. \n",
    "- Reinforcement learning is data-driven for adaptability but lacks guarantees.\n",
    "- Combining model- and data-driven approaches leverages their complementary strengths."
   ]
  },
  {
   "cell_type": "markdown",
   "metadata": {
    "slideshow": {
     "slide_type": "subslide"
    }
   },
   "source": [
    "- Key directions are:\n",
    "  - Robustness against worst-case scenarios.\n",
    "  - Adaptation by learning from observations.\n",
    "  - Leveraging models from domain knowledge and data.\n",
    "\n",
    "- Control provides the basis for safety-critical applications.\n",
    "- Safe RL research has grown rapidly.\n",
    "- Simulation enables RL progress but transferring to real robots remains challenging."
   ]
  },
  {
   "cell_type": "markdown",
   "metadata": {
    "slideshow": {
     "slide_type": "subslide"
    }
   },
   "source": [
    ":::{figure} _static/images/80_comparison_model_driven_data_driven.svg\n",
    ":width: 80%\n",
    "\n",
    "A comparison of model-driven, data-driven, and combined approaches. *Taken from {cite}`brunke_safe_2022`*.\n",
    ":::"
   ]
  },
  {
   "cell_type": "markdown",
   "metadata": {
    "slideshow": {
     "slide_type": "subslide"
    }
   },
   "source": [
    "- The safe learning control problem is formulated as an optimization with 3 main components:\n",
    "\n",
    "  1. System model describing robot dynamics.\n",
    "  2. Cost function defining the control objective. \n",
    "  3. Constraints specifying safety requirements.\n",
    "\n",
    "- The goal is to find a policy fulfilling the task under the safety constraints.\n",
    "- Any of the 3 components could be initially unknown or partially known. "
   ]
  },
  {
   "cell_type": "markdown",
   "metadata": {
    "slideshow": {
     "slide_type": "subslide"
    }
   },
   "source": [
    ":::{figure} _static/images/80_safe_control_block_diagram.svg\n",
    ":width: 80%\n",
    "\n",
    "Block diagram representing safe learning control approaches. *Taken from {cite}`brunke_safe_2022`*.\n",
    ":::"
   ]
  },
  {
   "cell_type": "markdown",
   "metadata": {
    "slideshow": {
     "slide_type": "subslide"
    }
   },
   "source": [
    "## Safety Constraints"
   ]
  },
  {
   "cell_type": "markdown",
   "metadata": {
    "slideshow": {
     "slide_type": "subslide"
    }
   },
   "source": [
    ":::{figure} _static/images/80_safety_levels.svg\n",
    ":width: 100%\n",
    "\n",
    "Illustration of Safety Levels. *Taken from {cite}`brunke_safe_2022`*.\n",
    ":::"
   ]
  },
  {
   "cell_type": "markdown",
   "metadata": {
    "slideshow": {
     "slide_type": "subslide"
    }
   },
   "source": [
    "### Safety level III: constraint satisfaction guaranteed.\n",
    "\n",
    "The system satisfies hard constraints:\n",
    "\n",
    "$$\n",
    "c_k^j(x_k, u_k, w_k) \\le 0\n",
    "$$\n",
    "\n",
    "for all times $k \\in \\{0, \\dots , N\\}$ and constraint indexes $j \\in \\{1, \\dots, n_c\\}$."
   ]
  },
  {
   "cell_type": "markdown",
   "metadata": {
    "slideshow": {
     "slide_type": "subslide"
    }
   },
   "source": [
    "### Safety level II: constraint satisfaction with high probability.\n",
    "\n",
    "The system satisfies probabilistic constraints:\n",
    "\n",
    "$$\n",
    "P\\left[c_k^j(x_k, u_k, w_k ) \\le 0 \\right] \\ge p^j,\n",
    "$$\n",
    "\n",
    "where $P[\\cdot]$ denotes the probability and $p^j \\in (0, 1)$ defines the likelihood of the jth constraint\n",
    "being satisfied, for all times $k \\in \\{0, \\dots , N\\}$ and constraint indexes $j \\in \\{1, \\dots, n_c\\}$."
   ]
  },
  {
   "cell_type": "markdown",
   "metadata": {
    "slideshow": {
     "slide_type": "subslide"
    }
   },
   "source": [
    "### Safety level I: constraint satisfaction encouraged\n",
    "\n",
    "The system encourages constraint satisfaction. This can be achieved in different ways:\n",
    "\n",
    "- One way is to add a penalty term to the objective function that discourages\n",
    "  the violation of constraints with a high cost. A non-negative $\\epsilon_j$ is added\n",
    "  to the right-hand side of the inequality in Safety level III, for all times $k \\in \\{0, \\dots , N\\}$\n",
    "  and constraint indexes $j \\in \\{1, \\dots, n_c\\}$:\n",
    "  \n",
    "  $$\n",
    "  c_k^j(x_k, u_k, w_k) \\le \\epsilon_j,\n",
    "  $$\n",
    "\n",
    "  and an appropriate penalty term l\u0003 (\u0002) ≥ 0, with l\u0003 (\u0002) = 0 ⇐⇒ \u0002 = 0, is added to the objective\n",
    "  function. The vector \u0002 includes all elements ϵj and is an additional variable of the optimization problem."
   ]
  },
  {
   "cell_type": "markdown",
   "metadata": {
    "slideshow": {
     "slide_type": "subslide"
    }
   },
   "source": [
    "- Another way is to provide guarantees on the expected value of the constraint but only at a trajectory level:\n",
    "\n",
    "  $$\n",
    "  J_{c^j} = E\\left[ \\sum\\limits_{k=0}^{N-1} c_k^j(x_k, u_k, w_k) \\right] \\le d_j,\n",
    "  $$\n",
    "\n",
    "  where $J_{c^j}$ represents the expected total constraint cost, and $d_j$ defines the constraint threshold."
   ]
  },
  {
   "cell_type": "markdown",
   "metadata": {
    "slideshow": {
     "slide_type": "subslide"
    }
   },
   "source": [
    "#  Safe Learning Control Approaches"
   ]
  },
  {
   "cell_type": "markdown",
   "metadata": {
    "slideshow": {
     "slide_type": "subslide"
    }
   },
   "source": [
    "## Learning uncertain dynamics to safely improve performance\n",
    "\n",
    "These works rely on an apriori model of the robot dynamics. The robot's performance is improved by learning the uncertain dynamics from data. Safety is typically guaranteed based on standard control-theoretic\n",
    "frameworks, achieving safety level II or III."
   ]
  },
  {
   "cell_type": "markdown",
   "metadata": {
    "slideshow": {
     "slide_type": "subslide"
    }
   },
   "source": [
    "## Encouraging safety and robustness in RL\n",
    "\n",
    "These works encompass approaches that usually do not have knowledge of an apriori robot model or the safety constraints. Rather than providing hard safety guarantees, these approaches encourage safe robot operation (safety\n",
    "level I), for example, by penalizing dangerous actions."
   ]
  },
  {
   "cell_type": "markdown",
   "metadata": {
    "slideshow": {
     "slide_type": "subslide"
    }
   },
   "source": [
    "## Certifying learning-based control under dynamics uncertainty\n",
    "\n",
    "These works aim to provide safety certificates for learning-based controllers that do not inherently consider safety\n",
    "constraints. These approaches modify the learning controller output by constraining the control policy, leveraging a known safe backup controller, or modifying the controller output directly to achieve stability and/or constraint satisfaction. They typically achieve safety level II or III."
   ]
  },
  {
   "cell_type": "markdown",
   "metadata": {
    "slideshow": {
     "slide_type": "subslide"
    }
   },
   "source": [
    "### Model Predictive Safety Filter\n",
    "\n",
    "- General learning-based control, particularly Reinforcement Learning,\n",
    "  has shown great success in solving complex and high-dimensional control tasks.\n",
    "- However most techniques cannot ensure that safety constraints\n",
    "  under physical limitations are met, particularly during learning iterations.\n",
    "- To address this limitation, safety frameworks emerged from control theory.\n",
    "- MPC techniques can be used for such safety filters to turn a safety-critical dynamical system\n",
    "  into an inherently safe system to which any learning-based controller\n",
    "  without safety certificates can be applied out of the box."
   ]
  },
  {
   "cell_type": "markdown",
   "metadata": {
    "slideshow": {
     "slide_type": "subslide"
    }
   },
   "source": [
    ":::{figure} _static/images/80_safety_filter.svg\n",
    ":width: 60%\n",
    "\n",
    "Based on the current state $x$, a learning-based controller provides an input\n",
    "$u_L = \\pi_L(x) \\in \\mathbb{R}^m$, which is processed by the safety filter $u = \\pi_S(x, u_S)$ and applied to the real system. *Taken from {cite}`hewing_learningbased_2020`*.\n",
    ":::"
   ]
  },
  {
   "cell_type": "markdown",
   "metadata": {
    "slideshow": {
     "slide_type": "subslide"
    }
   },
   "source": [
    "- The idea is to address the solution to the stochastic optimal control problem\n",
    "  through learning-based control methods.\n",
    "- The proposed learning-based control input $u_L(k)$ at time $k$ is\n",
    "  then verified in terms of safety by computing a safe backup trajectory from the one-step predicted\n",
    "  state $x_{1|k}$ to a safe terminal set $X_f$ or by modifying $u_L(k)$ as little as possible\n",
    "  while still providing a safe backup trajectory.\n",
    "- The optimization problem necessary for validating safety of the input\n",
    "  is computationally cheaper than a direct optimization of the task\n",
    "  and can often be carried out over a reasonably short horizon."
   ]
  },
  {
   "cell_type": "markdown",
   "metadata": {
    "slideshow": {
     "slide_type": "subslide"
    }
   },
   "source": [
    "The model predictive safety filter $\\pi_S$ is realized through an MPC-like optimization problem of the form:\n",
    "\n",
    "$$\n",
    "\\begin{array}{ll}\n",
    "\\displaystyle\\min_{U} & || u_{0|k} - u_L(k)||\\\\\n",
    "\\text{subject to} & x_{i+1|k} = f(x_{i|k}, u_{i|k}, i + k)\\\\\n",
    "& U = [u_{0|k}, \\dots, u_{N|k}] \\in U_j, \\forall j = 1, \\dots, n_{cu}\\\\\n",
    "& X = [x_{0|k}, \\dots, x_{N|k}] \\in X_j, \\forall j = 1, \\dots, n_{cx}\\\\\n",
    "& x_{N|k} \\in X_f \\\\\n",
    "& x_{0|k} = x_k\n",
    "\\end{array}\n",
    "$$"
   ]
  },
  {
   "cell_type": "markdown",
   "metadata": {
    "slideshow": {
     "slide_type": "subslide"
    }
   },
   "source": [
    ":::{figure} _static/images/80_safe_learning_approaches.svg\n",
    ":width: 70%\n",
    "\n",
    "Summary of safe learning control approaches. *Taken from {cite}`brunke_safe_2022`*.\n",
    ":::"
   ]
  }
 ],
 "metadata": {
  "celltoolbar": "Slideshow",
  "kernelspec": {
   "display_name": "Python 3 (ipykernel)",
   "language": "python",
   "name": "python3"
  },
  "language_info": {
   "codemirror_mode": {
    "name": "ipython",
    "version": 3
   },
   "file_extension": ".py",
   "mimetype": "text/x-python",
   "name": "python",
   "nbconvert_exporter": "python",
   "pygments_lexer": "ipython3",
   "version": "3.10.12"
  },
  "rise": {
   "footer": "<img src='_static/images/aai-logo.png' alt='logo' height='50em'>",
   "header": "<img src='_static/images/transferlab-logo.svg' alt='logo' height='20em' />",
   "theme": "white"
  },
  "scenes_data": {
   "active_scene": "Default Scene",
   "init_scene": "Default Scene",
   "scenes": [
    "Default Scene"
   ]
  },
  "toc": {
   "base_numbering": 1,
   "nav_menu": {
    "height": "148px",
    "width": "256px"
   },
   "number_sections": false,
   "sideBar": true,
   "skip_h1_title": false,
   "title_cell": "Table of Contents",
   "title_sidebar": "Contents",
   "toc_cell": false,
   "toc_position": {
    "height": "563.2px",
    "left": "125px",
    "top": "116.469px",
    "width": "315.6px"
   },
   "toc_section_display": true,
   "toc_window_display": true
  },
  "varInspector": {
   "cols": {
    "lenName": 16,
    "lenType": 16,
    "lenVar": 40
   },
   "kernels_config": {
    "python": {
     "delete_cmd_postfix": "",
     "delete_cmd_prefix": "del ",
     "library": "var_list.py",
     "varRefreshCmd": "print(var_dic_list())"
    },
    "r": {
     "delete_cmd_postfix": ") ",
     "delete_cmd_prefix": "rm(",
     "library": "var_list.r",
     "varRefreshCmd": "cat(var_dic_list()) "
    }
   },
   "types_to_exclude": [
    "module",
    "function",
    "builtin_function_or_method",
    "instance",
    "_Feature"
   ],
   "window_display": false
  }
 },
 "nbformat": 4,
 "nbformat_minor": 4
}
